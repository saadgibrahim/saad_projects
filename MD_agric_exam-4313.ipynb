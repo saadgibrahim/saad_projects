{
 "cells": [
  {
   "cell_type": "code",
   "execution_count": 1,
   "id": "35c77908-0c7a-41a1-9679-53d094d346de",
   "metadata": {},
   "outputs": [],
   "source": [
    "import pandas as pd # importing the Pandas package with an alias, pd\n",
    "from sqlalchemy import create_engine, text # Importing the SQL interface. If this fails, run !pip install sqlalchemy in another cell.\n",
    "import matplotlib.pyplot as plt\n",
    "import seaborn as sns\n",
    "\n",
    "\n",
    "# Create an engine for the database\n",
    "engine = create_engine('sqlite:///MD_agric_exam-4313.csv') #Make sure to have the .db file in the same directory as this notebook, and the file name matches."
   ]
  },
  {
   "cell_type": "code",
   "execution_count": 3,
   "id": "f3d23aea-bb3b-473b-9168-dc2611a622c0",
   "metadata": {},
   "outputs": [
    {
     "data": {
      "text/html": [
       "<div>\n",
       "<style scoped>\n",
       "    .dataframe tbody tr th:only-of-type {\n",
       "        vertical-align: middle;\n",
       "    }\n",
       "\n",
       "    .dataframe tbody tr th {\n",
       "        vertical-align: top;\n",
       "    }\n",
       "\n",
       "    .dataframe thead th {\n",
       "        text-align: right;\n",
       "    }\n",
       "</style>\n",
       "<table border=\"1\" class=\"dataframe\">\n",
       "  <thead>\n",
       "    <tr style=\"text-align: right;\">\n",
       "      <th></th>\n",
       "      <th>Field_ID</th>\n",
       "      <th>Elevation</th>\n",
       "      <th>Rainfall</th>\n",
       "      <th>Min_temperature_C</th>\n",
       "      <th>Max_temperature_C</th>\n",
       "      <th>pH</th>\n",
       "      <th>Pollution_level</th>\n",
       "      <th>Plot_size</th>\n",
       "      <th>Annual_yield</th>\n",
       "      <th>Crop_type</th>\n",
       "    </tr>\n",
       "  </thead>\n",
       "  <tbody>\n",
       "    <tr>\n",
       "      <th>0</th>\n",
       "      <td>1162</td>\n",
       "      <td>494.95615</td>\n",
       "      <td>1507.6</td>\n",
       "      <td>-5.4</td>\n",
       "      <td>31.0</td>\n",
       "      <td>6.859436</td>\n",
       "      <td>0.007034</td>\n",
       "      <td>3.6</td>\n",
       "      <td>1.617421</td>\n",
       "      <td>coffee</td>\n",
       "    </tr>\n",
       "    <tr>\n",
       "      <th>1</th>\n",
       "      <td>5108</td>\n",
       "      <td>663.73390</td>\n",
       "      <td>581.0</td>\n",
       "      <td>-4.7</td>\n",
       "      <td>30.9</td>\n",
       "      <td>5.603219</td>\n",
       "      <td>0.289643</td>\n",
       "      <td>4.2</td>\n",
       "      <td>2.532497</td>\n",
       "      <td>potato</td>\n",
       "    </tr>\n",
       "    <tr>\n",
       "      <th>2</th>\n",
       "      <td>3504</td>\n",
       "      <td>396.87990</td>\n",
       "      <td>1715.1</td>\n",
       "      <td>-6.1</td>\n",
       "      <td>31.7</td>\n",
       "      <td>5.774116</td>\n",
       "      <td>0.000409</td>\n",
       "      <td>2.6</td>\n",
       "      <td>1.262207</td>\n",
       "      <td>banana</td>\n",
       "    </tr>\n",
       "    <tr>\n",
       "      <th>3</th>\n",
       "      <td>5351</td>\n",
       "      <td>594.80370</td>\n",
       "      <td>1748.0</td>\n",
       "      <td>-4.3</td>\n",
       "      <td>33.6</td>\n",
       "      <td>6.477415</td>\n",
       "      <td>0.088777</td>\n",
       "      <td>7.9</td>\n",
       "      <td>4.351564</td>\n",
       "      <td>wheat</td>\n",
       "    </tr>\n",
       "    <tr>\n",
       "      <th>4</th>\n",
       "      <td>905</td>\n",
       "      <td>609.49800</td>\n",
       "      <td>1395.8</td>\n",
       "      <td>-4.5</td>\n",
       "      <td>31.3</td>\n",
       "      <td>5.419586</td>\n",
       "      <td>0.050023</td>\n",
       "      <td>10.8</td>\n",
       "      <td>5.034791</td>\n",
       "      <td>cassava</td>\n",
       "    </tr>\n",
       "    <tr>\n",
       "      <th>...</th>\n",
       "      <td>...</td>\n",
       "      <td>...</td>\n",
       "      <td>...</td>\n",
       "      <td>...</td>\n",
       "      <td>...</td>\n",
       "      <td>...</td>\n",
       "      <td>...</td>\n",
       "      <td>...</td>\n",
       "      <td>...</td>\n",
       "      <td>...</td>\n",
       "    </tr>\n",
       "    <tr>\n",
       "      <th>995</th>\n",
       "      <td>2202</td>\n",
       "      <td>572.95935</td>\n",
       "      <td>625.6</td>\n",
       "      <td>-5.5</td>\n",
       "      <td>31.0</td>\n",
       "      <td>5.258964</td>\n",
       "      <td>0.086330</td>\n",
       "      <td>1.2</td>\n",
       "      <td>0.750675</td>\n",
       "      <td>wheat</td>\n",
       "    </tr>\n",
       "    <tr>\n",
       "      <th>996</th>\n",
       "      <td>2531</td>\n",
       "      <td>552.80945</td>\n",
       "      <td>398.1</td>\n",
       "      <td>-5.9</td>\n",
       "      <td>33.4</td>\n",
       "      <td>4.607136</td>\n",
       "      <td>0.130178</td>\n",
       "      <td>0.8</td>\n",
       "      <td>0.449790</td>\n",
       "      <td>wheat</td>\n",
       "    </tr>\n",
       "    <tr>\n",
       "      <th>997</th>\n",
       "      <td>1040</td>\n",
       "      <td>678.22504</td>\n",
       "      <td>564.4</td>\n",
       "      <td>-4.6</td>\n",
       "      <td>31.7</td>\n",
       "      <td>5.567556</td>\n",
       "      <td>0.448149</td>\n",
       "      <td>1.2</td>\n",
       "      <td>0.492988</td>\n",
       "      <td>maize</td>\n",
       "    </tr>\n",
       "    <tr>\n",
       "      <th>998</th>\n",
       "      <td>58</td>\n",
       "      <td>792.65370</td>\n",
       "      <td>928.5</td>\n",
       "      <td>-3.3</td>\n",
       "      <td>31.2</td>\n",
       "      <td>5.102048</td>\n",
       "      <td>0.387350</td>\n",
       "      <td>1.1</td>\n",
       "      <td>0.597557</td>\n",
       "      <td>potato</td>\n",
       "    </tr>\n",
       "    <tr>\n",
       "      <th>999</th>\n",
       "      <td>3334</td>\n",
       "      <td>747.69850</td>\n",
       "      <td>981.5</td>\n",
       "      <td>-3.7</td>\n",
       "      <td>31.0</td>\n",
       "      <td>6.715882</td>\n",
       "      <td>0.541706</td>\n",
       "      <td>11.1</td>\n",
       "      <td>2.867815</td>\n",
       "      <td>coffee</td>\n",
       "    </tr>\n",
       "  </tbody>\n",
       "</table>\n",
       "<p>1000 rows × 10 columns</p>\n",
       "</div>"
      ],
      "text/plain": [
       "     Field_ID  Elevation  Rainfall  Min_temperature_C  Max_temperature_C  \\\n",
       "0        1162  494.95615    1507.6               -5.4               31.0   \n",
       "1        5108  663.73390     581.0               -4.7               30.9   \n",
       "2        3504  396.87990    1715.1               -6.1               31.7   \n",
       "3        5351  594.80370    1748.0               -4.3               33.6   \n",
       "4         905  609.49800    1395.8               -4.5               31.3   \n",
       "..        ...        ...       ...                ...                ...   \n",
       "995      2202  572.95935     625.6               -5.5               31.0   \n",
       "996      2531  552.80945     398.1               -5.9               33.4   \n",
       "997      1040  678.22504     564.4               -4.6               31.7   \n",
       "998        58  792.65370     928.5               -3.3               31.2   \n",
       "999      3334  747.69850     981.5               -3.7               31.0   \n",
       "\n",
       "           pH  Pollution_level  Plot_size  Annual_yield Crop_type  \n",
       "0    6.859436         0.007034        3.6      1.617421    coffee  \n",
       "1    5.603219         0.289643        4.2      2.532497    potato  \n",
       "2    5.774116         0.000409        2.6      1.262207    banana  \n",
       "3    6.477415         0.088777        7.9      4.351564     wheat  \n",
       "4    5.419586         0.050023       10.8      5.034791   cassava  \n",
       "..        ...              ...        ...           ...       ...  \n",
       "995  5.258964         0.086330        1.2      0.750675     wheat  \n",
       "996  4.607136         0.130178        0.8      0.449790     wheat  \n",
       "997  5.567556         0.448149        1.2      0.492988     maize  \n",
       "998  5.102048         0.387350        1.1      0.597557    potato  \n",
       "999  6.715882         0.541706       11.1      2.867815    coffee  \n",
       "\n",
       "[1000 rows x 10 columns]"
      ]
     },
     "execution_count": 3,
     "metadata": {},
     "output_type": "execute_result"
    }
   ],
   "source": [
    "pd.read_csv('MD_agric_exam-4313.csv')"
   ]
  },
  {
   "cell_type": "code",
   "execution_count": 5,
   "id": "9d86595d-164c-41cd-8e05-521117a0d237",
   "metadata": {},
   "outputs": [
    {
     "name": "stdout",
     "output_type": "stream",
     "text": [
      "Number of unique crop types: 8\n"
     ]
    }
   ],
   "source": [
    "import pandas as pd\n",
    "\n",
    "# Replace \"path/to/your/file.csv\" with the actual path to your file\n",
    "df = pd.read_csv(\"MD_agric_exam-4313.csv\")\n",
    "\n",
    "# Assuming the column containing crop types is named \"crop_type\" (change if different)\n",
    "unique_crop_types = df[\"Crop_type\"].nunique()\n",
    "\n",
    "print(f\"Number of unique crop types: {unique_crop_types}\")\n"
   ]
  },
  {
   "cell_type": "code",
   "execution_count": 6,
   "id": "df92731c-caca-4e4a-bfb1-2450fea07896",
   "metadata": {},
   "outputs": [
    {
     "name": "stdout",
     "output_type": "stream",
     "text": [
      "Maximum annual yield for 'wheat': 8.99\n"
     ]
    }
   ],
   "source": [
    "import pandas as pd\n",
    "\n",
    "# Replace \"path/to/your/file.csv\" with the actual path to your file\n",
    "df = pd.read_csv(\"MD_agric_exam-4313.csv\")\n",
    "\n",
    "# Assuming the columns are named \"crop_type\" and \"yield\" (change if different)\n",
    "# Filter rows for wheat\n",
    "wheat_data = df[df[\"Crop_type\"] == \"wheat\"]\n",
    "\n",
    "# Find maximum yield and round to 2 decimal places\n",
    "max_yield = wheat_data[\"Annual_yield\"].max()\n",
    "\n",
    "print(f\"Maximum annual yield for 'wheat': {max_yield:.2f}\")\n",
    "\n"
   ]
  },
  {
   "cell_type": "code",
   "execution_count": 7,
   "id": "e826a049-1fc2-4c7b-853d-5027252493d0",
   "metadata": {},
   "outputs": [
    {
     "name": "stdout",
     "output_type": "stream",
     "text": [
      "Total rainfall for crop types with average pollution level above 0.2: 941959.7\n"
     ]
    }
   ],
   "source": [
    "import pandas as pd\n",
    "\n",
    "# Replace \"path/to/your/file.csv\" with the actual path to your file\n",
    "df = pd.read_csv(\"MD_agric_exam-4313.csv\")\n",
    "\n",
    "# Assuming the columns are named \"crop_type\", \"pollution_level\", and \"rainfall\" (change if different)\n",
    "# Group by crop type and calculate average pollution level\n",
    "avg_pollution_by_crop = df.groupby(\"Crop_type\")[\"Pollution_level\"].mean()\n",
    "\n",
    "# Filter crop types with average pollution level above 0.2\n",
    "filtered_crops = avg_pollution_by_crop[avg_pollution_by_crop > 0.2].index.tolist()\n",
    "\n",
    "# Filter data for those crop types\n",
    "filtered_df = df[df[\"Crop_type\"].isin(filtered_crops)]\n",
    "\n",
    "# Calculate total rainfall for the filtered data\n",
    "total_rainfall = filtered_df[\"Rainfall\"].sum()\n",
    "\n",
    "# Print the result\n",
    "print(f\"Total rainfall for crop types with average pollution level above 0.2: {total_rainfall}\")\n"
   ]
  },
  {
   "cell_type": "code",
   "execution_count": 8,
   "id": "6541111a-f37c-4cc3-979b-0fa096fa12b5",
   "metadata": {},
   "outputs": [
    {
     "name": "stdout",
     "output_type": "stream",
     "text": [
      "Field ID 1458: Temperature range = 40.70 degrees Celsius\n",
      "Field ID 1895: Temperature range = 35.70 degrees Celsius\n",
      "Field ID 5443: Temperature range = 33.40 degrees Celsius\n"
     ]
    }
   ],
   "source": [
    "import pandas as pd\n",
    "\n",
    "def calculate_temperature_range(data, field_id):\n",
    "  \"\"\"\n",
    "  Calculates the temperature range (Max_temperature_C - Min_temperature_C) for a given field ID.\n",
    "\n",
    "  Args:\n",
    "      data: A pandas DataFrame containing temperature data.\n",
    "      field_id: The ID of the field to calculate the temperature range for.\n",
    "\n",
    "  Returns:\n",
    "      The temperature range for the specified field, or None if the field ID is not found.\n",
    "  \"\"\"\n",
    "\n",
    "  # Assuming the columns are named \"Field_ID\" and \"Temperature_C\" (change if different)\n",
    "  # Filter data for the specified field\n",
    "  field_data = data[data[\"Field_ID\"] == field_id]\n",
    "\n",
    "  # Check if data exists for the field\n",
    "  if field_data.empty:\n",
    "    return None\n",
    "\n",
    "  # Calculate temperature range\n",
    "  temperature_range = field_data[\"Max_temperature_C\"].max() - field_data[\"Min_temperature_C\"].min()\n",
    "\n",
    "  return temperature_range\n",
    "\n",
    "# Replace \"path/to/your/file.csv\" with the actual path to your file\n",
    "data = pd.read_csv(\"MD_agric_exam-4313.csv\")\n",
    "\n",
    "# Call the function for each field ID and print the results\n",
    "field_ids = [1458, 1895, 5443]\n",
    "for field_id in field_ids:\n",
    "  temperature_range = calculate_temperature_range(data, field_id)\n",
    "  if temperature_range is not None:\n",
    "    print(f\"Field ID {field_id}: Temperature range = {temperature_range:.2f} degrees Celsius\")\n",
    "  else:\n",
    "    print(f\"Field ID {field_id}: Data not found\")\n"
   ]
  },
  {
   "cell_type": "code",
   "execution_count": 9,
   "id": "212d37ea-654b-4275-9379-b1fe02dbb098",
   "metadata": {},
   "outputs": [
    {
     "name": "stdout",
     "output_type": "stream",
     "text": [
      "rice\n"
     ]
    }
   ],
   "source": [
    "a = data['Crop_type'].unique()\n",
    "\n",
    "b = float('inf')\n",
    "\n",
    "c = ''\n",
    "\n",
    "for crop in a:\n",
    "\n",
    "    d = data[data['Crop_type'] == crop]['Min_temperature_C'].mean()\n",
    "\n",
    "    if d < b:\n",
    "\n",
    "        b = d\n",
    "\n",
    "        c = crop\n",
    "\n",
    "print(c)"
   ]
  },
  {
   "cell_type": "code",
   "execution_count": 11,
   "id": "2b50a5f9-bd54-454b-b47a-86bb3c969658",
   "metadata": {},
   "outputs": [
    {
     "name": "stdout",
     "output_type": "stream",
     "text": [
      "Total plot size for plots with pH < 5.5: 1731.8999999999999\n"
     ]
    }
   ],
   "source": [
    "import pandas as pd\n",
    "\n",
    "# Replace \"path/to/your/file.csv\" with the actual path to your file\n",
    "df = pd.read_csv(\"MD_agric_exam-4313.csv\")\n",
    "\n",
    "# Assuming the columns are named \"pH\" and \"Plot_Size\" (change if different)\n",
    "# Filter data for plots with pH less than 5.5\n",
    "filtered_data = df[df[\"pH\"] < 5.5]\n",
    "\n",
    "# Calculate total plot size\n",
    "total_plot_size = filtered_data[\"Plot_size\"].sum()\n",
    "\n",
    "# Print the result\n",
    "print(f\"Total plot size for plots with pH < 5.5: {total_plot_size}\")\n"
   ]
  },
  {
   "cell_type": "code",
   "execution_count": 12,
   "id": "747651cc-7476-4a12-9793-ffbf76a31287",
   "metadata": {},
   "outputs": [
    {
     "name": "stdout",
     "output_type": "stream",
     "text": [
      "Number of rows in the filtered dataset: 319\n"
     ]
    }
   ],
   "source": [
    "import pandas as pd\n",
    "\n",
    "# Replace \"path/to/your/file.csv\" with the actual path to your file\n",
    "df = pd.read_csv(\"MD_agric_exam-4313.csv\")\n",
    "\n",
    "# Assuming the columns are named \"Min_temperature_C\" and \"Max_temperature_C\" (change if different)\n",
    "# Filter data based on temperature conditions\n",
    "filtered_df = df[(df[\"Min_temperature_C\"] < -5) & (df[\"Max_temperature_C\"] > 30)]\n",
    "\n",
    "# Count and print the number of rows in the filtered DataFrame\n",
    "number_of_rows = len(filtered_df)\n",
    "print(f\"Number of rows in the filtered dataset: {number_of_rows}\")\n",
    "\n",
    "# Print the filtered DataFrame (optional)\n",
    "# print(filtered_df)\n"
   ]
  },
  {
   "cell_type": "code",
   "execution_count": 13,
   "id": "26dc2c0c-4f21-4561-82df-e96da4cfea84",
   "metadata": {},
   "outputs": [
    {
     "name": "stdout",
     "output_type": "stream",
     "text": [
      "Standard deviation of rainfall for plots larger than median size: 469.62\n"
     ]
    }
   ],
   "source": [
    "import numpy as np\n",
    "import pandas as pd\n",
    "\n",
    "# Replace \"path/to/your/file.csv\" with the actual path to your file\n",
    "df = pd.read_csv(\"MD_agric_exam-4313.csv\")\n",
    "\n",
    "# Assuming the columns are named \"Plot_size\" and \"Rainfall\" (change if different)\n",
    "# Select columns and convert to NumPy arrays\n",
    "plot_size = df[\"Plot_size\"].to_numpy()\n",
    "rainfall = df[\"Rainfall\"].to_numpy()\n",
    "\n",
    "# Calculate the median plot size\n",
    "median_size = np.median(plot_size)\n",
    "\n",
    "# Filter data for plots larger than the median size\n",
    "filtered_data = rainfall[plot_size > median_size]\n",
    "\n",
    "# Calculate and round the standard deviation\n",
    "std_dev = np.std(filtered_data)\n",
    "std_dev_rounded = round(std_dev, 2)\n",
    "\n",
    "# Print the result\n",
    "print(f\"Standard deviation of rainfall for plots larger than median size: {std_dev_rounded}\")\n"
   ]
  },
  {
   "cell_type": "code",
   "execution_count": 15,
   "id": "5239371d-0451-4977-a0c8-27c7d2ee7ea1",
   "metadata": {},
   "outputs": [
    {
     "name": "stdout",
     "output_type": "stream",
     "text": [
      "30.ice\n"
     ]
    }
   ],
   "source": [
    "from collections import Counter\n",
    "\n",
    "# Find the most common Max_temperature_C\n",
    "most_common_max_temp = Counter(data['Max_temperature_C']).most_common(1)[0][0]\n",
    "\n",
    "# Find the least common Crop_type\n",
    "least_common_crop_type = Counter(data['Crop_type']).most_common()[-1][0][-3:]\n",
    "\n",
    "# Concatenate the first three digits of the most common Max_temperature_C\n",
    "# with the last three letters of the least common Crop_type\n",
    "result_string = str(most_common_max_temp)[:3] + least_common_crop_type\n",
    "\n",
    "print(result_string)\n",
    "\n"
   ]
  },
  {
   "cell_type": "code",
   "execution_count": 16,
   "id": "8ec50a8e-af9e-4a75-a79b-83433cb82a8b",
   "metadata": {},
   "outputs": [
    {
     "name": "stderr",
     "output_type": "stream",
     "text": [
      "C:\\Users\\hp\\anaconda3\\envs\\pyhton\\Lib\\site-packages\\seaborn\\categorical.py:641: FutureWarning: The default of observed=False is deprecated and will be changed to True in a future version of pandas. Pass observed=False to retain current behavior or observed=True to adopt the future default and silence this warning.\n",
      "  grouped_vals = vals.groupby(grouper)\n"
     ]
    },
    {
     "data": {
      "image/png": "[encoded data removed]",
      "text/plain": [
       "<Figure size 640x480 with 1 Axes>"
      ]
     },
     "metadata": {},
     "output_type": "display_data"
    }
   ],
   "source": [
    "import pandas as pd\n",
    "import seaborn as sns\n",
    "import matplotlib.pyplot as plt\n",
    "\n",
    "# Replace \"path/to/your/file.csv\" with the actual path to your file\n",
    "df = pd.read_csv(\"MD_agric_exam-4313.csv\")\n",
    "\n",
    "# Assuming the columns are named \"Elevation\" and \"Annual_yield\" (change if different)\n",
    "# Convert elevation to categories\n",
    "df[\"Elevation_category\"] = pd.cut(df[\"Elevation\"], bins=[0, 300, 600, float('inf')], labels=['Low', 'Medium', 'High'])\n",
    "\n",
    "# Create the violin plot\n",
    "sns.violinplot(\n",
    "    x = \"Elevation_category\",\n",
    "    y = \"Annual_yield\",\n",
    "    showmeans=True,\n",
    "    data=df\n",
    ")\n",
    "\n",
    "# Customize the plot (optional)\n",
    "plt.title(\"Distribution of Annual Yield across Elevation Ranges\")\n",
    "plt.xlabel(\"Elevation Category\")\n",
    "plt.ylabel(\"Annual Yield\")\n",
    "plt.xticks(rotation=45)  # Rotate x-axis labels for better readability\n",
    "\n",
    "# Display the plot\n",
    "plt.tight_layout()\n",
    "plt.show()\n"
   ]
  },
  {
   "cell_type": "code",
   "execution_count": 17,
   "id": "8c0aabcd-99a6-4700-bb73-9b35704e020f",
   "metadata": {},
   "outputs": [
    {
     "name": "stdout",
     "output_type": "stream",
     "text": [
      "Total sum of crop type lengths: 42\n"
     ]
    }
   ],
   "source": [
    "def sum_crop_lengths_recursive(data):\n",
    "  \"\"\"\n",
    "  Calculates the sum of integer values (length) for each unique crop type in the data recursively.\n",
    "\n",
    "  Args:\n",
    "      data: A DataFrame containing a 'Crop_type' column.\n",
    "\n",
    "  Returns:\n",
    "      The total sum of integer values for all unique crop types.\n",
    "  \"\"\"\n",
    "\n",
    "  # Assuming the column is named \"Crop_type\" (change if different)\n",
    "  unique_crops = data[\"Crop_type\"].unique()\n",
    "\n",
    "  # Calculate and return the total sum\n",
    "  return sum(len(crop_type) for crop_type in unique_crops)\n",
    "\n",
    "# Replace \"path/to/your/file.csv\" with the actual path to your file\n",
    "df = pd.read_csv(\"MD_agric_exam-4313.csv\")\n",
    "\n",
    "# Calculate and print the total sum\n",
    "total_sum = sum_crop_lengths_recursive(df)\n",
    "print(f\"Total sum of crop type lengths: {total_sum}\")\n"
   ]
  },
  {
   "cell_type": "code",
   "execution_count": 18,
   "id": "39cf1e8d-12f2-4fc5-a796-d4bf52611832",
   "metadata": {},
   "outputs": [
    {
     "name": "stdout",
     "output_type": "stream",
     "text": [
      "p-value (rounded to 3 decimal places): 0.598\n"
     ]
    }
   ],
   "source": [
    "import pandas as pd\n",
    "from scipy import stats\n",
    "\n",
    "# Replace \"path/to/your/file.csv\" with the actual path to your file\n",
    "df = pd.read_csv(\"MD_agric_exam-4313.csv\")\n",
    "\n",
    "# Assuming the columns are named \"Crop_type\" and \"Annual_yield\" (change if different)\n",
    "# Filter data for 'coffee' and 'banana' crops\n",
    "coffee_data = df[df['Crop_type'] == 'coffee']['Annual_yield']\n",
    "banana_data = df[df['Crop_type'] == 'banana']['Annual_yield']\n",
    "\n",
    "# Perform t-test and round p-value to 3 decimal places\n",
    "t_statistic, p_value = stats.ttest_ind(coffee_data, banana_data, equal_var=False)\n",
    "p_value_rounded = round(p_value, 3)\n",
    "\n",
    "print(f\"p-value (rounded to 3 decimal places): {p_value_rounded}\")\n"
   ]
  },
  {
   "cell_type": "code",
   "execution_count": null,
   "id": "f9d5a718-b802-4a87-b7e6-1bb1c4a0c4b8",
   "metadata": {},
   "outputs": [],
   "source": []
  }
 ],
 "metadata": {
  "kernelspec": {
   "display_name": "Python 3 (ipykernel)",
   "language": "python",
   "name": "python3"
  },
  "language_info": {
   "codemirror_mode": {
    "name": "ipython",
    "version": 3
   },
   "file_extension": ".py",
   "mimetype": "text/x-python",
   "name": "python",
   "nbconvert_exporter": "python",
   "pygments_lexer": "ipython3",
   "version": "3.11.8"
  }
 },
 "nbformat": 4,
 "nbformat_minor": 5
}
