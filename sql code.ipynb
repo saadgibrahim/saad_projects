{
 "cells": [
  {
   "cell_type": "markdown",
   "metadata": {
    "id": "O3uhQEw4Jqnt"
   },
   "source": [
    "# Gather Section (20 Questions, 40 Marks)\n",
    "\n",
    "You should have access to a file called TMDB.db. The first step to answering this set of questions will be to connect to this db file to access the data. \n",
    "\n",
    "![SQL Architectures](https://raw.githubusercontent.com/Explore-AI/Public-Data/master/image/TMDB_ERD.JPG)\n",
    "\n",
    "Before we start we need to load our SQL magic commands (we only need do this once per notebook):"
   ]
  },
  {
   "cell_type": "code",
   "execution_count": 1,
   "metadata": {
    "id": "tYyzGpQrJqnv"
   },
   "outputs": [],
   "source": [
    "%load_ext sql"
   ]
  },
  {
   "cell_type": "code",
   "execution_count": 5,
   "metadata": {},
   "outputs": [
    {
     "name": "stdout",
     "output_type": "stream",
     "text": [
      " * sqlite:///TMDB.db\n",
      "Done.\n"
     ]
    },
    {
     "data": {
      "text/html": [
       "<table>\n",
       "    <thead>\n",
       "        <tr>\n",
       "            <th>movie_id</th>\n",
       "            <th>title</th>\n",
       "            <th>release_date</th>\n",
       "            <th>budget</th>\n",
       "            <th>homepage</th>\n",
       "            <th>original_language</th>\n",
       "            <th>original_title</th>\n",
       "            <th>overview</th>\n",
       "            <th>popularity</th>\n",
       "            <th>revenue</th>\n",
       "            <th>runtime</th>\n",
       "            <th>release_status</th>\n",
       "            <th>tagline</th>\n",
       "            <th>vote_average</th>\n",
       "            <th>vote_count</th>\n",
       "        </tr>\n",
       "    </thead>\n",
       "    <tbody>\n",
       "        <tr>\n",
       "            <td>5</td>\n",
       "            <td>Four Rooms</td>\n",
       "            <td>1995-12-09 00:00:00.000000</td>\n",
       "            <td>4000000</td>\n",
       "            <td>None</td>\n",
       "            <td>en</td>\n",
       "            <td>Four Rooms</td>\n",
       "            <td>It&#x27;s Ted the Bellhop&#x27;s first night on the job...and the hotel&#x27;s very unusual guests are about to place him in some outrageous predicaments. It seems that this evening&#x27;s room service is serving up one unbelievable happening after another.</td>\n",
       "            <td>22.87623</td>\n",
       "            <td>4300000.0</td>\n",
       "            <td>98.0</td>\n",
       "            <td>Released</td>\n",
       "            <td>Twelve outrageous guests. Four scandalous requests. And one lone bellhop, in his first day on the job, who&#x27;s in for the wildest New year&#x27;s Eve of his life.</td>\n",
       "            <td>6.5</td>\n",
       "            <td>530</td>\n",
       "        </tr>\n",
       "        <tr>\n",
       "            <td>11</td>\n",
       "            <td>Star Wars</td>\n",
       "            <td>1977-05-25 00:00:00.000000</td>\n",
       "            <td>11000000</td>\n",
       "            <td>http://www.starwars.com/films/star-wars-episode-iv-a-new-hope</td>\n",
       "            <td>en</td>\n",
       "            <td>Star Wars</td>\n",
       "            <td>Princess Leia is captured and held hostage by the evil Imperial forces in their effort to take over the galactic Empire. Venturesome Luke Skywalker and dashing captain Han Solo team together with the loveable robot duo R2-D2 and C-3PO to rescue the beautiful princess and restore peace and justice in the Empire.</td>\n",
       "            <td>126.393695</td>\n",
       "            <td>775398007.0</td>\n",
       "            <td>121.0</td>\n",
       "            <td>Released</td>\n",
       "            <td>A long time ago in a galaxy far, far away...</td>\n",
       "            <td>8.1</td>\n",
       "            <td>6624</td>\n",
       "        </tr>\n",
       "        <tr>\n",
       "            <td>12</td>\n",
       "            <td>Finding Nemo</td>\n",
       "            <td>2003-05-30 00:00:00.000000</td>\n",
       "            <td>94000000</td>\n",
       "            <td>http://movies.disney.com/finding-nemo</td>\n",
       "            <td>en</td>\n",
       "            <td>Finding Nemo</td>\n",
       "            <td>Nemo, an adventurous young clownfish, is unexpectedly taken from his Great Barrier Reef home to a dentist&#x27;s office aquarium. It&#x27;s up to his worrisome father Marlin and a friendly but forgetful fish Dory to bring Nemo home -- meeting vegetarian sharks, surfer dude turtles, hypnotic jellyfish, hungry seagulls, and more along the way.</td>\n",
       "            <td>85.688789</td>\n",
       "            <td>940335536.0</td>\n",
       "            <td>100.0</td>\n",
       "            <td>Released</td>\n",
       "            <td>There are 3.7 trillion fish in the ocean, they&#x27;re looking for one.</td>\n",
       "            <td>7.6</td>\n",
       "            <td>6122</td>\n",
       "        </tr>\n",
       "        <tr>\n",
       "            <td>13</td>\n",
       "            <td>Forrest Gump</td>\n",
       "            <td>1994-07-06 00:00:00.000000</td>\n",
       "            <td>55000000</td>\n",
       "            <td>None</td>\n",
       "            <td>en</td>\n",
       "            <td>Forrest Gump</td>\n",
       "            <td>A man with a low IQ has accomplished great things in his life and been present during significant historic events - in each case, far exceeding what anyone imagined he could do. Yet, despite all the things he has attained, his one true love eludes him. &#x27;Forrest Gump&#x27; is the story of a man who rose above his challenges, and who proved that determination, courage, and love are more important than ability.</td>\n",
       "            <td>138.133331</td>\n",
       "            <td>677945399.0</td>\n",
       "            <td>142.0</td>\n",
       "            <td>Released</td>\n",
       "            <td>The world will never be the same, once you&#x27;ve seen it through the eyes of Forrest Gump.</td>\n",
       "            <td>8.2</td>\n",
       "            <td>7927</td>\n",
       "        </tr>\n",
       "        <tr>\n",
       "            <td>14</td>\n",
       "            <td>American Beauty</td>\n",
       "            <td>1999-09-15 00:00:00.000000</td>\n",
       "            <td>15000000</td>\n",
       "            <td>http://www.dreamworks.com/ab/</td>\n",
       "            <td>en</td>\n",
       "            <td>American Beauty</td>\n",
       "            <td>Lester Burnham, a depressed suburban father in a mid-life crisis, decides to turn his hectic life around after developing an infatuation with his daughter&#x27;s attractive friend.</td>\n",
       "            <td>80.878605</td>\n",
       "            <td>356296601.0</td>\n",
       "            <td>122.0</td>\n",
       "            <td>Released</td>\n",
       "            <td>Look closer.</td>\n",
       "            <td>7.9</td>\n",
       "            <td>3313</td>\n",
       "        </tr>\n",
       "        <tr>\n",
       "            <td>16</td>\n",
       "            <td>Dancer in the Dark</td>\n",
       "            <td>2000-05-17 00:00:00.000000</td>\n",
       "            <td>12800000</td>\n",
       "            <td>None</td>\n",
       "            <td>en</td>\n",
       "            <td>Dancer in the Dark</td>\n",
       "            <td>Selma, a Czech immigrant on the verge of blindness, struggles to make ends meet for herself and her son, who has inherited the same genetic disorder and will suffer the same fate without an expensive operation. When life gets too difficult, Selma learns to cope through her love of musicals, escaping life&#x27;s troubles - even if just for a moment - by dreaming up little numbers to the rhythmic beats of her surroundings.</td>\n",
       "            <td>22.022228</td>\n",
       "            <td>40031879.0</td>\n",
       "            <td>140.0</td>\n",
       "            <td>Released</td>\n",
       "            <td>You don&#x27;t need eyes to see.</td>\n",
       "            <td>7.6</td>\n",
       "            <td>377</td>\n",
       "        </tr>\n",
       "        <tr>\n",
       "            <td>18</td>\n",
       "            <td>The Fifth Element</td>\n",
       "            <td>1997-05-07 00:00:00.000000</td>\n",
       "            <td>90000000</td>\n",
       "            <td>None</td>\n",
       "            <td>en</td>\n",
       "            <td>The Fifth Element</td>\n",
       "            <td>In 2257, a taxi driver is unintentionally given the task of saving a young girl who is part of the key that will ensure the survival of humanity.</td>\n",
       "            <td>109.528572</td>\n",
       "            <td>263920180.0</td>\n",
       "            <td>126.0</td>\n",
       "            <td>Released</td>\n",
       "            <td>There is no future without it.</td>\n",
       "            <td>7.3</td>\n",
       "            <td>3885</td>\n",
       "        </tr>\n",
       "        <tr>\n",
       "            <td>19</td>\n",
       "            <td>Metropolis</td>\n",
       "            <td>1927-01-10 00:00:00.000000</td>\n",
       "            <td>92620000</td>\n",
       "            <td>None</td>\n",
       "            <td>de</td>\n",
       "            <td>Metropolis</td>\n",
       "            <td>In a futuristic city sharply divided between the working class and the city planners, the son of the city&#x27;s mastermind falls in love with a working class prophet who predicts the coming of a savior to mediate their differences.</td>\n",
       "            <td>32.351527</td>\n",
       "            <td>650422.0</td>\n",
       "            <td>153.0</td>\n",
       "            <td>Released</td>\n",
       "            <td>There can be no understanding between the hands and the brain unless the heart acts as mediator.</td>\n",
       "            <td>8.0</td>\n",
       "            <td>657</td>\n",
       "        </tr>\n",
       "        <tr>\n",
       "            <td>20</td>\n",
       "            <td>My Life Without Me</td>\n",
       "            <td>2003-03-07 00:00:00.000000</td>\n",
       "            <td>0</td>\n",
       "            <td>http://www.clubcultura.com/clubcine/clubcineastas/isabelcoixet/mividasinmi/index.htm</td>\n",
       "            <td>en</td>\n",
       "            <td>My Life Without Me</td>\n",
       "            <td>A Pedro Almodovar production in which a fatally ill mother with only two months to live creates a list of things she wants to do before she dies with out telling her family of her illness.</td>\n",
       "            <td>7.958831</td>\n",
       "            <td>9726954.0</td>\n",
       "            <td>106.0</td>\n",
       "            <td>Released</td>\n",
       "            <td>None</td>\n",
       "            <td>7.2</td>\n",
       "            <td>77</td>\n",
       "        </tr>\n",
       "        <tr>\n",
       "            <td>22</td>\n",
       "            <td>Pirates of the Caribbean: The Curse of the Black Pearl</td>\n",
       "            <td>2003-07-09 00:00:00.000000</td>\n",
       "            <td>140000000</td>\n",
       "            <td>http://disney.go.com/disneyvideos/liveaction/pirates/main_site/main.html</td>\n",
       "            <td>en</td>\n",
       "            <td>Pirates of the Caribbean: The Curse of the Black Pearl</td>\n",
       "            <td>Jack Sparrow, a freewheeling 17th-century pirate who roams the Caribbean Sea, butts heads with a rival pirate bent on pillaging the village of Port Royal. When the governor&#x27;s daughter is kidnapped, Sparrow decides to help the girl&#x27;s love save her. But their seafaring mission is hardly simple.</td>\n",
       "            <td>271.972889</td>\n",
       "            <td>655011224.0</td>\n",
       "            <td>143.0</td>\n",
       "            <td>Released</td>\n",
       "            <td>Prepare to be blown out of the water.</td>\n",
       "            <td>7.5</td>\n",
       "            <td>6985</td>\n",
       "        </tr>\n",
       "    </tbody>\n",
       "</table>"
      ],
      "text/plain": [
       "[(5, 'Four Rooms', '1995-12-09 00:00:00.000000', 4000000, None, 'en', 'Four Rooms', \"It's Ted the Bellhop's first night on the job...and the hotel's very unusual guests are about to place him in some outrageous predicaments. It seems that this evening's room service is serving up one unbelievable happening after another.\", 22.87623, 4300000.0, 98.0, 'Released', \"Twelve outrageous guests. Four scandalous requests. And one lone bellhop, in his first day on the job, who's in for the wildest New year's Eve of his life.\", 6.5, 530),\n",
       " (11, 'Star Wars', '1977-05-25 00:00:00.000000', 11000000, 'http://www.starwars.com/films/star-wars-episode-iv-a-new-hope', 'en', 'Star Wars', 'Princess Leia is captured and held hostage by the evil Imperial forces in their effort to take over the galactic Empire. Venturesome Luke Skywalker a ... (14 characters truncated) ... tain Han Solo team together with the loveable robot duo R2-D2 and C-3PO to rescue the beautiful princess and restore peace and justice in the Empire.', 126.393695, 775398007.0, 121.0, 'Released', 'A long time ago in a galaxy far, far away...', 8.1, 6624),\n",
       " (12, 'Finding Nemo', '2003-05-30 00:00:00.000000', 94000000, 'http://movies.disney.com/finding-nemo', 'en', 'Finding Nemo', \"Nemo, an adventurous young clownfish, is unexpectedly taken from his Great Barrier Reef home to a dentist's office aquarium. It's up to his worrisome ... (35 characters truncated) ... orgetful fish Dory to bring Nemo home -- meeting vegetarian sharks, surfer dude turtles, hypnotic jellyfish, hungry seagulls, and more along the way.\", 85.688789, 940335536.0, 100.0, 'Released', \"There are 3.7 trillion fish in the ocean, they're looking for one.\", 7.6, 6122),\n",
       " (13, 'Forrest Gump', '1994-07-06 00:00:00.000000', 55000000, None, 'en', 'Forrest Gump', \"A man with a low IQ has accomplished great things in his life and been present during significant historic events - in each case, far exceeding what  ... (108 characters truncated) ... rest Gump' is the story of a man who rose above his challenges, and who proved that determination, courage, and love are more important than ability.\", 138.133331, 677945399.0, 142.0, 'Released', \"The world will never be the same, once you've seen it through the eyes of Forrest Gump.\", 8.2, 7927),\n",
       " (14, 'American Beauty', '1999-09-15 00:00:00.000000', 15000000, 'http://www.dreamworks.com/ab/', 'en', 'American Beauty', \"Lester Burnham, a depressed suburban father in a mid-life crisis, decides to turn his hectic life around after developing an infatuation with his daughter's attractive friend.\", 80.878605, 356296601.0, 122.0, 'Released', 'Look closer.', 7.9, 3313),\n",
       " (16, 'Dancer in the Dark', '2000-05-17 00:00:00.000000', 12800000, None, 'en', 'Dancer in the Dark', \"Selma, a Czech immigrant on the verge of blindness, struggles to make ends meet for herself and her son, who has inherited the same genetic disorder  ... (121 characters truncated) ... her love of musicals, escaping life's troubles - even if just for a moment - by dreaming up little numbers to the rhythmic beats of her surroundings.\", 22.022228, 40031879.0, 140.0, 'Released', \"You don't need eyes to see.\", 7.6, 377),\n",
       " (18, 'The Fifth Element', '1997-05-07 00:00:00.000000', 90000000, None, 'en', 'The Fifth Element', 'In 2257, a taxi driver is unintentionally given the task of saving a young girl who is part of the key that will ensure the survival of humanity.', 109.528572, 263920180.0, 126.0, 'Released', 'There is no future without it.', 7.3, 3885),\n",
       " (19, 'Metropolis', '1927-01-10 00:00:00.000000', 92620000, None, 'de', 'Metropolis', \"In a futuristic city sharply divided between the working class and the city planners, the son of the city's mastermind falls in love with a working class prophet who predicts the coming of a savior to mediate their differences.\", 32.351527, 650422.0, 153.0, 'Released', 'There can be no understanding between the hands and the brain unless the heart acts as mediator.', 8.0, 657),\n",
       " (20, 'My Life Without Me', '2003-03-07 00:00:00.000000', 0, 'http://www.clubcultura.com/clubcine/clubcineastas/isabelcoixet/mividasinmi/index.htm', 'en', 'My Life Without Me', 'A Pedro Almodovar production in which a fatally ill mother with only two months to live creates a list of things she wants to do before she dies with out telling her family of her illness.', 7.958831, 9726954.0, 106.0, 'Released', None, 7.2, 77),\n",
       " (22, 'Pirates of the Caribbean: The Curse of the Black Pearl', '2003-07-09 00:00:00.000000', 140000000, 'http://disney.go.com/disneyvideos/liveaction/pirates/main_site/main.html', 'en', 'Pirates of the Caribbean: The Curse of the Black Pearl', \"Jack Sparrow, a freewheeling 17th-century pirate who roams the Caribbean Sea, butts heads with a rival pirate bent on pillaging the village of Port Royal. When the governor's daughter is kidnapped, Sparrow decides to help the girl's love save her. But their seafaring mission is hardly simple.\", 271.972889, 655011224.0, 143.0, 'Released', 'Prepare to be blown out of the water.', 7.5, 6985)]"
      ]
     },
     "execution_count": 5,
     "metadata": {},
     "output_type": "execute_result"
    }
   ],
   "source": [
    "%%sql\n",
    "SELECT *\n",
    "FROM movies\n",
    "LIMIT 10;"
   ]
  },
  {
   "cell_type": "code",
   "execution_count": 4,
   "metadata": {},
   "outputs": [
    {
     "name": "stdout",
     "output_type": "stream",
     "text": [
      " * sqlite:///TMDB.db\n",
      "Done.\n"
     ]
    },
    {
     "data": {
      "text/html": [
       "<table>\n",
       "    <thead>\n",
       "        <tr>\n",
       "            <th>iso_639_1</th>\n",
       "            <th>language_name</th>\n",
       "        </tr>\n",
       "    </thead>\n",
       "    <tbody>\n",
       "        <tr>\n",
       "            <td>af</td>\n",
       "            <td>Afrikaans</td>\n",
       "        </tr>\n",
       "        <tr>\n",
       "            <td>am</td>\n",
       "            <td>None</td>\n",
       "        </tr>\n",
       "        <tr>\n",
       "            <td>ar</td>\n",
       "            <td>???????</td>\n",
       "        </tr>\n",
       "        <tr>\n",
       "            <td>bg</td>\n",
       "            <td>????????? ????</td>\n",
       "        </tr>\n",
       "        <tr>\n",
       "            <td>bm</td>\n",
       "            <td>Bamanankan</td>\n",
       "        </tr>\n",
       "        <tr>\n",
       "            <td>bn</td>\n",
       "            <td>?????</td>\n",
       "        </tr>\n",
       "        <tr>\n",
       "            <td>bo</td>\n",
       "            <td>None</td>\n",
       "        </tr>\n",
       "        <tr>\n",
       "            <td>br</td>\n",
       "            <td>None</td>\n",
       "        </tr>\n",
       "        <tr>\n",
       "            <td>bs</td>\n",
       "            <td>Bosanski</td>\n",
       "        </tr>\n",
       "        <tr>\n",
       "            <td>ca</td>\n",
       "            <td>Catala</td>\n",
       "        </tr>\n",
       "        <tr>\n",
       "            <td>ce</td>\n",
       "            <td>None</td>\n",
       "        </tr>\n",
       "        <tr>\n",
       "            <td>cn</td>\n",
       "            <td>??? / ???</td>\n",
       "        </tr>\n",
       "        <tr>\n",
       "            <td>co</td>\n",
       "            <td>None</td>\n",
       "        </tr>\n",
       "        <tr>\n",
       "            <td>cs</td>\n",
       "            <td>?esk²</td>\n",
       "        </tr>\n",
       "        <tr>\n",
       "            <td>cy</td>\n",
       "            <td>Cymraeg</td>\n",
       "        </tr>\n",
       "        <tr>\n",
       "            <td>da</td>\n",
       "            <td>Dansk</td>\n",
       "        </tr>\n",
       "        <tr>\n",
       "            <td>de</td>\n",
       "            <td>Deutsch</td>\n",
       "        </tr>\n",
       "        <tr>\n",
       "            <td>dz</td>\n",
       "            <td>None</td>\n",
       "        </tr>\n",
       "        <tr>\n",
       "            <td>el</td>\n",
       "            <td>????????</td>\n",
       "        </tr>\n",
       "        <tr>\n",
       "            <td>en</td>\n",
       "            <td>English</td>\n",
       "        </tr>\n",
       "        <tr>\n",
       "            <td>eo</td>\n",
       "            <td>Esperanto</td>\n",
       "        </tr>\n",
       "        <tr>\n",
       "            <td>es</td>\n",
       "            <td>Espa±ol</td>\n",
       "        </tr>\n",
       "        <tr>\n",
       "            <td>et</td>\n",
       "            <td>Eesti</td>\n",
       "        </tr>\n",
       "        <tr>\n",
       "            <td>fa</td>\n",
       "            <td>?????</td>\n",
       "        </tr>\n",
       "        <tr>\n",
       "            <td>fi</td>\n",
       "            <td>suomi</td>\n",
       "        </tr>\n",
       "        <tr>\n",
       "            <td>fr</td>\n",
       "            <td>Frantais</td>\n",
       "        </tr>\n",
       "        <tr>\n",
       "            <td>ga</td>\n",
       "            <td>Gaeilge</td>\n",
       "        </tr>\n",
       "        <tr>\n",
       "            <td>gd</td>\n",
       "            <td>None</td>\n",
       "        </tr>\n",
       "        <tr>\n",
       "            <td>gl</td>\n",
       "            <td>Galego</td>\n",
       "        </tr>\n",
       "        <tr>\n",
       "            <td>he</td>\n",
       "            <td>????????</td>\n",
       "        </tr>\n",
       "        <tr>\n",
       "            <td>hi</td>\n",
       "            <td>??????</td>\n",
       "        </tr>\n",
       "        <tr>\n",
       "            <td>hr</td>\n",
       "            <td>Hrvatski</td>\n",
       "        </tr>\n",
       "        <tr>\n",
       "            <td>hu</td>\n",
       "            <td>Magyar</td>\n",
       "        </tr>\n",
       "        <tr>\n",
       "            <td>hy</td>\n",
       "            <td>None</td>\n",
       "        </tr>\n",
       "        <tr>\n",
       "            <td>id</td>\n",
       "            <td>Bahasa indonesia</td>\n",
       "        </tr>\n",
       "        <tr>\n",
       "            <td>is</td>\n",
       "            <td>-slenska</td>\n",
       "        </tr>\n",
       "        <tr>\n",
       "            <td>it</td>\n",
       "            <td>Italiano</td>\n",
       "        </tr>\n",
       "        <tr>\n",
       "            <td>iu</td>\n",
       "            <td>None</td>\n",
       "        </tr>\n",
       "        <tr>\n",
       "            <td>ja</td>\n",
       "            <td>???</td>\n",
       "        </tr>\n",
       "        <tr>\n",
       "            <td>ka</td>\n",
       "            <td>???????</td>\n",
       "        </tr>\n",
       "        <tr>\n",
       "            <td>kk</td>\n",
       "            <td>?????</td>\n",
       "        </tr>\n",
       "        <tr>\n",
       "            <td>km</td>\n",
       "            <td>None</td>\n",
       "        </tr>\n",
       "        <tr>\n",
       "            <td>ko</td>\n",
       "            <td>???/???</td>\n",
       "        </tr>\n",
       "        <tr>\n",
       "            <td>ku</td>\n",
       "            <td>None</td>\n",
       "        </tr>\n",
       "        <tr>\n",
       "            <td>kw</td>\n",
       "            <td>None</td>\n",
       "        </tr>\n",
       "        <tr>\n",
       "            <td>ky</td>\n",
       "            <td>??????</td>\n",
       "        </tr>\n",
       "        <tr>\n",
       "            <td>la</td>\n",
       "            <td>Latin</td>\n",
       "        </tr>\n",
       "        <tr>\n",
       "            <td>mi</td>\n",
       "            <td>None</td>\n",
       "        </tr>\n",
       "        <tr>\n",
       "            <td>ml</td>\n",
       "            <td>None</td>\n",
       "        </tr>\n",
       "        <tr>\n",
       "            <td>mn</td>\n",
       "            <td>None</td>\n",
       "        </tr>\n",
       "        <tr>\n",
       "            <td>ne</td>\n",
       "            <td>None</td>\n",
       "        </tr>\n",
       "        <tr>\n",
       "            <td>nl</td>\n",
       "            <td>Nederlands</td>\n",
       "        </tr>\n",
       "        <tr>\n",
       "            <td>no</td>\n",
       "            <td>Norsk</td>\n",
       "        </tr>\n",
       "        <tr>\n",
       "            <td>nv</td>\n",
       "            <td>None</td>\n",
       "        </tr>\n",
       "        <tr>\n",
       "            <td>ny</td>\n",
       "            <td>None</td>\n",
       "        </tr>\n",
       "        <tr>\n",
       "            <td>pa</td>\n",
       "            <td>??????</td>\n",
       "        </tr>\n",
       "        <tr>\n",
       "            <td>pl</td>\n",
       "            <td>Polski</td>\n",
       "        </tr>\n",
       "        <tr>\n",
       "            <td>ps</td>\n",
       "            <td>????</td>\n",
       "        </tr>\n",
       "        <tr>\n",
       "            <td>pt</td>\n",
       "            <td>PortuguOs</td>\n",
       "        </tr>\n",
       "        <tr>\n",
       "            <td>ro</td>\n",
       "            <td>RomGn?</td>\n",
       "        </tr>\n",
       "        <tr>\n",
       "            <td>ru</td>\n",
       "            <td>P??????</td>\n",
       "        </tr>\n",
       "        <tr>\n",
       "            <td>sa</td>\n",
       "            <td>None</td>\n",
       "        </tr>\n",
       "        <tr>\n",
       "            <td>sh</td>\n",
       "            <td>None</td>\n",
       "        </tr>\n",
       "        <tr>\n",
       "            <td>si</td>\n",
       "            <td>None</td>\n",
       "        </tr>\n",
       "        <tr>\n",
       "            <td>sk</td>\n",
       "            <td>Sloven?ina</td>\n",
       "        </tr>\n",
       "        <tr>\n",
       "            <td>sl</td>\n",
       "            <td>SlovenÜ?ina</td>\n",
       "        </tr>\n",
       "        <tr>\n",
       "            <td>so</td>\n",
       "            <td>Somali</td>\n",
       "        </tr>\n",
       "        <tr>\n",
       "            <td>sq</td>\n",
       "            <td>shqip</td>\n",
       "        </tr>\n",
       "        <tr>\n",
       "            <td>sr</td>\n",
       "            <td>Srpski</td>\n",
       "        </tr>\n",
       "        <tr>\n",
       "            <td>st</td>\n",
       "            <td>None</td>\n",
       "        </tr>\n",
       "        <tr>\n",
       "            <td>sv</td>\n",
       "            <td>svenska</td>\n",
       "        </tr>\n",
       "        <tr>\n",
       "            <td>sw</td>\n",
       "            <td>Kiswahili</td>\n",
       "        </tr>\n",
       "        <tr>\n",
       "            <td>ta</td>\n",
       "            <td>?????</td>\n",
       "        </tr>\n",
       "        <tr>\n",
       "            <td>te</td>\n",
       "            <td>??????</td>\n",
       "        </tr>\n",
       "        <tr>\n",
       "            <td>th</td>\n",
       "            <td>???????</td>\n",
       "        </tr>\n",
       "        <tr>\n",
       "            <td>tl</td>\n",
       "            <td>None</td>\n",
       "        </tr>\n",
       "        <tr>\n",
       "            <td>to</td>\n",
       "            <td>None</td>\n",
       "        </tr>\n",
       "        <tr>\n",
       "            <td>tr</td>\n",
       "            <td>Tnrkte</td>\n",
       "        </tr>\n",
       "        <tr>\n",
       "            <td>uk</td>\n",
       "            <td>???????????</td>\n",
       "        </tr>\n",
       "        <tr>\n",
       "            <td>ur</td>\n",
       "            <td>????</td>\n",
       "        </tr>\n",
       "        <tr>\n",
       "            <td>vi</td>\n",
       "            <td>Ti?ng Vi?t</td>\n",
       "        </tr>\n",
       "        <tr>\n",
       "            <td>wo</td>\n",
       "            <td>Wolof</td>\n",
       "        </tr>\n",
       "        <tr>\n",
       "            <td>xh</td>\n",
       "            <td>None</td>\n",
       "        </tr>\n",
       "        <tr>\n",
       "            <td>xx</td>\n",
       "            <td>No Language</td>\n",
       "        </tr>\n",
       "        <tr>\n",
       "            <td>yi</td>\n",
       "            <td>None</td>\n",
       "        </tr>\n",
       "        <tr>\n",
       "            <td>zh</td>\n",
       "            <td>???</td>\n",
       "        </tr>\n",
       "        <tr>\n",
       "            <td>zu</td>\n",
       "            <td>isiZulu</td>\n",
       "        </tr>\n",
       "    </tbody>\n",
       "</table>"
      ],
      "text/plain": [
       "[('af', 'Afrikaans'),\n",
       " ('am', None),\n",
       " ('ar', '???????'),\n",
       " ('bg', '????????? ????'),\n",
       " ('bm', 'Bamanankan'),\n",
       " ('bn', '?????'),\n",
       " ('bo', None),\n",
       " ('br', None),\n",
       " ('bs', 'Bosanski'),\n",
       " ('ca', 'Catala'),\n",
       " ('ce', None),\n",
       " ('cn', '??? / ???'),\n",
       " ('co', None),\n",
       " ('cs', '?esk²'),\n",
       " ('cy', 'Cymraeg'),\n",
       " ('da', 'Dansk'),\n",
       " ('de', 'Deutsch'),\n",
       " ('dz', None),\n",
       " ('el', '????????'),\n",
       " ('en', 'English'),\n",
       " ('eo', 'Esperanto'),\n",
       " ('es', 'Espa±ol'),\n",
       " ('et', 'Eesti'),\n",
       " ('fa', '?????'),\n",
       " ('fi', 'suomi'),\n",
       " ('fr', 'Frantais'),\n",
       " ('ga', 'Gaeilge'),\n",
       " ('gd', None),\n",
       " ('gl', 'Galego'),\n",
       " ('he', '????????'),\n",
       " ('hi', '??????'),\n",
       " ('hr', 'Hrvatski'),\n",
       " ('hu', 'Magyar'),\n",
       " ('hy', None),\n",
       " ('id', 'Bahasa indonesia'),\n",
       " ('is', '-slenska'),\n",
       " ('it', 'Italiano'),\n",
       " ('iu', None),\n",
       " ('ja', '???'),\n",
       " ('ka', '???????'),\n",
       " ('kk', '?????'),\n",
       " ('km', None),\n",
       " ('ko', '???/???'),\n",
       " ('ku', None),\n",
       " ('kw', None),\n",
       " ('ky', '??????'),\n",
       " ('la', 'Latin'),\n",
       " ('mi', None),\n",
       " ('ml', None),\n",
       " ('mn', None),\n",
       " ('ne', None),\n",
       " ('nl', 'Nederlands'),\n",
       " ('no', 'Norsk'),\n",
       " ('nv', None),\n",
       " ('ny', None),\n",
       " ('pa', '??????'),\n",
       " ('pl', 'Polski'),\n",
       " ('ps', '????'),\n",
       " ('pt', 'PortuguOs'),\n",
       " ('ro', 'RomGn?'),\n",
       " ('ru', 'P??????'),\n",
       " ('sa', None),\n",
       " ('sh', None),\n",
       " ('si', None),\n",
       " ('sk', 'Sloven?ina'),\n",
       " ('sl', 'SlovenÜ?ina'),\n",
       " ('so', 'Somali'),\n",
       " ('sq', 'shqip'),\n",
       " ('sr', 'Srpski'),\n",
       " ('st', None),\n",
       " ('sv', 'svenska'),\n",
       " ('sw', 'Kiswahili'),\n",
       " ('ta', '?????'),\n",
       " ('te', '??????'),\n",
       " ('th', '???????'),\n",
       " ('tl', None),\n",
       " ('to', None),\n",
       " ('tr', 'Tnrkte'),\n",
       " ('uk', '???????????'),\n",
       " ('ur', '????'),\n",
       " ('vi', 'Ti?ng Vi?t'),\n",
       " ('wo', 'Wolof'),\n",
       " ('xh', None),\n",
       " ('xx', 'No Language'),\n",
       " ('yi', None),\n",
       " ('zh', '???'),\n",
       " ('zu', 'isiZulu')]"
      ]
     },
     "execution_count": 4,
     "metadata": {},
     "output_type": "execute_result"
    }
   ],
   "source": [
    "%%sql\n",
    "SELECT *\n",
    "FROM languages;"
   ]
  },
  {
   "cell_type": "code",
   "execution_count": 4,
   "metadata": {},
   "outputs": [
    {
     "name": "stdout",
     "output_type": "stream",
     "text": [
      "Collecting sqlalchemy==1.4.4Note: you may need to restart the kernel to use updated packages.\n",
      "\n",
      "  Using cached SQLAlchemy-1.4.4-cp311-cp311-win_amd64.whl\n",
      "Requirement already satisfied: greenlet!=0.4.17 in c:\\users\\hp\\anaconda3\\envs\\pyhton\\lib\\site-packages (from sqlalchemy==1.4.4) (3.0.1)\n",
      "Installing collected packages: sqlalchemy\n",
      "  Attempting uninstall: sqlalchemy\n",
      "    Found existing installation: SQLAlchemy 2.0.31\n",
      "    Uninstalling SQLAlchemy-2.0.31:\n",
      "      Successfully uninstalled SQLAlchemy-2.0.31\n",
      "Successfully installed sqlalchemy-1.4.4\n"
     ]
    },
    {
     "name": "stderr",
     "output_type": "stream",
     "text": [
      "  WARNING: Failed to remove contents in a temporary directory 'C:\\Users\\hp\\anaconda3\\envs\\pyhton\\Lib\\site-packages\\~-lalchemy'.\n",
      "  You can safely remove it manually.\n",
      "ERROR: pip's dependency resolver does not currently take into account all the packages that are installed. This behaviour is the source of the following dependency conflicts.\n",
      "ipython-sql 0.5.0 requires sqlalchemy>=2.0, but you have sqlalchemy 1.4.4 which is incompatible.\n"
     ]
    }
   ],
   "source": [
    "pip install sqlalchemy==1.4.4"
   ]
  },
  {
   "cell_type": "code",
   "execution_count": null,
   "metadata": {},
   "outputs": [],
   "source": [
    "pip install ipython-sql"
   ]
  },
  {
   "cell_type": "markdown",
   "metadata": {
    "id": "ok5TGOw3Jqnw"
   },
   "source": [
    "*Note: we have to prepend a Jupyter notebook cell with `%%sql` in order to run a SQL query. Place your code in the '# Your code here' lines. If you experience trouble connecting to the .db file, please ensure that you have the `pymysql` and `ipython-sql` packages installed. Also ensure that `sqlalchemy` is pinned at a version <2.*\n",
    "\n",
    "\n",
    "Based on that data, answer the following questions:\n",
    "\n",
    "\n",
    "### Question 11\n",
    "What is the code you can use to connect to the TMBD database that is saved in the same location with the Jupyter notebook?\n"
   ]
  },
  {
   "cell_type": "code",
   "execution_count": 3,
   "metadata": {
    "id": "bkHzM8QXJqnw"
   },
   "outputs": [],
   "source": [
    "%%sql \n",
    "sqlite:///TMDB.db"
   ]
  },
  {
   "cell_type": "markdown",
   "metadata": {
    "id": "JgRO7x1-Jqnx"
   },
   "source": [
    "### Question 12\n",
    "What is the primary key for the table “movies”?\n",
    "\n"
   ]
  },
  {
   "cell_type": "markdown",
   "metadata": {
    "id": "KSkdaG_iJqnx"
   },
   "source": [
    "### Question 13\n",
    "How many foreign keys does the “languagemap” table have?\n",
    "\n"
   ]
  },
  {
   "cell_type": "markdown",
   "metadata": {
    "id": "eO7T-b9AJqnx"
   },
   "source": [
    "### Question 14\n",
    "What code would you use to set up a view of all movies that did not get released?\n"
   ]
  },
  {
   "cell_type": "code",
   "execution_count": 3,
   "metadata": {
    "id": "8FTBNKnlJqny"
   },
   "outputs": [
    {
     "name": "stdout",
     "output_type": "stream",
     "text": [
      " * sqlite:///TMDB.db\n",
      "(sqlite3.OperationalError) view unreleased_movies already exists\n",
      "[SQL: CREATE VIEW unreleased_movies AS\n",
      "SELECT *\n",
      "FROM movies\n",
      "WHERE release_status != 'Released'\n",
      "LIMIT 10;]\n",
      "(Background on this error at: https://sqlalche.me/e/20/e3q8)\n"
     ]
    }
   ],
   "source": [
    "%%sql \n",
    "CREATE VIEW unreleased_movies AS\n",
    "SELECT *\n",
    "FROM movies\n",
    "WHERE release_status != 'Released'\n",
    "LIMIT 10;"
   ]
  },
  {
   "cell_type": "markdown",
   "metadata": {
    "id": "GxuX_z8iJqny"
   },
   "source": [
    "### Question 15\n",
    "How would you select only the title, release date, and release status columns from the view you created in the previous question?\n"
   ]
  },
  {
   "cell_type": "code",
   "execution_count": 4,
   "metadata": {
    "id": "7E0ZI_d9Jqnz"
   },
   "outputs": [
    {
     "name": "stdout",
     "output_type": "stream",
     "text": [
      " * sqlite:///TMDB.db\n",
      "Done.\n"
     ]
    },
    {
     "data": {
      "text/html": [
       "<table>\n",
       "    <thead>\n",
       "        <tr>\n",
       "            <th>title</th>\n",
       "            <th>release_date</th>\n",
       "            <th>release_status</th>\n",
       "        </tr>\n",
       "    </thead>\n",
       "    <tbody>\n",
       "        <tr>\n",
       "            <td>Little Big Top</td>\n",
       "            <td>2006-01-01 00:00:00.000000</td>\n",
       "            <td>Rumored</td>\n",
       "        </tr>\n",
       "        <tr>\n",
       "            <td>The Helix... Loaded</td>\n",
       "            <td>2005-01-01 00:00:00.000000</td>\n",
       "            <td>Rumored</td>\n",
       "        </tr>\n",
       "        <tr>\n",
       "            <td>Higher Ground</td>\n",
       "            <td>2011-08-26 00:00:00.000000</td>\n",
       "            <td>Post Production</td>\n",
       "        </tr>\n",
       "        <tr>\n",
       "            <td>Crying with Laughter</td>\n",
       "            <td>2009-06-01 00:00:00.000000</td>\n",
       "            <td>Rumored</td>\n",
       "        </tr>\n",
       "        <tr>\n",
       "            <td>The Harvest (La Cosecha)</td>\n",
       "            <td>2011-07-29 00:00:00.000000</td>\n",
       "            <td>Rumored</td>\n",
       "        </tr>\n",
       "        <tr>\n",
       "            <td>The Naked Ape</td>\n",
       "            <td>2006-09-16 00:00:00.000000</td>\n",
       "            <td>Rumored</td>\n",
       "        </tr>\n",
       "        <tr>\n",
       "            <td>Brotherly Love</td>\n",
       "            <td>2015-04-24 00:00:00.000000</td>\n",
       "            <td>Post Production</td>\n",
       "        </tr>\n",
       "        <tr>\n",
       "            <td>Dancin&#x27; It&#x27;s On</td>\n",
       "            <td>2015-10-16 00:00:00.000000</td>\n",
       "            <td>Post Production</td>\n",
       "        </tr>\n",
       "    </tbody>\n",
       "</table>"
      ],
      "text/plain": [
       "[('Little Big Top', '2006-01-01 00:00:00.000000', 'Rumored'),\n",
       " ('The Helix... Loaded', '2005-01-01 00:00:00.000000', 'Rumored'),\n",
       " ('Higher Ground', '2011-08-26 00:00:00.000000', 'Post Production'),\n",
       " ('Crying with Laughter', '2009-06-01 00:00:00.000000', 'Rumored'),\n",
       " ('The Harvest (La Cosecha)', '2011-07-29 00:00:00.000000', 'Rumored'),\n",
       " ('The Naked Ape', '2006-09-16 00:00:00.000000', 'Rumored'),\n",
       " ('Brotherly Love', '2015-04-24 00:00:00.000000', 'Post Production'),\n",
       " (\"Dancin' It's On\", '2015-10-16 00:00:00.000000', 'Post Production')]"
      ]
     },
     "execution_count": 4,
     "metadata": {},
     "output_type": "execute_result"
    }
   ],
   "source": [
    "%%sql\n",
    "SELECT title, release_date, release_status\n",
    "FROM unreleased_movies\n",
    "LIMIT 10;"
   ]
  },
  {
   "cell_type": "markdown",
   "metadata": {
    "id": "WYqGtSSkJqnz"
   },
   "source": [
    "### Question 16\n",
    "How many movies are no longer using their original titles?\n",
    "\n"
   ]
  },
  {
   "cell_type": "code",
   "execution_count": 5,
   "metadata": {
    "id": "4l4MbDo2Jqn0"
   },
   "outputs": [
    {
     "name": "stdout",
     "output_type": "stream",
     "text": [
      " * sqlite:///TMDB.db\n",
      "Done.\n"
     ]
    },
    {
     "data": {
      "text/html": [
       "<table>\n",
       "    <thead>\n",
       "        <tr>\n",
       "            <th>COUNT(*)</th>\n",
       "        </tr>\n",
       "    </thead>\n",
       "    <tbody>\n",
       "        <tr>\n",
       "            <td>261</td>\n",
       "        </tr>\n",
       "    </tbody>\n",
       "</table>"
      ],
      "text/plain": [
       "[(261,)]"
      ]
     },
     "execution_count": 5,
     "metadata": {},
     "output_type": "execute_result"
    }
   ],
   "source": [
    "%%sql \n",
    "SELECT COUNT(*)\n",
    "FROM movies\n",
    "WHERE title != original_title;"
   ]
  },
  {
   "cell_type": "markdown",
   "metadata": {
    "id": "_ZJuNLfPJqn0"
   },
   "source": [
    "### Question 17\n",
    "What is the most popular movie that was made after 01/01/2000 with a budget of more than $100 000 000? (Hint: Use the popularity field in the Movies table. Larger numbers are more popular.)\n"
   ]
  },
  {
   "cell_type": "code",
   "execution_count": 13,
   "metadata": {
    "id": "AY2PN5HzJqn0"
   },
   "outputs": [
    {
     "name": "stdout",
     "output_type": "stream",
     "text": [
      " * sqlite:///TMDB.db\n",
      "Done.\n"
     ]
    },
    {
     "data": {
      "text/html": [
       "<table>\n",
       "    <thead>\n",
       "        <tr>\n",
       "            <th>title</th>\n",
       "        </tr>\n",
       "    </thead>\n",
       "    <tbody>\n",
       "        <tr>\n",
       "            <td>Interstellar</td>\n",
       "        </tr>\n",
       "        <tr>\n",
       "            <td>Guardians of the Galaxy</td>\n",
       "        </tr>\n",
       "        <tr>\n",
       "            <td>Mad Max: Fury Road</td>\n",
       "        </tr>\n",
       "        <tr>\n",
       "            <td>Jurassic World</td>\n",
       "        </tr>\n",
       "        <tr>\n",
       "            <td>Pirates of the Caribbean: The Curse of the Black Pearl</td>\n",
       "        </tr>\n",
       "        <tr>\n",
       "            <td>Dawn of the Planet of the Apes</td>\n",
       "        </tr>\n",
       "        <tr>\n",
       "            <td>The Hunger Games: Mockingjay - Part 1</td>\n",
       "        </tr>\n",
       "        <tr>\n",
       "            <td>Big Hero 6</td>\n",
       "        </tr>\n",
       "        <tr>\n",
       "            <td>Terminator Genisys</td>\n",
       "        </tr>\n",
       "        <tr>\n",
       "            <td>Captain America: Civil War</td>\n",
       "        </tr>\n",
       "    </tbody>\n",
       "</table>"
      ],
      "text/plain": [
       "[('Interstellar',),\n",
       " ('Guardians of the Galaxy',),\n",
       " ('Mad Max: Fury Road',),\n",
       " ('Jurassic World',),\n",
       " ('Pirates of the Caribbean: The Curse of the Black Pearl',),\n",
       " ('Dawn of the Planet of the Apes',),\n",
       " ('The Hunger Games: Mockingjay - Part 1',),\n",
       " ('Big Hero 6',),\n",
       " ('Terminator Genisys',),\n",
       " ('Captain America: Civil War',)]"
      ]
     },
     "execution_count": 13,
     "metadata": {},
     "output_type": "execute_result"
    }
   ],
   "source": [
    "%%sql \n",
    "SELECT title\n",
    "FROM movies\n",
    "WHERE release_date > '2000-01-01' AND budget > 100000000\n",
    "ORDER BY popularity DESC\n",
    "LIMIT 10;"
   ]
  },
  {
   "cell_type": "markdown",
   "metadata": {
    "id": "CfRuCZ68Jqn0"
   },
   "source": [
    "### Question 18\n",
    "How many movies are there that do not have English as their original language? \n",
    "\n"
   ]
  },
  {
   "cell_type": "code",
   "execution_count": 14,
   "metadata": {
    "id": "xptzYlgmJqn1"
   },
   "outputs": [
    {
     "name": "stdout",
     "output_type": "stream",
     "text": [
      " * sqlite:///TMDB.db\n",
      "Done.\n"
     ]
    },
    {
     "data": {
      "text/html": [
       "<table>\n",
       "    <thead>\n",
       "        <tr>\n",
       "            <th>COUNT(*)</th>\n",
       "        </tr>\n",
       "    </thead>\n",
       "    <tbody>\n",
       "        <tr>\n",
       "            <td>298</td>\n",
       "        </tr>\n",
       "    </tbody>\n",
       "</table>"
      ],
      "text/plain": [
       "[(298,)]"
      ]
     },
     "execution_count": 14,
     "metadata": {},
     "output_type": "execute_result"
    }
   ],
   "source": [
    "%%sql \n",
    "SELECT COUNT(*)\n",
    "FROM movies\n",
    "WHERE original_language != 'en';"
   ]
  },
  {
   "cell_type": "markdown",
   "metadata": {
    "id": "Xrn3qSOTJqn1"
   },
   "source": [
    "### Question 19\n",
    "How many movies in the database were produced by Pixar Animation Studios?\n",
    "\n"
   ]
  },
  {
   "cell_type": "code",
   "execution_count": 26,
   "metadata": {
    "id": "KaZyZChwJqn2"
   },
   "outputs": [
    {
     "name": "stdout",
     "output_type": "stream",
     "text": [
      " * sqlite:///TMDB.db\n",
      "Done.\n"
     ]
    },
    {
     "data": {
      "text/html": [
       "<table>\n",
       "    <thead>\n",
       "        <tr>\n",
       "            <th>COUNT(*)</th>\n",
       "        </tr>\n",
       "    </thead>\n",
       "    <tbody>\n",
       "        <tr>\n",
       "            <td>16</td>\n",
       "        </tr>\n",
       "    </tbody>\n",
       "</table>"
      ],
      "text/plain": [
       "[(16,)]"
      ]
     },
     "execution_count": 26,
     "metadata": {},
     "output_type": "execute_result"
    }
   ],
   "source": [
    "%%sql \n",
    "SELECT COUNT(*)\n",
    "FROM productioncompanymap\n",
    "WHERE production_company_id = (SELECT production_company_id\n",
    "                               FROM productioncompanies\n",
    "                               WHERE production_company_name = 'Pixar Animation Studios');"
   ]
  },
  {
   "cell_type": "markdown",
   "metadata": {
    "id": "_ewCIJeBJqn2"
   },
   "source": [
    "### Question 20\n",
    "How many movies are in the database that are both a Romance and a Comedy?\n"
   ]
  },
  {
   "cell_type": "code",
   "execution_count": 32,
   "metadata": {
    "id": "4plDKomDJqn2"
   },
   "outputs": [
    {
     "name": "stdout",
     "output_type": "stream",
     "text": [
      " * sqlite:///TMDB.db\n",
      "Done.\n"
     ]
    },
    {
     "data": {
      "text/html": [
       "<table>\n",
       "    <thead>\n",
       "        <tr>\n",
       "            <th>COUNT(*)</th>\n",
       "        </tr>\n",
       "    </thead>\n",
       "    <tbody>\n",
       "        <tr>\n",
       "            <td>484</td>\n",
       "        </tr>\n",
       "    </tbody>\n",
       "</table>"
      ],
      "text/plain": [
       "[(484,)]"
      ]
     },
     "execution_count": 32,
     "metadata": {},
     "output_type": "execute_result"
    }
   ],
   "source": [
    "%%sql \n",
    "SELECT COUNT(*)\n",
    "FROM movies m\n",
    "JOIN genremap gm1 ON m.movie_id = gm1.movie_id\n",
    "JOIN genres g1 ON gm1.genre_id = g1.genre_id\n",
    "JOIN genremap gm2 ON m.movie_id = gm2.movie_id\n",
    "JOIN genres g2 ON gm2.genre_id = g2.genre_id\n",
    "WHERE g1.genre_name = 'Romance' AND g2.genre_name = 'Comedy';\n"
   ]
  },
  {
   "cell_type": "markdown",
   "metadata": {
    "id": "SRlyr7qcJqn2"
   },
   "source": [
    "### Question 21\n",
    "What is the most popular action movie that has some German in it? (Hint: The German word for German is Deutsch)"
   ]
  },
  {
   "cell_type": "code",
   "execution_count": 34,
   "metadata": {
    "id": "9aS6m4uxJqn3"
   },
   "outputs": [
    {
     "name": "stdout",
     "output_type": "stream",
     "text": [
      " * sqlite:///TMDB.db\n",
      "Done.\n"
     ]
    },
    {
     "data": {
      "text/html": [
       "<table>\n",
       "    <thead>\n",
       "        <tr>\n",
       "            <th>title</th>\n",
       "        </tr>\n",
       "    </thead>\n",
       "    <tbody>\n",
       "        <tr>\n",
       "            <td>Captain America: Civil War</td>\n",
       "        </tr>\n",
       "    </tbody>\n",
       "</table>"
      ],
      "text/plain": [
       "[('Captain America: Civil War',)]"
      ]
     },
     "execution_count": 34,
     "metadata": {},
     "output_type": "execute_result"
    }
   ],
   "source": [
    "%%sql \n",
    "SELECT m.title\n",
    "FROM movies m\n",
    "JOIN languagemap lm ON m.movie_id = lm.movie_id\n",
    "JOIN languages l ON lm.iso_639_1 = l.iso_639_1\n",
    "JOIN genremap gm ON m.movie_id = gm.movie_id\n",
    "JOIN genres g ON gm.genre_id = g.genre_id\n",
    "WHERE g.genre_name = 'Action' AND l.iso_639_1 = 'de'\n",
    "ORDER BY m.popularity DESC\n",
    "LIMIT 1;"
   ]
  },
  {
   "cell_type": "markdown",
   "metadata": {
    "id": "1z4656wQJqn3"
   },
   "source": [
    "### Question 22\n",
    "In how many movies did Tom Cruise portray the character Ethan Hunt?\n",
    "\n"
   ]
  },
  {
   "cell_type": "code",
   "execution_count": 39,
   "metadata": {
    "id": "CiuwUD-NJqn3"
   },
   "outputs": [
    {
     "name": "stdout",
     "output_type": "stream",
     "text": [
      " * sqlite:///TMDB.db\n",
      "Done.\n"
     ]
    },
    {
     "data": {
      "text/html": [
       "<table>\n",
       "    <thead>\n",
       "        <tr>\n",
       "            <th>COUNT(*)</th>\n",
       "        </tr>\n",
       "    </thead>\n",
       "    <tbody>\n",
       "        <tr>\n",
       "            <td>5</td>\n",
       "        </tr>\n",
       "    </tbody>\n",
       "</table>"
      ],
      "text/plain": [
       "[(5,)]"
      ]
     },
     "execution_count": 39,
     "metadata": {},
     "output_type": "execute_result"
    }
   ],
   "source": [
    "%%sql \n",
    "SELECT COUNT(*)\n",
    "FROM movies m\n",
    "JOIN casts c ON m.movie_id = c.movie_id\n",
    "JOIN actors a ON c.actor_id = a.actor_id\n",
    "WHERE a.actor_name = 'Tom Cruise' AND c.characters = 'Ethan Hunt';\n",
    "\n"
   ]
  },
  {
   "cell_type": "markdown",
   "metadata": {
    "id": "cUsRwRKJJqn3"
   },
   "source": [
    "### Question 23 \n",
    "How many times was the actress Cate Blanchett nominated for an Oscar?"
   ]
  },
  {
   "cell_type": "code",
   "execution_count": 42,
   "metadata": {
    "id": "JV_kvB2nJqn3"
   },
   "outputs": [
    {
     "name": "stdout",
     "output_type": "stream",
     "text": [
      " * sqlite:///TMDB.db\n",
      "(sqlite3.OperationalError) no such column: a.nominated\n",
      "[SQL: SELECT COUNT(*)\n",
      "FROM oscars a\n",
      "JOIN actors ac ON a.actor_id = ac.id\n",
      "WHERE ac.actor_name = 'Cate Blanchett' AND a.award = 'Oscar' AND a.nominated = 1;]\n",
      "(Background on this error at: https://sqlalche.me/e/20/e3q8)\n"
     ]
    }
   ],
   "source": [
    "%%sql \n",
    "SELECT COUNT(*)\n",
    "FROM oscars a\n",
    "JOIN actors ac ON a.actor_id = ac.id\n",
    "WHERE ac.actor_name = 'Cate Blanchett' AND a.award = 'Oscar' AND a.nominated = 1;"
   ]
  },
  {
   "cell_type": "markdown",
   "metadata": {
    "id": "W8AUQIETJqn4"
   },
   "source": [
    "### Question 24\n",
    "How many movies contain at least one of the official South African Languages, Afrikaans or Zulu?"
   ]
  },
  {
   "cell_type": "code",
   "execution_count": 8,
   "metadata": {
    "id": "VzRS8ueKJqn4"
   },
   "outputs": [
    {
     "name": "stdout",
     "output_type": "stream",
     "text": [
      " * sqlite:///TMDB.db\n",
      "Done.\n"
     ]
    },
    {
     "data": {
      "text/html": [
       "<table>\n",
       "    <thead>\n",
       "        <tr>\n",
       "            <th>COUNT(*)</th>\n",
       "        </tr>\n",
       "    </thead>\n",
       "    <tbody>\n",
       "        <tr>\n",
       "            <td>11</td>\n",
       "        </tr>\n",
       "    </tbody>\n",
       "</table>"
      ],
      "text/plain": [
       "[(11,)]"
      ]
     },
     "execution_count": 8,
     "metadata": {},
     "output_type": "execute_result"
    }
   ],
   "source": [
    "%%sql\n",
    "SELECT COUNT(*)\n",
    "FROM movies m\n",
    "JOIN languagemap lm ON m.movie_id = lm.movie_id\n",
    "JOIN languages l ON lm.iso_639_1 = l.iso_639_1\n",
    "WHERE l.iso_639_1 IN ('af', 'zu');\n"
   ]
  },
  {
   "cell_type": "markdown",
   "metadata": {
    "id": "F_qQO_h7Jqn4"
   },
   "source": [
    "### Question 25\n",
    "Which of the movies mentioned above is the most popular?\n"
   ]
  },
  {
   "cell_type": "code",
   "execution_count": 11,
   "metadata": {
    "id": "U502HuAJJqn4"
   },
   "outputs": [
    {
     "name": "stdout",
     "output_type": "stream",
     "text": [
      " * sqlite:///TMDB.db\n",
      "Done.\n"
     ]
    },
    {
     "data": {
      "text/html": [
       "<table>\n",
       "    <thead>\n",
       "        <tr>\n",
       "            <th>title</th>\n",
       "        </tr>\n",
       "    </thead>\n",
       "    <tbody>\n",
       "        <tr>\n",
       "            <td>District 9</td>\n",
       "        </tr>\n",
       "    </tbody>\n",
       "</table>"
      ],
      "text/plain": [
       "[('District 9',)]"
      ]
     },
     "execution_count": 11,
     "metadata": {},
     "output_type": "execute_result"
    }
   ],
   "source": [
    "%%sql\n",
    "SELECT m.title\n",
    "FROM movies m\n",
    "JOIN languagemap lm ON m.movie_id = lm.movie_id\n",
    "JOIN languages l ON lm.iso_639_1 = l.iso_639_1\n",
    "WHERE l.iso_639_1 IN ('af', 'zu')\n",
    "ORDER BY m.popularity DESC\n",
    "LIMIT 1;"
   ]
  },
  {
   "cell_type": "markdown",
   "metadata": {
    "id": "eJltWXG3Jqn5"
   },
   "source": [
    "### Question 26\n",
    "What would be the code to change the name of the language with the ‘zh’ iso code in the “language” table to ‘Chinese’?\n"
   ]
  },
  {
   "cell_type": "code",
   "execution_count": null,
   "metadata": {
    "id": "1mxP-GuPJqn5"
   },
   "outputs": [],
   "source": [
    "%%sql \n",
    "# Your code here"
   ]
  },
  {
   "cell_type": "markdown",
   "metadata": {
    "id": "B2vmIMtTJqn5"
   },
   "source": [
    "### Question 27\n",
    "What would be the code to insert a new genre called ‘Sport’ with an id of 10? \n"
   ]
  },
  {
   "cell_type": "code",
   "execution_count": null,
   "metadata": {
    "id": "KxHhto3QJqn5"
   },
   "outputs": [],
   "source": [
    "%%sql \n",
    "# Your code here"
   ]
  },
  {
   "cell_type": "markdown",
   "metadata": {
    "id": "wJLGKPNqJqn5"
   },
   "source": [
    "### Question 28 \n",
    "You have just watched The Flintstones movie and did not find it very funny. What code would delete the entry that links The Flintstones to the Comedy genre?\n"
   ]
  },
  {
   "cell_type": "code",
   "execution_count": null,
   "metadata": {
    "id": "ClMS3iSiJqn5"
   },
   "outputs": [],
   "source": [
    "%%sql \n",
    "# Your code here"
   ]
  },
  {
   "cell_type": "markdown",
   "metadata": {
    "id": "ZHMUw-F3Jqn5"
   },
   "source": [
    "### Question 29\n",
    "What code will give the 10 most recently released movies in the database? \n"
   ]
  },
  {
   "cell_type": "code",
   "execution_count": 66,
   "metadata": {
    "id": "T7ZoP3zHJqn6"
   },
   "outputs": [
    {
     "name": "stdout",
     "output_type": "stream",
     "text": [
      " * sqlite:///TMDB.db\n",
      "Done.\n"
     ]
    },
    {
     "data": {
      "text/html": [
       "<table>\n",
       "    <thead>\n",
       "        <tr>\n",
       "            <th>movie_id</th>\n",
       "            <th>title</th>\n",
       "            <th>release_date</th>\n",
       "            <th>budget</th>\n",
       "            <th>homepage</th>\n",
       "            <th>original_language</th>\n",
       "            <th>original_title</th>\n",
       "            <th>overview</th>\n",
       "            <th>popularity</th>\n",
       "            <th>revenue</th>\n",
       "            <th>runtime</th>\n",
       "            <th>release_status</th>\n",
       "            <th>tagline</th>\n",
       "            <th>vote_average</th>\n",
       "            <th>vote_count</th>\n",
       "        </tr>\n",
       "    </thead>\n",
       "    <tbody>\n",
       "        <tr>\n",
       "            <td>426469</td>\n",
       "            <td>Growing Up Smith</td>\n",
       "            <td>2017-02-03 00:00:00.000000</td>\n",
       "            <td>0</td>\n",
       "            <td>http://www.growingupsmithmovie.com</td>\n",
       "            <td>en</td>\n",
       "            <td>Growing Up Smith</td>\n",
       "            <td>&quot;In 1979, an Indian family moves to America with hopes of living the American Dream. While their 10-year-old boy Smith falls head-over-heels for the girl next door, his desire to become a &quot;&quot;good old boy&quot;&quot; propels him further away from his family&#x27;s ideals than ever before.&quot;</td>\n",
       "            <td>0.71087</td>\n",
       "            <td>0.0</td>\n",
       "            <td>102.0</td>\n",
       "            <td>Released</td>\n",
       "            <td>ItÆs better to stand out than to fit in.</td>\n",
       "            <td>7.4</td>\n",
       "            <td>7</td>\n",
       "        </tr>\n",
       "        <tr>\n",
       "            <td>325373</td>\n",
       "            <td>Two Lovers and a Bear</td>\n",
       "            <td>2016-10-02 00:00:00.000000</td>\n",
       "            <td>0</td>\n",
       "            <td>None</td>\n",
       "            <td>en</td>\n",
       "            <td>Two Lovers and a Bear</td>\n",
       "            <td>Set in a small town near the North Pole where roads lead to nowhere, the story follows Roman and Lucy, two burning souls who come together to make a leap for life and inner peace.</td>\n",
       "            <td>3.139294</td>\n",
       "            <td>0.0</td>\n",
       "            <td>96.0</td>\n",
       "            <td>Released</td>\n",
       "            <td>None</td>\n",
       "            <td>6.8</td>\n",
       "            <td>27</td>\n",
       "        </tr>\n",
       "        <tr>\n",
       "            <td>374461</td>\n",
       "            <td>Mr. Church</td>\n",
       "            <td>2016-09-16 00:00:00.000000</td>\n",
       "            <td>8000000</td>\n",
       "            <td>None</td>\n",
       "            <td>en</td>\n",
       "            <td>Mr. Church</td>\n",
       "            <td>A unique friendship develops when a little girl and her dying mother inherit a cook - Mr. Church. What begins as an arrangement that should only last six months, instead spans fifteen years.</td>\n",
       "            <td>7.828459</td>\n",
       "            <td>0.0</td>\n",
       "            <td>104.0</td>\n",
       "            <td>Released</td>\n",
       "            <td>He was the one person she could always count on.</td>\n",
       "            <td>7.0</td>\n",
       "            <td>129</td>\n",
       "        </tr>\n",
       "        <tr>\n",
       "            <td>339408</td>\n",
       "            <td>The Birth of a Nation</td>\n",
       "            <td>2016-09-09 00:00:00.000000</td>\n",
       "            <td>8500000</td>\n",
       "            <td>http://www.foxsearchlight.com/thebirthofanation/</td>\n",
       "            <td>en</td>\n",
       "            <td>The Birth of a Nation</td>\n",
       "            <td>Nat Turner, a former slave in America, leads a liberation movement in 1831 to free African-Americans in Virgina that results in a violent retaliation from whites.</td>\n",
       "            <td>9.452808</td>\n",
       "            <td>15861566.0</td>\n",
       "            <td>120.0</td>\n",
       "            <td>Released</td>\n",
       "            <td>The Untold Story of Nat Turner</td>\n",
       "            <td>6.5</td>\n",
       "            <td>178</td>\n",
       "        </tr>\n",
       "        <tr>\n",
       "            <td>385736</td>\n",
       "            <td>Kicks</td>\n",
       "            <td>2016-09-09 00:00:00.000000</td>\n",
       "            <td>0</td>\n",
       "            <td>http://www.focusfeatures.com/kicks</td>\n",
       "            <td>en</td>\n",
       "            <td>Kicks</td>\n",
       "            <td>When his hard-earned kicks get snatched by a local hood, fifteen-year old Brandon and his two best friends go on an ill-advised mission across the Bay Area to retrieve the stolen sneakers.</td>\n",
       "            <td>3.467923</td>\n",
       "            <td>0.0</td>\n",
       "            <td>80.0</td>\n",
       "            <td>Released</td>\n",
       "            <td>They aren&#x27;t just shoes</td>\n",
       "            <td>7.5</td>\n",
       "            <td>18</td>\n",
       "        </tr>\n",
       "        <tr>\n",
       "            <td>332285</td>\n",
       "            <td>Antibirth</td>\n",
       "            <td>2016-09-02 00:00:00.000000</td>\n",
       "            <td>35000000</td>\n",
       "            <td>None</td>\n",
       "            <td>en</td>\n",
       "            <td>Antibirth</td>\n",
       "            <td>In a desolate community full of drug-addled Marines and rumors of kidnapping, a wild-eyed stoner named Lou wakes up after a crazy night of partying with symptoms of a strange illness and recurring visions. As she struggles to get a grip on reality, the stories of conspiracy spread.</td>\n",
       "            <td>3.674294</td>\n",
       "            <td>0.0</td>\n",
       "            <td>94.0</td>\n",
       "            <td>Released</td>\n",
       "            <td>None</td>\n",
       "            <td>4.8</td>\n",
       "            <td>40</td>\n",
       "        </tr>\n",
       "        <tr>\n",
       "            <td>184341</td>\n",
       "            <td>Hands of Stone</td>\n",
       "            <td>2016-08-26 00:00:00.000000</td>\n",
       "            <td>20000000</td>\n",
       "            <td>None</td>\n",
       "            <td>en</td>\n",
       "            <td>Hands of Stone</td>\n",
       "            <td>The legendary Roberto Duran and his equally legendary trainer Ray Arcel change each other&#x27;s lives.</td>\n",
       "            <td>7.444189</td>\n",
       "            <td>0.0</td>\n",
       "            <td>105.0</td>\n",
       "            <td>Released</td>\n",
       "            <td>No mßs. No surrender.</td>\n",
       "            <td>6.1</td>\n",
       "            <td>109</td>\n",
       "        </tr>\n",
       "        <tr>\n",
       "            <td>271969</td>\n",
       "            <td>Ben-Hur</td>\n",
       "            <td>2016-08-17 00:00:00.000000</td>\n",
       "            <td>100000000</td>\n",
       "            <td>http://www.benhurmovie.com/</td>\n",
       "            <td>en</td>\n",
       "            <td>Ben-Hur</td>\n",
       "            <td>A falsely accused nobleman survives years of slavery to take vengeance on his best friend who betrayed him.</td>\n",
       "            <td>29.608322</td>\n",
       "            <td>94061311.0</td>\n",
       "            <td>125.0</td>\n",
       "            <td>Released</td>\n",
       "            <td>First to finish. Last to die.</td>\n",
       "            <td>5.3</td>\n",
       "            <td>621</td>\n",
       "        </tr>\n",
       "        <tr>\n",
       "            <td>294272</td>\n",
       "            <td>Pete&#x27;s Dragon</td>\n",
       "            <td>2016-08-10 00:00:00.000000</td>\n",
       "            <td>65000000</td>\n",
       "            <td>http://movies.disney.com/petes-dragon-2016</td>\n",
       "            <td>en</td>\n",
       "            <td>Pete&#x27;s Dragon</td>\n",
       "            <td>Pete is a mysterious 10-year-old with no family and no home who claims to live in the woods with a giant, green dragon named Elliott. With the help of Natalie, an 11-year-old girl whose father Jack owns the local lumber mill, forest ranger Grace sets out to determine where Pete came from, where he belongs, and the truth about this dragon.</td>\n",
       "            <td>31.974359</td>\n",
       "            <td>143695338.0</td>\n",
       "            <td>102.0</td>\n",
       "            <td>Released</td>\n",
       "            <td>Some secrets are too big to keep.</td>\n",
       "            <td>6.2</td>\n",
       "            <td>679</td>\n",
       "        </tr>\n",
       "        <tr>\n",
       "            <td>297761</td>\n",
       "            <td>Suicide Squad</td>\n",
       "            <td>2016-08-02 00:00:00.000000</td>\n",
       "            <td>175000000</td>\n",
       "            <td>http://www.suicidesquad.com/</td>\n",
       "            <td>en</td>\n",
       "            <td>Suicide Squad</td>\n",
       "            <td>From DC Comics comes the Suicide Squad, an antihero team of incarcerated supervillains who act as deniable assets for the United States government, undertaking high-risk black ops missions in exchange for commuted prison sentences.</td>\n",
       "            <td>90.23792</td>\n",
       "            <td>745000000.0</td>\n",
       "            <td>123.0</td>\n",
       "            <td>Released</td>\n",
       "            <td>Worst Heroes Ever</td>\n",
       "            <td>5.9</td>\n",
       "            <td>7458</td>\n",
       "        </tr>\n",
       "    </tbody>\n",
       "</table>"
      ],
      "text/plain": [
       "[(426469, 'Growing Up Smith', '2017-02-03 00:00:00.000000', 0, 'http://www.growingupsmithmovie.com', 'en', 'Growing Up Smith', '\"In 1979, an Indian family moves to America with hopes of living the American Dream. While their 10-year-old boy Smith falls head-over-heels for the girl next door, his desire to become a \"\"good old boy\"\" propels him further away from his family\\'s ideals than ever before.\"', 0.71087, 0.0, 102.0, 'Released', 'ItÆs better to stand out than to fit in.', 7.4, 7),\n",
       " (325373, 'Two Lovers and a Bear', '2016-10-02 00:00:00.000000', 0, None, 'en', 'Two Lovers and a Bear', 'Set in a small town near the North Pole where roads lead to nowhere, the story follows Roman and Lucy, two burning souls who come together to make a leap for life and inner peace.', 3.139294, 0.0, 96.0, 'Released', None, 6.8, 27),\n",
       " (374461, 'Mr. Church', '2016-09-16 00:00:00.000000', 8000000, None, 'en', 'Mr. Church', 'A unique friendship develops when a little girl and her dying mother inherit a cook - Mr. Church. What begins as an arrangement that should only last six months, instead spans fifteen years.', 7.828459, 0.0, 104.0, 'Released', 'He was the one person she could always count on.', 7.0, 129),\n",
       " (339408, 'The Birth of a Nation', '2016-09-09 00:00:00.000000', 8500000, 'http://www.foxsearchlight.com/thebirthofanation/', 'en', 'The Birth of a Nation', 'Nat Turner, a former slave in America, leads a liberation movement in 1831 to free African-Americans in Virgina that results in a violent retaliation from whites.', 9.452808, 15861566.0, 120.0, 'Released', 'The Untold Story of Nat Turner', 6.5, 178),\n",
       " (385736, 'Kicks', '2016-09-09 00:00:00.000000', 0, 'http://www.focusfeatures.com/kicks', 'en', 'Kicks', 'When his hard-earned kicks get snatched by a local hood, fifteen-year old Brandon and his two best friends go on an ill-advised mission across the Bay Area to retrieve the stolen sneakers.', 3.467923, 0.0, 80.0, 'Released', \"They aren't just shoes\", 7.5, 18),\n",
       " (332285, 'Antibirth', '2016-09-02 00:00:00.000000', 35000000, None, 'en', 'Antibirth', 'In a desolate community full of drug-addled Marines and rumors of kidnapping, a wild-eyed stoner named Lou wakes up after a crazy night of partying with symptoms of a strange illness and recurring visions. As she struggles to get a grip on reality, the stories of conspiracy spread.', 3.674294, 0.0, 94.0, 'Released', None, 4.8, 40),\n",
       " (184341, 'Hands of Stone', '2016-08-26 00:00:00.000000', 20000000, None, 'en', 'Hands of Stone', \"The legendary Roberto Duran and his equally legendary trainer Ray Arcel change each other's lives.\", 7.444189, 0.0, 105.0, 'Released', 'No mßs. No surrender.', 6.1, 109),\n",
       " (271969, 'Ben-Hur', '2016-08-17 00:00:00.000000', 100000000, 'http://www.benhurmovie.com/', 'en', 'Ben-Hur', 'A falsely accused nobleman survives years of slavery to take vengeance on his best friend who betrayed him.', 29.608322, 94061311.0, 125.0, 'Released', 'First to finish. Last to die.', 5.3, 621),\n",
       " (294272, \"Pete's Dragon\", '2016-08-10 00:00:00.000000', 65000000, 'http://movies.disney.com/petes-dragon-2016', 'en', \"Pete's Dragon\", 'Pete is a mysterious 10-year-old with no family and no home who claims to live in the woods with a giant, green dragon named Elliott. With the help o ... (42 characters truncated) ... r Jack owns the local lumber mill, forest ranger Grace sets out to determine where Pete came from, where he belongs, and the truth about this dragon.', 31.974359, 143695338.0, 102.0, 'Released', 'Some secrets are too big to keep.', 6.2, 679),\n",
       " (297761, 'Suicide Squad', '2016-08-02 00:00:00.000000', 175000000, 'http://www.suicidesquad.com/', 'en', 'Suicide Squad', 'From DC Comics comes the Suicide Squad, an antihero team of incarcerated supervillains who act as deniable assets for the United States government, undertaking high-risk black ops missions in exchange for commuted prison sentences.', 90.23792, 745000000.0, 123.0, 'Released', 'Worst Heroes Ever', 5.9, 7458)]"
      ]
     },
     "execution_count": 66,
     "metadata": {},
     "output_type": "execute_result"
    }
   ],
   "source": [
    "%%sql \n",
    "SELECT * \n",
    "FROM movies \n",
    "ORDER BY release_date \n",
    "DESC LIMIT 10;"
   ]
  },
  {
   "cell_type": "markdown",
   "metadata": {
    "id": "vf3P99TuJqn6"
   },
   "source": [
    "### Question 30\n",
    "What code would you use to add a column to the language table that could be used for the English names of the different languages?"
   ]
  },
  {
   "cell_type": "code",
   "execution_count": null,
   "metadata": {
    "id": "UTxH_gcCJqn6"
   },
   "outputs": [],
   "source": [
    "%%sql \n",
    "# Your code here"
   ]
  }
 ],
 "metadata": {
  "colab": {
   "name": "EDSA Final Exam pt1_SQL section_student version.ipynb",
   "provenance": []
  },
  "kernelspec": {
   "display_name": "Python 3 (ipykernel)",
   "language": "python",
   "name": "python3"
  },
  "language_info": {
   "codemirror_mode": {
    "name": "ipython",
    "version": 3
   },
   "file_extension": ".py",
   "mimetype": "text/x-python",
   "name": "python",
   "nbconvert_exporter": "python",
   "pygments_lexer": "ipython3",
   "version": "3.11.8"
  }
 },
 "nbformat": 4,
 "nbformat_minor": 4
}
