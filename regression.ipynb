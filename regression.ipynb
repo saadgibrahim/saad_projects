{
 "cells": [
  {
   "cell_type": "code",
   "execution_count": 1,
   "id": "d232b465-d132-4015-92c9-d507b0b8956f",
   "metadata": {},
   "outputs": [
    {
     "name": "stdout",
     "output_type": "stream",
     "text": [
      "The value of the intercept is: 3.2941036551619076\n"
     ]
    }
   ],
   "source": [
    "import pandas as pd\n",
    "\n",
    "# Load the data\n",
    "df = pd.read_csv('rand-dollar.csv', index_col=0)\n",
    "# Target variable\n",
    "y = df['ZAR/USD']\n",
    "\n",
    "# Predictor variable (Value of Exports (ZAR))\n",
    "X = df[['Value of Exports (ZAR)']]\n",
    "from sklearn.model_selection import train_test_split\n",
    "\n",
    "# Split the data\n",
    "X_train, X_test, y_train, y_test = train_test_split(X, y, test_size=0.2, shuffle=False)\n",
    "from sklearn.linear_model import LinearRegression\n",
    "\n",
    "# Initialize and train the model\n",
    "lm = LinearRegression()\n",
    "lm.fit(X_train, y_train)\n",
    "# Get the intercept\n",
    "intercept = lm.intercept_\n",
    "print(f\"The value of the intercept is: {intercept}\")"
   ]
  },
  {
   "cell_type": "code",
   "execution_count": 27,
   "id": "a6c9085e-4b41-4bfe-ab74-83e4748047ca",
   "metadata": {},
   "outputs": [
    {
     "name": "stdout",
     "output_type": "stream",
     "text": [
      "The value of the slope is: 8.677126339792253e-05\n"
     ]
    }
   ],
   "source": [
    "import pandas as pd\n",
    "from sklearn.model_selection import train_test_split\n",
    "from sklearn.linear_model import LinearRegression\n",
    "\n",
    "# Load the data\n",
    "df = pd.read_csv('rand-dollar.csv', index_col=0)\n",
    "\n",
    "# Separate the dataset into features (X) and target (y)\n",
    "y = df['ZAR/USD']\n",
    "X = df[['Value of Exports (ZAR)']]\n",
    "\n",
    "# Create an 80/20 split between train and test sets\n",
    "X_train, X_test, y_train, y_test = train_test_split(X, y, test_size=0.2, shuffle=False)\n",
    "\n",
    "# Train a simple linear regression model\n",
    "lm = LinearRegression()\n",
    "lm.fit(X_train, y_train)\n",
    "\n",
    "# Get the value of the slope (coefficient)\n",
    "slope = lm.coef_[0]\n",
    "print(f\"The value of the slope is: {slope}\")"
   ]
  },
  {
   "cell_type": "code",
   "execution_count": 4,
   "id": "8ea367da-09f5-4d6f-86de-33e24b014972",
   "metadata": {},
   "outputs": [
    {
     "name": "stdout",
     "output_type": "stream",
     "text": [
      "The predicted value of the exchange rate for exports totaling R100,000 is: 11.971229994954161 R/USD\n"
     ]
    },
    {
     "name": "stderr",
     "output_type": "stream",
     "text": [
      "C:\\Users\\hp\\anaconda3\\envs\\pyhton\\Lib\\site-packages\\sklearn\\base.py:439: UserWarning: X does not have valid feature names, but LinearRegression was fitted with feature names\n",
      "  warnings.warn(\n"
     ]
    }
   ],
   "source": [
    "import pandas as pd\n",
    "from sklearn.model_selection import train_test_split\n",
    "from sklearn.linear_model import LinearRegression\n",
    "\n",
    "# Load the data\n",
    "df = pd.read_csv('rand-dollar.csv', index_col=0)\n",
    "\n",
    "# Separate the dataset into features (X) and target (y)\n",
    "y = df['ZAR/USD']\n",
    "X = df[['Value of Exports (ZAR)']]\n",
    "\n",
    "# Create an 80/20 split between train and test sets\n",
    "X_train, X_test, y_train, y_test = train_test_split(X, y, test_size=0.2, shuffle=False)\n",
    "\n",
    "# Train a simple linear regression model\n",
    "lm = LinearRegression()\n",
    "lm.fit(X_train, y_train)\n",
    "\n",
    "# Predict the exchange rate for a month where exports total R100,000\n",
    "exports_value = 100000\n",
    "predicted_exchange_rate = lm.predict([[exports_value]])\n",
    "\n",
    "# Output the predicted exchange rate\n",
    "print(f\"The predicted value of the exchange rate for exports totaling R100,000 is: {predicted_exchange_rate[0]} R/USD\")"
   ]
  },
  {
   "cell_type": "code",
   "execution_count": 5,
   "id": "2252614e-0c45-4b89-846e-fc7a6534ae2d",
   "metadata": {},
   "outputs": [
    {
     "name": "stdout",
     "output_type": "stream",
     "text": [
      "The MSE of the model on the test set is: 8.221852113297055\n"
     ]
    }
   ],
   "source": [
    "import pandas as pd\n",
    "from sklearn.model_selection import train_test_split\n",
    "from sklearn.linear_model import LinearRegression\n",
    "from sklearn.metrics import mean_squared_error\n",
    "\n",
    "# Load the data\n",
    "df = pd.read_csv('rand-dollar.csv', index_col=0)\n",
    "\n",
    "# Separate the dataset into features (X) and target (y)\n",
    "y = df['ZAR/USD']\n",
    "X = df[['Value of Exports (ZAR)']]\n",
    "\n",
    "# Create an 80/20 split between train and test sets\n",
    "X_train, X_test, y_train, y_test = train_test_split(X, y, test_size=0.2, shuffle=False)\n",
    "\n",
    "# Train a simple linear regression model\n",
    "lm = LinearRegression()\n",
    "lm.fit(X_train, y_train)\n",
    "\n",
    "# Predict the exchange rates on the test set\n",
    "y_pred = lm.predict(X_test)\n",
    "\n",
    "# Calculate the Mean Squared Error\n",
    "mse = mean_squared_error(y_test, y_pred)\n",
    "print(f\"The MSE of the model on the test set is: {mse}\")"
   ]
  },
  {
   "cell_type": "code",
   "execution_count": 6,
   "id": "8f173e55-145f-424b-a4f0-9a1de4dd9206",
   "metadata": {},
   "outputs": [
    {
     "name": "stdout",
     "output_type": "stream",
     "text": [
      "The R-squared value of the model on the test set is: -8.448868004702904\n"
     ]
    }
   ],
   "source": [
    "import pandas as pd\n",
    "from sklearn.model_selection import train_test_split\n",
    "from sklearn.linear_model import LinearRegression\n",
    "\n",
    "# Load the data\n",
    "df = pd.read_csv('rand-dollar.csv', index_col=0)\n",
    "\n",
    "# Separate the dataset into features (X) and target (y)\n",
    "y = df['ZAR/USD']\n",
    "X = df[['Value of Exports (ZAR)']]\n",
    "\n",
    "# Create an 80/20 split between train and test sets\n",
    "X_train, X_test, y_train, y_test = train_test_split(X, y, test_size=0.2, shuffle=False)\n",
    "\n",
    "# Train a simple linear regression model\n",
    "lm = LinearRegression()\n",
    "lm.fit(X_train, y_train)\n",
    "\n",
    "# Calculate the R-squared value on the test set\n",
    "r_squared = lm.score(X_test, y_test)\n",
    "print(f\"The R-squared value of the model on the test set is: {r_squared}\")"
   ]
  },
  {
   "cell_type": "code",
   "execution_count": 30,
   "id": "8299bc65-bf01-4884-a3db-953a6a675a1e",
   "metadata": {},
   "outputs": [
    {
     "name": "stdout",
     "output_type": "stream",
     "text": [
      "The predicted value for August 2017 is 12.248826017678894\n"
     ]
    },
    {
     "name": "stderr",
     "output_type": "stream",
     "text": [
      "C:\\Users\\hp\\anaconda3\\envs\\pyhton\\Lib\\site-packages\\sklearn\\base.py:439: UserWarning: X does not have valid feature names, but LinearRegression was fitted with feature names\n",
      "  warnings.warn(\n"
     ]
    }
   ],
   "source": [
    "import pandas as pd\n",
    "from sklearn.model_selection import train_test_split\n",
    "from sklearn.linear_model import LinearRegression\n",
    "\n",
    "# Load the data set\n",
    "file_path = 'rand-dollar.csv'  # Adjust the path as needed\n",
    "df = pd.read_csv(file_path, index_col=0)\n",
    "\n",
    "# Parse the date index with the correct format\n",
    "df.index = pd.to_datetime(df.index, format='%YM%m')\n",
    "\n",
    "# Separate the data set into X (features) and y (targets)\n",
    "X = df[['Value of Exports (ZAR)']]\n",
    "y = df['ZAR/USD']\n",
    "\n",
    "# Create an 80/20 split between train and test sets\n",
    "X_train, X_test, y_train, y_test = train_test_split(X, y, test_size=0.2, shuffle=False)\n",
    "\n",
    "# Train a simple linear regression model\n",
    "lm = LinearRegression()\n",
    "lm.fit(X_train, y_train)\n",
    "\n",
    "# Predict the value for August 2017\n",
    "# Ensure '2017-08' is in datetime format and locate it in X_test\n",
    "august_2017_exports = X_test.loc['2017-08']\n",
    "\n",
    "# Make the prediction\n",
    "predicted_value_august_2017 = lm.predict(august_2017_exports.values.reshape(1, -1))\n",
    "\n",
    "# Display the predicted value\n",
    "print(f\"The predicted value for August 2017 is {predicted_value_august_2017[0]}\")\n"
   ]
  },
  {
   "cell_type": "code",
   "execution_count": 31,
   "id": "7095c110-f748-4de0-9451-f53db5f516dc",
   "metadata": {},
   "outputs": [
    {
     "name": "stdout",
     "output_type": "stream",
     "text": [
      "The predicted value for August 2017 is 12.248826017678894\n",
      "The actual value for August 2017 is 13.23\n",
      "The absolute error for this prediction is 0.9811739823211063\n"
     ]
    },
    {
     "name": "stderr",
     "output_type": "stream",
     "text": [
      "C:\\Users\\hp\\anaconda3\\envs\\pyhton\\Lib\\site-packages\\sklearn\\base.py:439: UserWarning: X does not have valid feature names, but LinearRegression was fitted with feature names\n",
      "  warnings.warn(\n"
     ]
    }
   ],
   "source": [
    "import pandas as pd\n",
    "from sklearn.model_selection import train_test_split\n",
    "from sklearn.linear_model import LinearRegression\n",
    "import numpy as np\n",
    "\n",
    "# Load the data set\n",
    "file_path = 'rand-dollar.csv'  # Adjust the path as needed\n",
    "df = pd.read_csv(file_path, index_col=0)\n",
    "\n",
    "# Parse the date index with the correct format\n",
    "df.index = pd.to_datetime(df.index, format='%YM%m')\n",
    "\n",
    "# Separate the data set into X (features) and y (targets)\n",
    "X = df[['Value of Exports (ZAR)']]\n",
    "y = df['ZAR/USD']\n",
    "\n",
    "# Create an 80/20 split between train and test sets\n",
    "X_train, X_test, y_train, y_test = train_test_split(X, y, test_size=0.2, shuffle=False)\n",
    "\n",
    "# Train a simple linear regression model\n",
    "lm = LinearRegression()\n",
    "lm.fit(X_train, y_train)\n",
    "\n",
    "# Predict the value for August 2017\n",
    "# Ensure '2017-08' is in datetime format and locate it in X_test\n",
    "august_2017_index = pd.to_datetime('2017-08')\n",
    "august_2017_exports = X_test.loc[august_2017_index].values.reshape(1, -1)\n",
    "\n",
    "# Make the prediction\n",
    "predicted_value_august_2017 = lm.predict(august_2017_exports)[0]\n",
    "\n",
    "# Get the actual value for August 2017\n",
    "actual_value_august_2017 = y_test.loc[august_2017_index]\n",
    "\n",
    "# Calculate the absolute error\n",
    "absolute_error = np.abs(predicted_value_august_2017 - actual_value_august_2017)\n",
    "\n",
    "# Display the results\n",
    "print(f\"The predicted value for August 2017 is {predicted_value_august_2017}\")\n",
    "print(f\"The actual value for August 2017 is {actual_value_august_2017}\")\n",
    "print(f\"The absolute error for this prediction is {absolute_error}\")\n"
   ]
  },
  {
   "cell_type": "code",
   "execution_count": 33,
   "id": "d91ef0d0-fd2b-4431-bfea-4ad9ce2c8da9",
   "metadata": {},
   "outputs": [
    {
     "name": "stdout",
     "output_type": "stream",
     "text": [
      "The variable with the weakest linear relationship with the ZAR/USD exchange rate is: Claims on Non-residents (USD)\n",
      "Correlation value: -0.7272781127462906\n"
     ]
    }
   ],
   "source": [
    "import pandas as pd\n",
    "\n",
    "# Load the data set\n",
    "file_path = 'rand-dollar.csv'  # Adjust the path as needed\n",
    "df = pd.read_csv(file_path, index_col=0)\n",
    "\n",
    "# Parse the date index with the correct format\n",
    "df.index = pd.to_datetime(df.index, format='%YM%m')\n",
    "\n",
    "# Calculate the correlation matrix\n",
    "correlation_matrix = df.corr()\n",
    "\n",
    "# Extract the correlations with the target variable 'ZAR/USD'\n",
    "target_correlations = correlation_matrix['ZAR/USD']\n",
    "\n",
    "# Find the variable with the weakest linear relationship with 'ZAR/USD'\n",
    "# Exclude the target variable itself from this consideration\n",
    "weakest_relationship_variable = target_correlations.drop(labels=['ZAR/USD']).idxmin()\n",
    "\n",
    "# Display the results\n",
    "print(f\"The variable with the weakest linear relationship with the ZAR/USD exchange rate is: {weakest_relationship_variable}\")\n",
    "print(f\"Correlation value: {target_correlations[weakest_relationship_variable]}\")\n"
   ]
  },
  {
   "cell_type": "code",
   "execution_count": 34,
   "id": "af79bda6-1d97-4397-871b-dbf1e5e113f4",
   "metadata": {},
   "outputs": [
    {
     "name": "stdout",
     "output_type": "stream",
     "text": [
      "The variable with the strongest linear relationship with the ZAR/USD exchange rate is: Consumer Price Index\n",
      "Correlation value: 0.8726596961841487\n"
     ]
    }
   ],
   "source": [
    "import pandas as pd\n",
    "\n",
    "# Load the data set\n",
    "file_path = 'rand-dollar.csv'  # Adjust the path as needed\n",
    "df = pd.read_csv(file_path, index_col=0)\n",
    "\n",
    "# Parse the date index with the correct format\n",
    "df.index = pd.to_datetime(df.index, format='%YM%m')\n",
    "\n",
    "# Calculate the correlation matrix\n",
    "correlation_matrix = df.corr()\n",
    "\n",
    "# Extract the correlations with the target variable 'ZAR/USD'\n",
    "target_correlations = correlation_matrix['ZAR/USD']\n",
    "\n",
    "# Find the variable with the strongest linear relationship with 'ZAR/USD'\n",
    "# Exclude the target variable itself from this consideration\n",
    "strongest_relationship_variable = target_correlations.drop(labels=['ZAR/USD']).idxmax()\n",
    "\n",
    "# Display the results\n",
    "print(f\"The variable with the strongest linear relationship with the ZAR/USD exchange rate is: {strongest_relationship_variable}\")\n",
    "print(f\"Correlation value: {target_correlations[strongest_relationship_variable]}\")\n"
   ]
  },
  {
   "cell_type": "code",
   "execution_count": 4,
   "id": "a6bd2fdc-02ae-424b-ada6-de7e718f98e2",
   "metadata": {},
   "outputs": [
    {
     "name": "stdout",
     "output_type": "stream",
     "text": [
      "The training MSE of the Ridge model is: 0.040232988276144833\n"
     ]
    }
   ],
   "source": [
    "import pandas as pd\n",
    "from sklearn.model_selection import train_test_split\n",
    "from sklearn.preprocessing import StandardScaler\n",
    "from sklearn.linear_model import Ridge, Lasso\n",
    "from sklearn.metrics import mean_squared_error\n",
    "\n",
    "# Load the data set\n",
    "file_path = 'rand-dollar.csv'  # Adjust the path as needed\n",
    "df = pd.read_csv(file_path, index_col=0)\n",
    "\n",
    "# Parse the date index with the correct format\n",
    "df.index = pd.to_datetime(df.index, format='%YM%m')\n",
    "\n",
    "# Separate the data set into X (features) and y (targets)\n",
    "X = df.drop(columns=['ZAR/USD'])\n",
    "y = df['ZAR/USD']\n",
    "\n",
    "# Standardize the entire X matrix\n",
    "scaler = StandardScaler()\n",
    "X_scaled = scaler.fit_transform(X)\n",
    "\n",
    "# Create X_train, X_test, y_train, y_test using the same chronological 80/20 split as before\n",
    "X_train, X_test, y_train, y_test = train_test_split(X_scaled, y, test_size=0.2, shuffle=False)\n",
    "\n",
    "# Train the Ridge regression model\n",
    "ridge = Ridge()\n",
    "ridge.fit(X_train, y_train)\n",
    "\n",
    "# Train the Lasso regression model with alpha=0.01\n",
    "lasso = Lasso(alpha=0.01)\n",
    "lasso.fit(X_train, y_train)\n",
    "\n",
    "# Calculate the training MSE for the Ridge model\n",
    "y_train_pred_ridge = ridge.predict(X_train)\n",
    "ridge_train_mse = mean_squared_error(y_train, y_train_pred_ridge)\n",
    "\n",
    "# Display the training MSE for the Ridge model\n",
    "print(f\"The training MSE of the Ridge model is: {ridge_train_mse}\")\n"
   ]
  },
  {
   "cell_type": "code",
   "execution_count": 5,
   "id": "e7b3bc09-f565-480b-8d9f-87b79760ec09",
   "metadata": {},
   "outputs": [
    {
     "name": "stdout",
     "output_type": "stream",
     "text": [
      "The training MSE of the LASSO model is: 0.04695493921820656\n"
     ]
    }
   ],
   "source": [
    "import pandas as pd\n",
    "from sklearn.model_selection import train_test_split\n",
    "from sklearn.preprocessing import StandardScaler\n",
    "from sklearn.linear_model import Ridge, Lasso\n",
    "from sklearn.metrics import mean_squared_error\n",
    "\n",
    "# Load the data set\n",
    "file_path = 'rand-dollar.csv'  # Adjust the path as needed\n",
    "df = pd.read_csv(file_path, index_col=0)\n",
    "\n",
    "# Parse the date index with the correct format\n",
    "df.index = pd.to_datetime(df.index, format='%YM%m')\n",
    "\n",
    "# Separate the data set into X (features) and y (targets)\n",
    "X = df.drop(columns=['ZAR/USD'])\n",
    "y = df['ZAR/USD']\n",
    "\n",
    "# Standardize the entire X matrix\n",
    "scaler = StandardScaler()\n",
    "X_scaled = scaler.fit_transform(X)\n",
    "\n",
    "# Create X_train, X_test, y_train, y_test using the same chronological 80/20 split as before\n",
    "X_train, X_test, y_train, y_test = train_test_split(X_scaled, y, test_size=0.2, shuffle=False)\n",
    "\n",
    "# Train the Lasso regression model with alpha=0.01\n",
    "lasso = Lasso(alpha=0.01)\n",
    "lasso.fit(X_train, y_train)\n",
    "\n",
    "# Calculate the training MSE for the Lasso model\n",
    "y_train_pred_lasso = lasso.predict(X_train)\n",
    "lasso_train_mse = mean_squared_error(y_train, y_train_pred_lasso)\n",
    "\n",
    "# Display the training MSE for the Lasso model\n",
    "print(f\"The training MSE of the LASSO model is: {lasso_train_mse}\")\n"
   ]
  },
  {
   "cell_type": "code",
   "execution_count": 6,
   "id": "ef0558e5-c624-4df0-b009-6e306c4cf1e2",
   "metadata": {},
   "outputs": [
    {
     "name": "stdout",
     "output_type": "stream",
     "text": [
      "The testing MSE of the Ridge model is: 0.6323866944567463\n"
     ]
    }
   ],
   "source": [
    "import pandas as pd\n",
    "from sklearn.model_selection import train_test_split\n",
    "from sklearn.preprocessing import StandardScaler\n",
    "from sklearn.linear_model import Ridge, Lasso\n",
    "from sklearn.metrics import mean_squared_error\n",
    "\n",
    "# Load the data set\n",
    "file_path = 'rand-dollar.csv'  # Adjust the path as needed\n",
    "df = pd.read_csv(file_path, index_col=0)\n",
    "\n",
    "# Parse the date index with the correct format\n",
    "df.index = pd.to_datetime(df.index, format='%YM%m')\n",
    "\n",
    "# Separate the data set into X (features) and y (targets)\n",
    "X = df.drop(columns=['ZAR/USD'])\n",
    "y = df['ZAR/USD']\n",
    "\n",
    "# Standardize the entire X matrix\n",
    "scaler = StandardScaler()\n",
    "X_scaled = scaler.fit_transform(X)\n",
    "\n",
    "# Create X_train, X_test, y_train, y_test using the same chronological 80/20 split as before\n",
    "X_train, X_test, y_train, y_test = train_test_split(X_scaled, y, test_size=0.2, shuffle=False)\n",
    "\n",
    "# Train the Ridge regression model\n",
    "ridge = Ridge()\n",
    "ridge.fit(X_train, y_train)\n",
    "\n",
    "# Calculate the testing MSE for the Ridge model\n",
    "y_test_pred_ridge = ridge.predict(X_test)\n",
    "ridge_test_mse = mean_squared_error(y_test, y_test_pred_ridge)\n",
    "\n",
    "# Display the testing MSE for the Ridge model\n",
    "print(f\"The testing MSE of the Ridge model is: {ridge_test_mse}\")\n"
   ]
  },
  {
   "cell_type": "code",
   "execution_count": 7,
   "id": "ee000049-569d-4a4f-b2fd-1f087bd4a1a4",
   "metadata": {},
   "outputs": [
    {
     "name": "stdout",
     "output_type": "stream",
     "text": [
      "The testing MSE of the LASSO model is: 0.5790226574339906\n"
     ]
    }
   ],
   "source": [
    "import pandas as pd\n",
    "from sklearn.model_selection import train_test_split\n",
    "from sklearn.preprocessing import StandardScaler\n",
    "from sklearn.linear_model import Lasso\n",
    "from sklearn.metrics import mean_squared_error\n",
    "\n",
    "# Load the data set\n",
    "file_path = 'rand-dollar.csv'  # Adjust the path as needed\n",
    "df = pd.read_csv(file_path, index_col=0)\n",
    "\n",
    "# Parse the date index with the correct format\n",
    "df.index = pd.to_datetime(df.index, format='%YM%m')\n",
    "\n",
    "# Separate the data set into X (features) and y (targets)\n",
    "X = df.drop(columns=['ZAR/USD'])\n",
    "y = df['ZAR/USD']\n",
    "\n",
    "# Standardize the entire X matrix\n",
    "scaler = StandardScaler()\n",
    "X_scaled = scaler.fit_transform(X)\n",
    "\n",
    "# Create X_train, X_test, y_train, y_test using the same chronological 80/20 split as before\n",
    "X_train, X_test, y_train, y_test = train_test_split(X_scaled, y, test_size=0.2, shuffle=False)\n",
    "\n",
    "# Train the Lasso regression model with alpha=0.01\n",
    "lasso = Lasso(alpha=0.01)\n",
    "lasso.fit(X_train, y_train)\n",
    "\n",
    "# Calculate the testing MSE for the Lasso model\n",
    "y_test_pred_lasso = lasso.predict(X_test)\n",
    "lasso_test_mse = mean_squared_error(y_test, y_test_pred_lasso)\n",
    "\n",
    "# Display the testing MSE for the Lasso model\n",
    "print(f\"The testing MSE of the LASSO model is: {lasso_test_mse}\")\n"
   ]
  },
  {
   "cell_type": "code",
   "execution_count": 8,
   "id": "3d23263f-3a55-49f1-a1e3-e9fb40b59e12",
   "metadata": {},
   "outputs": [
    {
     "name": "stdout",
     "output_type": "stream",
     "text": [
      "The best predictor of the target variable is 'Value of Exports (ZAR)' with a coefficient of 1.0612.\n"
     ]
    }
   ],
   "source": [
    "import pandas as pd\n",
    "from sklearn.model_selection import train_test_split\n",
    "from sklearn.preprocessing import StandardScaler\n",
    "from sklearn.linear_model import Ridge\n",
    "\n",
    "# Load the data set\n",
    "file_path = 'rand-dollar.csv'  # Adjust the path as needed\n",
    "df = pd.read_csv(file_path, index_col=0)\n",
    "\n",
    "# Parse the date index with the correct format\n",
    "df.index = pd.to_datetime(df.index, format='%YM%m')\n",
    "\n",
    "# Separate the data set into X (features) and y (targets)\n",
    "X = df.drop(columns=['ZAR/USD'])\n",
    "y = df['ZAR/USD']\n",
    "\n",
    "# Standardize the entire X matrix\n",
    "scaler = StandardScaler()\n",
    "X_scaled = scaler.fit_transform(X)\n",
    "\n",
    "# Create X_train, X_test, y_train, y_test using the same chronological 80/20 split as before\n",
    "X_train, X_test, y_train, y_test = train_test_split(X_scaled, y, test_size=0.2, shuffle=False)\n",
    "\n",
    "# Train the Ridge regression model\n",
    "ridge = Ridge()\n",
    "ridge.fit(X_train, y_train)\n",
    "\n",
    "# Get the coefficients from the Ridge model\n",
    "coefficients = ridge.coef_\n",
    "\n",
    "# Create a DataFrame to display feature names with their corresponding coefficients\n",
    "coef_df = pd.DataFrame({\n",
    "    'Feature': X.columns,\n",
    "    'Coefficient': coefficients\n",
    "})\n",
    "\n",
    "# Add a column for the absolute value of the coefficients\n",
    "coef_df['Absolute Coefficient'] = coef_df['Coefficient'].abs()\n",
    "\n",
    "# Sort the DataFrame by the absolute value of the coefficients in descending order\n",
    "coef_df_sorted = coef_df.sort_values(by='Absolute Coefficient', ascending=False)\n",
    "\n",
    "# Display the feature with the highest absolute coefficient\n",
    "best_predictor = coef_df_sorted.iloc[0]\n",
    "\n",
    "print(f\"The best predictor of the target variable is '{best_predictor['Feature']}' with a coefficient of {best_predictor['Coefficient']:.4f}.\")\n"
   ]
  },
  {
   "cell_type": "code",
   "execution_count": 9,
   "id": "0db51663-12f6-42c9-bf34-0f235010f5df",
   "metadata": {},
   "outputs": [
    {
     "name": "stdout",
     "output_type": "stream",
     "text": [
      "The worst predictor of the target variable is 'Liabilities to Non-residents (USD)' with a coefficient of 0.0057.\n"
     ]
    }
   ],
   "source": [
    "import pandas as pd\n",
    "from sklearn.model_selection import train_test_split\n",
    "from sklearn.preprocessing import StandardScaler\n",
    "from sklearn.linear_model import Ridge\n",
    "\n",
    "# Load the data set\n",
    "file_path = 'rand-dollar.csv'  # Adjust the path as needed\n",
    "df = pd.read_csv(file_path, index_col=0)\n",
    "\n",
    "# Parse the date index with the correct format\n",
    "df.index = pd.to_datetime(df.index, format='%YM%m')\n",
    "\n",
    "# Separate the data set into X (features) and y (targets)\n",
    "X = df.drop(columns=['ZAR/USD'])\n",
    "y = df['ZAR/USD']\n",
    "\n",
    "# Standardize the entire X matrix\n",
    "scaler = StandardScaler()\n",
    "X_scaled = scaler.fit_transform(X)\n",
    "\n",
    "# Create X_train, X_test, y_train, y_test using the same chronological 80/20 split as before\n",
    "X_train, X_test, y_train, y_test = train_test_split(X_scaled, y, test_size=0.2, shuffle=False)\n",
    "\n",
    "# Train the Ridge regression model\n",
    "ridge = Ridge()\n",
    "ridge.fit(X_train, y_train)\n",
    "\n",
    "# Get the coefficients from the Ridge model\n",
    "coefficients = ridge.coef_\n",
    "\n",
    "# Create a DataFrame to display feature names with their corresponding coefficients\n",
    "coef_df = pd.DataFrame({\n",
    "    'Feature': X.columns,\n",
    "    'Coefficient': coefficients\n",
    "})\n",
    "\n",
    "# Add a column for the absolute value of the coefficients\n",
    "coef_df['Absolute Coefficient'] = coef_df['Coefficient'].abs()\n",
    "\n",
    "# Sort the DataFrame by the absolute value of the coefficients in ascending order\n",
    "coef_df_sorted = coef_df.sort_values(by='Absolute Coefficient', ascending=True)\n",
    "\n",
    "# Display the feature with the lowest absolute coefficient\n",
    "worst_predictor = coef_df_sorted.iloc[0]\n",
    "\n",
    "print(f\"The worst predictor of the target variable is '{worst_predictor['Feature']}' with a coefficient of {worst_predictor['Coefficient']:.4f}.\")\n"
   ]
  },
  {
   "cell_type": "code",
   "execution_count": 10,
   "id": "74d097c6-144b-4438-8326-03d7b7805c5c",
   "metadata": {},
   "outputs": [
    {
     "name": "stdout",
     "output_type": "stream",
     "text": [
      "The best predictor of the target variable is 'Value of Imports (ZAR)' with a coefficient of 1.1718.\n"
     ]
    }
   ],
   "source": [
    "import pandas as pd\n",
    "from sklearn.model_selection import train_test_split\n",
    "from sklearn.preprocessing import StandardScaler\n",
    "from sklearn.linear_model import Lasso\n",
    "\n",
    "# Load the data set\n",
    "file_path = 'rand-dollar.csv'  # Adjust the path as needed\n",
    "df = pd.read_csv(file_path, index_col=0)\n",
    "\n",
    "# Parse the date index with the correct format\n",
    "df.index = pd.to_datetime(df.index, format='%YM%m')\n",
    "\n",
    "# Separate the data set into X (features) and y (targets)\n",
    "X = df.drop(columns=['ZAR/USD'])\n",
    "y = df['ZAR/USD']\n",
    "\n",
    "# Standardize the entire X matrix\n",
    "scaler = StandardScaler()\n",
    "X_scaled = scaler.fit_transform(X)\n",
    "\n",
    "# Create X_train, X_test, y_train, y_test using the same chronological 80/20 split as before\n",
    "X_train, X_test, y_train, y_test = train_test_split(X_scaled, y, test_size=0.2, shuffle=False)\n",
    "\n",
    "# Train the Lasso regression model with alpha=0.01\n",
    "lasso = Lasso(alpha=0.01)\n",
    "lasso.fit(X_train, y_train)\n",
    "\n",
    "# Get the coefficients from the Lasso model\n",
    "coefficients = lasso.coef_\n",
    "\n",
    "# Create a DataFrame to display feature names with their corresponding coefficients\n",
    "coef_df = pd.DataFrame({\n",
    "    'Feature': X.columns,\n",
    "    'Coefficient': coefficients\n",
    "})\n",
    "\n",
    "# Add a column for the absolute value of the coefficients\n",
    "coef_df['Absolute Coefficient'] = coef_df['Coefficient'].abs()\n",
    "\n",
    "# Sort the DataFrame by the absolute value of the coefficients in descending order\n",
    "coef_df_sorted = coef_df.sort_values(by='Absolute Coefficient', ascending=False)\n",
    "\n",
    "# Display the feature with the highest absolute coefficient\n",
    "best_predictor = coef_df_sorted.iloc[0]\n",
    "\n",
    "print(f\"The best predictor of the target variable is '{best_predictor['Feature']}' with a coefficient of {best_predictor['Coefficient']:.4f}.\")\n"
   ]
  },
  {
   "cell_type": "code",
   "execution_count": 11,
   "id": "13669b2d-eabd-4caf-a4b1-88b8f7793185",
   "metadata": {},
   "outputs": [
    {
     "name": "stdout",
     "output_type": "stream",
     "text": [
      "The number of variables with coefficients equal to zero in the LASSO model is 4.\n"
     ]
    }
   ],
   "source": [
    "import pandas as pd\n",
    "from sklearn.model_selection import train_test_split\n",
    "from sklearn.preprocessing import StandardScaler\n",
    "from sklearn.linear_model import Lasso\n",
    "\n",
    "# Load the data set\n",
    "file_path = 'rand-dollar.csv'  # Adjust the path as needed\n",
    "df = pd.read_csv(file_path, index_col=0)\n",
    "\n",
    "# Parse the date index with the correct format\n",
    "df.index = pd.to_datetime(df.index, format='%YM%m')\n",
    "\n",
    "# Separate the data set into X (features) and y (targets)\n",
    "X = df.drop(columns=['ZAR/USD'])\n",
    "y = df['ZAR/USD']\n",
    "\n",
    "# Standardize the entire X matrix\n",
    "scaler = StandardScaler()\n",
    "X_scaled = scaler.fit_transform(X)\n",
    "\n",
    "# Create X_train, X_test, y_train, y_test using the same chronological 80/20 split as before\n",
    "X_train, X_test, y_train, y_test = train_test_split(X_scaled, y, test_size=0.2, shuffle=False)\n",
    "\n",
    "# Train the Lasso regression model with alpha=0.01\n",
    "lasso = Lasso(alpha=0.01)\n",
    "lasso.fit(X_train, y_train)\n",
    "\n",
    "# Get the coefficients from the Lasso model\n",
    "coefficients = lasso.coef_\n",
    "\n",
    "# Count the number of coefficients equal to zero\n",
    "num_zero_coefficients = (coefficients == 0).sum()\n",
    "\n",
    "print(f\"The number of variables with coefficients equal to zero in the LASSO model is {num_zero_coefficients}.\")\n"
   ]
  },
  {
   "cell_type": "code",
   "execution_count": 13,
   "id": "dd935e38-2fcf-4d89-89dd-8284acb5e0e1",
   "metadata": {},
   "outputs": [
    {
     "name": "stdout",
     "output_type": "stream",
     "text": [
      "   age     sex     bmi  steps  children smoker     region insurance_claim  \\\n",
      "0   19  female  27.900   3009         0    yes  southwest             yes   \n",
      "1   18    male  33.770   3008         1     no  southeast             yes   \n",
      "2   28    male  33.000   3009         3     no  southeast              no   \n",
      "3   33    male  22.705  10009         0     no  northwest              no   \n",
      "4   32    male  28.880   8010         0     no  northwest             yes   \n",
      "\n",
      "   claim_amount  \n",
      "0    16884.9240  \n",
      "1     1725.5523  \n",
      "2        0.0000  \n",
      "3        0.0000  \n",
      "4     3866.8552  \n",
      "Index(['age', 'sex', 'bmi', 'steps', 'children', 'smoker', 'region',\n",
      "       'insurance_claim', 'claim_amount'],\n",
      "      dtype='object')\n",
      "The proportion of individuals classified as overweight or obese (BMI greater than 25) is 0.82.\n"
     ]
    }
   ],
   "source": [
    "import pandas as pd\n",
    "\n",
    "# Load the data set\n",
    "file_path = 'claims_data.csv'\n",
    "df_claims = pd.read_csv(file_path)\n",
    "\n",
    "# Display the first few rows of the dataframe to identify the BMI column\n",
    "print(df_claims.head())\n",
    "\n",
    "# Check the column names to identify the BMI column\n",
    "print(df_claims.columns)\n",
    "\n",
    "# Assuming the BMI column is named 'BMI'\n",
    "# Calculate the proportion of individuals with BMI greater than 25\n",
    "overweight_or_obese = df_claims[df_claims['bmi'] > 25]\n",
    "proportion_overweight_or_obese = len(overweight_or_obese) / len(df_claims)\n",
    "\n",
    "print(f\"The proportion of individuals classified as overweight or obese (BMI greater than 25) is {proportion_overweight_or_obese:.2f}.\")\n"
   ]
  },
  {
   "cell_type": "code",
   "execution_count": 16,
   "id": "aa0831a6-0e6f-4de0-bcc8-ad26729e6a05",
   "metadata": {},
   "outputs": [
    {
     "name": "stderr",
     "output_type": "stream",
     "text": [
      "C:\\Users\\hp\\anaconda3\\envs\\pyhton\\Lib\\site-packages\\seaborn\\_oldcore.py:1119: FutureWarning: use_inf_as_na option is deprecated and will be removed in a future version. Convert inf values to NaN before operating instead.\n",
      "  with pd.option_context('mode.use_inf_as_na', True):\n"
     ]
    },
    {
     "data": {
      "image/png": "[encoded data removed]",
      "text/plain": [
       "<Figure size 1000x600 with 1 Axes>"
      ]
     },
     "metadata": {},
     "output_type": "display_data"
    },
    {
     "name": "stderr",
     "output_type": "stream",
     "text": [
      "C:\\Users\\hp\\anaconda3\\envs\\pyhton\\Lib\\site-packages\\seaborn\\_oldcore.py:1119: FutureWarning: use_inf_as_na option is deprecated and will be removed in a future version. Convert inf values to NaN before operating instead.\n",
      "  with pd.option_context('mode.use_inf_as_na', True):\n"
     ]
    },
    {
     "data": {
      "image/png": "[encoded data removed]",
      "text/plain": [
       "<Figure size 1000x600 with 1 Axes>"
      ]
     },
     "metadata": {},
     "output_type": "display_data"
    },
    {
     "name": "stdout",
     "output_type": "stream",
     "text": [
      "Chi-squared Statistic: 147.25905969996663\n",
      "P-value: 5.115174479873323e-30\n",
      "The Poisson distribution is not a good fit for the number of children in the dataset (reject H0).\n"
     ]
    }
   ],
   "source": [
    "import pandas as pd\n",
    "import matplotlib.pyplot as plt\n",
    "import seaborn as sns\n",
    "from scipy.stats import poisson, chisquare\n",
    "import numpy as np\n",
    "\n",
    "# Step 1: Read the data\n",
    "file_path = 'claims_data.csv'\n",
    "data = pd.read_csv(file_path)\n",
    "\n",
    "# Inspect the relevant column (assuming the column name is 'num_children')\n",
    "# Change 'num_children' to the appropriate column name from your dataset\n",
    "num_children = data['children']\n",
    "\n",
    "# Step 2: Visualize the data distribution\n",
    "plt.figure(figsize=(10, 6))\n",
    "sns.histplot(num_children, bins=max(num_children)-min(num_children)+1, kde=False, stat='density')\n",
    "plt.title('Histogram of Number of Children')\n",
    "plt.xlabel('Number of Children')\n",
    "plt.ylabel('Density')\n",
    "plt.show()\n",
    "\n",
    "# Step 3: Fit a Poisson distribution to the data\n",
    "lambda_estimate = num_children.mean()\n",
    "\n",
    "# Step 4: Compare the empirical distribution with the theoretical Poisson distribution\n",
    "x = range(0, max(num_children) + 1)\n",
    "poisson_pmf = [poisson.pmf(k, lambda_estimate) for k in x]\n",
    "\n",
    "plt.figure(figsize=(10, 6))\n",
    "sns.histplot(num_children, bins=max(num_children)-min(num_children)+1, kde=False, stat='density', label='Empirical')\n",
    "plt.plot(x, poisson_pmf, 'r-', label='Poisson PMF')\n",
    "plt.title('Empirical vs Theoretical Poisson Distribution')\n",
    "plt.xlabel('Number of Children')\n",
    "plt.ylabel('Density')\n",
    "plt.legend()\n",
    "plt.show()\n",
    "\n",
    "# Step 5: Perform a goodness-of-fit test (Chi-squared test)\n",
    "# Bin the data to use in chi-squared test\n",
    "observed_freq, bin_edges = np.histogram(num_children, bins=range(0, max(num_children) + 2))\n",
    "expected_freq = [poisson.pmf(k, lambda_estimate) * len(num_children) for k in range(0, max(num_children) + 1)]\n",
    "\n",
    "# Ensure the expected frequencies sum to the observed frequencies\n",
    "expected_freq = np.array(expected_freq)\n",
    "expected_freq[-1] += len(num_children) - expected_freq.sum()\n",
    "\n",
    "# Chi-squared test\n",
    "chi2_stat, p_value = chisquare(observed_freq, f_exp=expected_freq)\n",
    "\n",
    "# Print the results\n",
    "print(f\"Chi-squared Statistic: {chi2_stat}\")\n",
    "print(f\"P-value: {p_value}\")\n",
    "\n",
    "if p_value > 0.05:\n",
    "    print(\"The Poisson distribution is a good fit for the number of children in the dataset (fail to reject H0).\")\n",
    "else:\n",
    "    print(\"The Poisson distribution is not a good fit for the number of children in the dataset (reject H0).\")\n"
   ]
  },
  {
   "cell_type": "code",
   "execution_count": 17,
   "id": "3d83e886-f88f-4f8b-8d01-67da12271ebe",
   "metadata": {},
   "outputs": [
    {
     "name": "stdout",
     "output_type": "stream",
     "text": [
      "Mean age: 39.20702541106129\n",
      "Standard deviation of age: 14.049960379216172\n",
      "Total number of individuals: 1338\n",
      "Probability of being 60 or older: 0.06944580543215251\n",
      "Expected number of individuals aged 60 or older: 93\n",
      "Actual number of individuals aged 60 or older: 114\n",
      "The expected number of individuals aged 60 or older is less than the actual number.\n"
     ]
    }
   ],
   "source": [
    "import pandas as pd\n",
    "from scipy.stats import norm\n",
    "\n",
    "# Step 1: Read the data and calculate the mean and standard deviation of age\n",
    "file_path = 'claims_data.csv'\n",
    "data = pd.read_csv(file_path)\n",
    "\n",
    "# Change 'age' to the appropriate column name for age in your dataset\n",
    "ages = data['age']\n",
    "\n",
    "mean_age = ages.mean()\n",
    "std_age = ages.std()\n",
    "\n",
    "# Step 2: Compute the cumulative probability of being 60 or older\n",
    "cutoff_age = 60\n",
    "prob_60_or_older = 1 - norm.cdf(cutoff_age, mean_age, std_age)\n",
    "\n",
    "# Step 3: Estimate the expected number of individuals aged 60 or older\n",
    "total_individuals = len(ages)\n",
    "expected_num_60_or_older = round(prob_60_or_older * total_individuals)\n",
    "\n",
    "# Step 4: Compare with the actual number in the dataset\n",
    "actual_num_60_or_older = sum(ages >= cutoff_age)\n",
    "\n",
    "# Print the results\n",
    "print(f\"Mean age: {mean_age}\")\n",
    "print(f\"Standard deviation of age: {std_age}\")\n",
    "print(f\"Total number of individuals: {total_individuals}\")\n",
    "print(f\"Probability of being 60 or older: {prob_60_or_older}\")\n",
    "print(f\"Expected number of individuals aged 60 or older: {expected_num_60_or_older}\")\n",
    "print(f\"Actual number of individuals aged 60 or older: {actual_num_60_or_older}\")\n",
    "\n",
    "# Comparison\n",
    "if expected_num_60_or_older > actual_num_60_or_older:\n",
    "    print(\"The expected number of individuals aged 60 or older is greater than the actual number.\")\n",
    "elif expected_num_60_or_older < actual_num_60_or_older:\n",
    "    print(\"The expected number of individuals aged 60 or older is less than the actual number.\")\n",
    "else:\n",
    "    print(\"The expected number of individuals aged 60 or older is equal to the actual number.\")\n"
   ]
  },
  {
   "cell_type": "code",
   "execution_count": 18,
   "id": "708082cd-c84b-44dc-a352-69304669fd31",
   "metadata": {},
   "outputs": [
    {
     "name": "stderr",
     "output_type": "stream",
     "text": [
      "C:\\Users\\hp\\anaconda3\\envs\\pyhton\\Lib\\site-packages\\seaborn\\_oldcore.py:1119: FutureWarning: use_inf_as_na option is deprecated and will be removed in a future version. Convert inf values to NaN before operating instead.\n",
      "  with pd.option_context('mode.use_inf_as_na', True):\n",
      "C:\\Users\\hp\\anaconda3\\envs\\pyhton\\Lib\\site-packages\\seaborn\\_oldcore.py:1119: FutureWarning: use_inf_as_na option is deprecated and will be removed in a future version. Convert inf values to NaN before operating instead.\n",
      "  with pd.option_context('mode.use_inf_as_na', True):\n"
     ]
    },
    {
     "data": {
      "text/plain": [
       "<Figure size 1000x600 with 0 Axes>"
      ]
     },
     "metadata": {},
     "output_type": "display_data"
    },
    {
     "data": {
      "image/png": "[encoded data removed]",
      "text/plain": [
       "<Figure size 600x600 with 3 Axes>"
      ]
     },
     "metadata": {},
     "output_type": "display_data"
    }
   ],
   "source": [
    "import pandas as pd\n",
    "import seaborn as sns\n",
    "import matplotlib.pyplot as plt\n",
    "\n",
    "# Step 1: Read the data\n",
    "file_path = 'claims_data.csv'\n",
    "data = pd.read_csv(file_path)\n",
    "\n",
    "# Step 2: Create a joint plot of age and BMI\n",
    "# Change 'age' and 'bmi' to the appropriate column names in your dataset\n",
    "plt.figure(figsize=(10, 6))\n",
    "sns.jointplot(data=data, x='age', y='bmi', kind='scatter')\n",
    "\n",
    "# Optional: Customize the plot\n",
    "plt.suptitle('Joint Plot of Age and BMI', y=1.02)\n",
    "plt.xlabel('Age')\n",
    "plt.ylabel('BMI')\n",
    "\n",
    "# Display the plot\n",
    "plt.show()\n"
   ]
  },
  {
   "cell_type": "code",
   "execution_count": 19,
   "id": "3df58fb1-2afc-47be-bf95-ef00f08cbbfa",
   "metadata": {},
   "outputs": [
    {
     "name": "stdout",
     "output_type": "stream",
     "text": [
      "Proportion of correctly predicted claim indicators in the test set: 0.8552\n"
     ]
    },
    {
     "name": "stderr",
     "output_type": "stream",
     "text": [
      "C:\\Users\\hp\\anaconda3\\envs\\pyhton\\Lib\\site-packages\\sklearn\\linear_model\\_logistic.py:458: ConvergenceWarning: lbfgs failed to converge (status=1):\n",
      "STOP: TOTAL NO. of ITERATIONS REACHED LIMIT.\n",
      "\n",
      "Increase the number of iterations (max_iter) or scale the data as shown in:\n",
      "    https://scikit-learn.org/stable/modules/preprocessing.html\n",
      "Please also refer to the documentation for alternative solver options:\n",
      "    https://scikit-learn.org/stable/modules/linear_model.html#logistic-regression\n",
      "  n_iter_i = _check_optimize_result(\n"
     ]
    }
   ],
   "source": [
    "import pandas as pd\n",
    "from sklearn.model_selection import train_test_split\n",
    "from sklearn.linear_model import LogisticRegression\n",
    "from sklearn.metrics import accuracy_score\n",
    "\n",
    "# Step 1: Read the data\n",
    "file_path = 'claims_data.csv'\n",
    "data = pd.read_csv(file_path)\n",
    "\n",
    "# Drop 'claim_amount' column\n",
    "data = data.drop(columns=['claim_amount'])\n",
    "\n",
    "# Convert 'insurance_claim' to binary (assuming it is categorical)\n",
    "data['insurance_claim'] = data['insurance_claim'].apply(lambda x: 1 if x == 'yes' else 0)\n",
    "\n",
    "# Create dummy variables for categorical variables, drop the first category\n",
    "data = pd.get_dummies(data, drop_first=True)\n",
    "\n",
    "# Split the data into features (X) and target (y)\n",
    "X = data.drop(columns=['insurance_claim'])\n",
    "y = data['insurance_claim']\n",
    "\n",
    "# Step 2: Split the data into training and test sets\n",
    "X_train, X_test, y_train, y_test = train_test_split(X, y, test_size=0.33, random_state=42)\n",
    "\n",
    "# Step 3: Fit the logistic regression model\n",
    "logreg = LogisticRegression()\n",
    "logreg.fit(X_train, y_train)\n",
    "\n",
    "# Step 4: Predict on the test set\n",
    "y_pred = logreg.predict(X_test)\n",
    "\n",
    "# Step 5: Calculate the accuracy (proportion of correct predictions)\n",
    "accuracy = accuracy_score(y_test, y_pred)\n",
    "\n",
    "print(f\"Proportion of correctly predicted claim indicators in the test set: {accuracy:.4f}\")\n"
   ]
  },
  {
   "cell_type": "code",
   "execution_count": 22,
   "id": "60f3cef8-95e6-44c8-9686-e736319020cf",
   "metadata": {},
   "outputs": [
    {
     "ename": "ValueError",
     "evalue": "Pandas data cast to numpy dtype of object. Check input data with np.asarray(data).",
     "output_type": "error",
     "traceback": [
      "\u001b[1;31m---------------------------------------------------------------------------\u001b[0m",
      "\u001b[1;31mValueError\u001b[0m                                Traceback (most recent call last)",
      "Cell \u001b[1;32mIn[22], line 34\u001b[0m\n\u001b[0;32m     31\u001b[0m X_test \u001b[38;5;241m=\u001b[39m sm\u001b[38;5;241m.\u001b[39madd_constant(X_test)\n\u001b[0;32m     33\u001b[0m \u001b[38;5;66;03m# Step 4: Fit the logistic regression model using statsmodels\u001b[39;00m\n\u001b[1;32m---> 34\u001b[0m logit_model \u001b[38;5;241m=\u001b[39m sm\u001b[38;5;241m.\u001b[39mLogit(y_train, X_train)\n\u001b[0;32m     35\u001b[0m result \u001b[38;5;241m=\u001b[39m logit_model\u001b[38;5;241m.\u001b[39mfit()\n\u001b[0;32m     37\u001b[0m \u001b[38;5;66;03m# Step 5: Predict on the test set\u001b[39;00m\n",
      "File \u001b[1;32m~\\anaconda3\\envs\\pyhton\\Lib\\site-packages\\statsmodels\\discrete\\discrete_model.py:475\u001b[0m, in \u001b[0;36mBinaryModel.__init__\u001b[1;34m(self, endog, exog, offset, check_rank, **kwargs)\u001b[0m\n\u001b[0;32m    472\u001b[0m \u001b[38;5;28;01mdef\u001b[39;00m \u001b[38;5;21m__init__\u001b[39m(\u001b[38;5;28mself\u001b[39m, endog, exog, offset\u001b[38;5;241m=\u001b[39m\u001b[38;5;28;01mNone\u001b[39;00m, check_rank\u001b[38;5;241m=\u001b[39m\u001b[38;5;28;01mTrue\u001b[39;00m, \u001b[38;5;241m*\u001b[39m\u001b[38;5;241m*\u001b[39mkwargs):\n\u001b[0;32m    473\u001b[0m     \u001b[38;5;66;03m# unconditional check, requires no extra kwargs added by subclasses\u001b[39;00m\n\u001b[0;32m    474\u001b[0m     \u001b[38;5;28mself\u001b[39m\u001b[38;5;241m.\u001b[39m_check_kwargs(kwargs)\n\u001b[1;32m--> 475\u001b[0m     \u001b[38;5;28msuper\u001b[39m()\u001b[38;5;241m.\u001b[39m\u001b[38;5;21m__init__\u001b[39m(endog, exog, offset\u001b[38;5;241m=\u001b[39moffset, check_rank\u001b[38;5;241m=\u001b[39mcheck_rank,\n\u001b[0;32m    476\u001b[0m                      \u001b[38;5;241m*\u001b[39m\u001b[38;5;241m*\u001b[39mkwargs)\n\u001b[0;32m    477\u001b[0m     \u001b[38;5;28;01mif\u001b[39;00m \u001b[38;5;129;01mnot\u001b[39;00m \u001b[38;5;28missubclass\u001b[39m(\u001b[38;5;28mself\u001b[39m\u001b[38;5;241m.\u001b[39m\u001b[38;5;18m__class__\u001b[39m, MultinomialModel):\n\u001b[0;32m    478\u001b[0m         \u001b[38;5;28;01mif\u001b[39;00m \u001b[38;5;129;01mnot\u001b[39;00m np\u001b[38;5;241m.\u001b[39mall((\u001b[38;5;28mself\u001b[39m\u001b[38;5;241m.\u001b[39mendog \u001b[38;5;241m>\u001b[39m\u001b[38;5;241m=\u001b[39m \u001b[38;5;241m0\u001b[39m) \u001b[38;5;241m&\u001b[39m (\u001b[38;5;28mself\u001b[39m\u001b[38;5;241m.\u001b[39mendog \u001b[38;5;241m<\u001b[39m\u001b[38;5;241m=\u001b[39m \u001b[38;5;241m1\u001b[39m)):\n",
      "File \u001b[1;32m~\\anaconda3\\envs\\pyhton\\Lib\\site-packages\\statsmodels\\discrete\\discrete_model.py:185\u001b[0m, in \u001b[0;36mDiscreteModel.__init__\u001b[1;34m(self, endog, exog, check_rank, **kwargs)\u001b[0m\n\u001b[0;32m    183\u001b[0m \u001b[38;5;28;01mdef\u001b[39;00m \u001b[38;5;21m__init__\u001b[39m(\u001b[38;5;28mself\u001b[39m, endog, exog, check_rank\u001b[38;5;241m=\u001b[39m\u001b[38;5;28;01mTrue\u001b[39;00m, \u001b[38;5;241m*\u001b[39m\u001b[38;5;241m*\u001b[39mkwargs):\n\u001b[0;32m    184\u001b[0m     \u001b[38;5;28mself\u001b[39m\u001b[38;5;241m.\u001b[39m_check_rank \u001b[38;5;241m=\u001b[39m check_rank\n\u001b[1;32m--> 185\u001b[0m     \u001b[38;5;28msuper\u001b[39m()\u001b[38;5;241m.\u001b[39m\u001b[38;5;21m__init__\u001b[39m(endog, exog, \u001b[38;5;241m*\u001b[39m\u001b[38;5;241m*\u001b[39mkwargs)\n\u001b[0;32m    186\u001b[0m     \u001b[38;5;28mself\u001b[39m\u001b[38;5;241m.\u001b[39mraise_on_perfect_prediction \u001b[38;5;241m=\u001b[39m \u001b[38;5;28;01mFalse\u001b[39;00m  \u001b[38;5;66;03m# keep for backwards compat\u001b[39;00m\n\u001b[0;32m    187\u001b[0m     \u001b[38;5;28mself\u001b[39m\u001b[38;5;241m.\u001b[39mk_extra \u001b[38;5;241m=\u001b[39m \u001b[38;5;241m0\u001b[39m\n",
      "File \u001b[1;32m~\\anaconda3\\envs\\pyhton\\Lib\\site-packages\\statsmodels\\base\\model.py:270\u001b[0m, in \u001b[0;36mLikelihoodModel.__init__\u001b[1;34m(self, endog, exog, **kwargs)\u001b[0m\n\u001b[0;32m    269\u001b[0m \u001b[38;5;28;01mdef\u001b[39;00m \u001b[38;5;21m__init__\u001b[39m(\u001b[38;5;28mself\u001b[39m, endog, exog\u001b[38;5;241m=\u001b[39m\u001b[38;5;28;01mNone\u001b[39;00m, \u001b[38;5;241m*\u001b[39m\u001b[38;5;241m*\u001b[39mkwargs):\n\u001b[1;32m--> 270\u001b[0m     \u001b[38;5;28msuper\u001b[39m()\u001b[38;5;241m.\u001b[39m\u001b[38;5;21m__init__\u001b[39m(endog, exog, \u001b[38;5;241m*\u001b[39m\u001b[38;5;241m*\u001b[39mkwargs)\n\u001b[0;32m    271\u001b[0m     \u001b[38;5;28mself\u001b[39m\u001b[38;5;241m.\u001b[39minitialize()\n",
      "File \u001b[1;32m~\\anaconda3\\envs\\pyhton\\Lib\\site-packages\\statsmodels\\base\\model.py:95\u001b[0m, in \u001b[0;36mModel.__init__\u001b[1;34m(self, endog, exog, **kwargs)\u001b[0m\n\u001b[0;32m     93\u001b[0m missing \u001b[38;5;241m=\u001b[39m kwargs\u001b[38;5;241m.\u001b[39mpop(\u001b[38;5;124m'\u001b[39m\u001b[38;5;124mmissing\u001b[39m\u001b[38;5;124m'\u001b[39m, \u001b[38;5;124m'\u001b[39m\u001b[38;5;124mnone\u001b[39m\u001b[38;5;124m'\u001b[39m)\n\u001b[0;32m     94\u001b[0m hasconst \u001b[38;5;241m=\u001b[39m kwargs\u001b[38;5;241m.\u001b[39mpop(\u001b[38;5;124m'\u001b[39m\u001b[38;5;124mhasconst\u001b[39m\u001b[38;5;124m'\u001b[39m, \u001b[38;5;28;01mNone\u001b[39;00m)\n\u001b[1;32m---> 95\u001b[0m \u001b[38;5;28mself\u001b[39m\u001b[38;5;241m.\u001b[39mdata \u001b[38;5;241m=\u001b[39m \u001b[38;5;28mself\u001b[39m\u001b[38;5;241m.\u001b[39m_handle_data(endog, exog, missing, hasconst,\n\u001b[0;32m     96\u001b[0m                               \u001b[38;5;241m*\u001b[39m\u001b[38;5;241m*\u001b[39mkwargs)\n\u001b[0;32m     97\u001b[0m \u001b[38;5;28mself\u001b[39m\u001b[38;5;241m.\u001b[39mk_constant \u001b[38;5;241m=\u001b[39m \u001b[38;5;28mself\u001b[39m\u001b[38;5;241m.\u001b[39mdata\u001b[38;5;241m.\u001b[39mk_constant\n\u001b[0;32m     98\u001b[0m \u001b[38;5;28mself\u001b[39m\u001b[38;5;241m.\u001b[39mexog \u001b[38;5;241m=\u001b[39m \u001b[38;5;28mself\u001b[39m\u001b[38;5;241m.\u001b[39mdata\u001b[38;5;241m.\u001b[39mexog\n",
      "File \u001b[1;32m~\\anaconda3\\envs\\pyhton\\Lib\\site-packages\\statsmodels\\base\\model.py:135\u001b[0m, in \u001b[0;36mModel._handle_data\u001b[1;34m(self, endog, exog, missing, hasconst, **kwargs)\u001b[0m\n\u001b[0;32m    134\u001b[0m \u001b[38;5;28;01mdef\u001b[39;00m \u001b[38;5;21m_handle_data\u001b[39m(\u001b[38;5;28mself\u001b[39m, endog, exog, missing, hasconst, \u001b[38;5;241m*\u001b[39m\u001b[38;5;241m*\u001b[39mkwargs):\n\u001b[1;32m--> 135\u001b[0m     data \u001b[38;5;241m=\u001b[39m handle_data(endog, exog, missing, hasconst, \u001b[38;5;241m*\u001b[39m\u001b[38;5;241m*\u001b[39mkwargs)\n\u001b[0;32m    136\u001b[0m     \u001b[38;5;66;03m# kwargs arrays could have changed, easier to just attach here\u001b[39;00m\n\u001b[0;32m    137\u001b[0m     \u001b[38;5;28;01mfor\u001b[39;00m key \u001b[38;5;129;01min\u001b[39;00m kwargs:\n",
      "File \u001b[1;32m~\\anaconda3\\envs\\pyhton\\Lib\\site-packages\\statsmodels\\base\\data.py:675\u001b[0m, in \u001b[0;36mhandle_data\u001b[1;34m(endog, exog, missing, hasconst, **kwargs)\u001b[0m\n\u001b[0;32m    672\u001b[0m     exog \u001b[38;5;241m=\u001b[39m np\u001b[38;5;241m.\u001b[39masarray(exog)\n\u001b[0;32m    674\u001b[0m klass \u001b[38;5;241m=\u001b[39m handle_data_class_factory(endog, exog)\n\u001b[1;32m--> 675\u001b[0m \u001b[38;5;28;01mreturn\u001b[39;00m klass(endog, exog\u001b[38;5;241m=\u001b[39mexog, missing\u001b[38;5;241m=\u001b[39mmissing, hasconst\u001b[38;5;241m=\u001b[39mhasconst,\n\u001b[0;32m    676\u001b[0m              \u001b[38;5;241m*\u001b[39m\u001b[38;5;241m*\u001b[39mkwargs)\n",
      "File \u001b[1;32m~\\anaconda3\\envs\\pyhton\\Lib\\site-packages\\statsmodels\\base\\data.py:84\u001b[0m, in \u001b[0;36mModelData.__init__\u001b[1;34m(self, endog, exog, missing, hasconst, **kwargs)\u001b[0m\n\u001b[0;32m     82\u001b[0m     \u001b[38;5;28mself\u001b[39m\u001b[38;5;241m.\u001b[39morig_endog \u001b[38;5;241m=\u001b[39m endog\n\u001b[0;32m     83\u001b[0m     \u001b[38;5;28mself\u001b[39m\u001b[38;5;241m.\u001b[39morig_exog \u001b[38;5;241m=\u001b[39m exog\n\u001b[1;32m---> 84\u001b[0m     \u001b[38;5;28mself\u001b[39m\u001b[38;5;241m.\u001b[39mendog, \u001b[38;5;28mself\u001b[39m\u001b[38;5;241m.\u001b[39mexog \u001b[38;5;241m=\u001b[39m \u001b[38;5;28mself\u001b[39m\u001b[38;5;241m.\u001b[39m_convert_endog_exog(endog, exog)\n\u001b[0;32m     86\u001b[0m \u001b[38;5;28mself\u001b[39m\u001b[38;5;241m.\u001b[39mconst_idx \u001b[38;5;241m=\u001b[39m \u001b[38;5;28;01mNone\u001b[39;00m\n\u001b[0;32m     87\u001b[0m \u001b[38;5;28mself\u001b[39m\u001b[38;5;241m.\u001b[39mk_constant \u001b[38;5;241m=\u001b[39m \u001b[38;5;241m0\u001b[39m\n",
      "File \u001b[1;32m~\\anaconda3\\envs\\pyhton\\Lib\\site-packages\\statsmodels\\base\\data.py:509\u001b[0m, in \u001b[0;36mPandasData._convert_endog_exog\u001b[1;34m(self, endog, exog)\u001b[0m\n\u001b[0;32m    507\u001b[0m exog \u001b[38;5;241m=\u001b[39m exog \u001b[38;5;28;01mif\u001b[39;00m exog \u001b[38;5;129;01mis\u001b[39;00m \u001b[38;5;28;01mNone\u001b[39;00m \u001b[38;5;28;01melse\u001b[39;00m np\u001b[38;5;241m.\u001b[39masarray(exog)\n\u001b[0;32m    508\u001b[0m \u001b[38;5;28;01mif\u001b[39;00m endog\u001b[38;5;241m.\u001b[39mdtype \u001b[38;5;241m==\u001b[39m \u001b[38;5;28mobject\u001b[39m \u001b[38;5;129;01mor\u001b[39;00m exog \u001b[38;5;129;01mis\u001b[39;00m \u001b[38;5;129;01mnot\u001b[39;00m \u001b[38;5;28;01mNone\u001b[39;00m \u001b[38;5;129;01mand\u001b[39;00m exog\u001b[38;5;241m.\u001b[39mdtype \u001b[38;5;241m==\u001b[39m \u001b[38;5;28mobject\u001b[39m:\n\u001b[1;32m--> 509\u001b[0m     \u001b[38;5;28;01mraise\u001b[39;00m \u001b[38;5;167;01mValueError\u001b[39;00m(\u001b[38;5;124m\"\u001b[39m\u001b[38;5;124mPandas data cast to numpy dtype of object. \u001b[39m\u001b[38;5;124m\"\u001b[39m\n\u001b[0;32m    510\u001b[0m                      \u001b[38;5;124m\"\u001b[39m\u001b[38;5;124mCheck input data with np.asarray(data).\u001b[39m\u001b[38;5;124m\"\u001b[39m)\n\u001b[0;32m    511\u001b[0m \u001b[38;5;28;01mreturn\u001b[39;00m \u001b[38;5;28msuper\u001b[39m(PandasData, \u001b[38;5;28mself\u001b[39m)\u001b[38;5;241m.\u001b[39m_convert_endog_exog(endog, exog)\n",
      "\u001b[1;31mValueError\u001b[0m: Pandas data cast to numpy dtype of object. Check input data with np.asarray(data)."
     ]
    }
   ],
   "source": [
    "import pandas as pd\n",
    "import statsmodels.api as sm\n",
    "from sklearn.model_selection import train_test_split\n",
    "from sklearn.metrics import accuracy_score\n",
    "\n",
    "# Step 1: Read the data\n",
    "file_path = 'claims_data.csv'\n",
    "data = pd.read_csv(file_path)\n",
    "\n",
    "# Drop 'claim_amount' column\n",
    "data = data.drop(columns=['claim_amount'])\n",
    "\n",
    "# Convert 'insurance_claim' to binary (assuming it is categorical)\n",
    "data['insurance_claim'] = data['insurance_claim'].apply(lambda x: 1 if x == 'yes' else 0)\n",
    "\n",
    "# Create dummy variables for categorical variables, drop the first category\n",
    "data = pd.get_dummies(data, drop_first=True)\n",
    "\n",
    "# Ensure all data is numeric\n",
    "data = data.apply(pd.to_numeric)\n",
    "\n",
    "# Split the data into features (X) and target (y)\n",
    "X = data.drop(columns=['insurance_claim'])\n",
    "y = data['insurance_claim']\n",
    "\n",
    "# Step 2: Split the data into training and test sets\n",
    "X_train, X_test, y_train, y_test = train_test_split(X, y, test_size=0.33, random_state=42)\n",
    "\n",
    "# Step 3: Add a constant to the feature matrices\n",
    "X_train = sm.add_constant(X_train)\n",
    "X_test = sm.add_constant(X_test)\n",
    "\n",
    "# Step 4: Fit the logistic regression model using statsmodels\n",
    "logit_model = sm.Logit(y_train, X_train)\n",
    "result = logit_model.fit()\n",
    "\n",
    "# Step 5: Predict on the test set\n",
    "y_pred_prob = result.predict(X_test)\n",
    "y_pred = (y_pred_prob > 0.5).astype(int)\n",
    "\n",
    "# Step 6: Calculate the accuracy (proportion of correct predictions)\n",
    "accuracy = accuracy_score(y_test, y_pred)\n",
    "\n",
    "print(f\"Proportion of correctly predicted claim indicators in the test set: {accuracy:.4f}\")\n",
    "\n",
    "# Optional: Summarize the model results\n",
    "print(result.summary())\n"
   ]
  },
  {
   "cell_type": "code",
   "execution_count": 23,
   "id": "14937e7e-4ab2-4c74-9b15-d5f93c9f848d",
   "metadata": {},
   "outputs": [
    {
     "name": "stdout",
     "output_type": "stream",
     "text": [
      "False Negatives (FN): 8\n",
      "False Positives (FP): 5\n",
      "Confusion Matrix:\n",
      "[[176   5]\n",
      " [  8 253]]\n"
     ]
    }
   ],
   "source": [
    "import pandas as pd\n",
    "from sklearn.model_selection import train_test_split\n",
    "from sklearn.ensemble import RandomForestClassifier\n",
    "from sklearn.metrics import confusion_matrix\n",
    "\n",
    "# Step 1: Read the data\n",
    "file_path = 'claims_data.csv'\n",
    "data = pd.read_csv(file_path)\n",
    "\n",
    "# Drop 'claim_amount' column\n",
    "data = data.drop(columns=['claim_amount'])\n",
    "\n",
    "# Convert 'insurance_claim' to binary (assuming it is categorical)\n",
    "data['insurance_claim'] = data['insurance_claim'].apply(lambda x: 1 if x == 'yes' else 0)\n",
    "\n",
    "# Create dummy variables for categorical variables, drop the first category\n",
    "data = pd.get_dummies(data, drop_first=True)\n",
    "\n",
    "# Ensure all data is numeric\n",
    "data = data.apply(pd.to_numeric)\n",
    "\n",
    "# Split the data into features (X) and target (y)\n",
    "X = data.drop(columns=['insurance_claim'])\n",
    "y = data['insurance_claim']\n",
    "\n",
    "# Step 2: Split the data into training and test sets\n",
    "X_train, X_test, y_train, y_test = train_test_split(X, y, test_size=0.33, random_state=42)\n",
    "\n",
    "# Step 3: Fit the random forest classifier\n",
    "rf_model = RandomForestClassifier(n_estimators=100, random_state=101)\n",
    "rf_model.fit(X_train, y_train)\n",
    "\n",
    "# Step 4: Predict on the test set\n",
    "y_pred = rf_model.predict(X_test)\n",
    "\n",
    "# Step 5: Calculate the confusion matrix\n",
    "conf_matrix = confusion_matrix(y_test, y_pred)\n",
    "\n",
    "# Extract false negatives (FN) and false positives (FP)\n",
    "tn, fp, fn, tp = conf_matrix.ravel()\n",
    "\n",
    "print(f\"False Negatives (FN): {fn}\")\n",
    "print(f\"False Positives (FP): {fp}\")\n",
    "\n",
    "# To also print the confusion matrix for reference\n",
    "print(\"Confusion Matrix:\")\n",
    "print(conf_matrix)\n"
   ]
  },
  {
   "cell_type": "code",
   "execution_count": 25,
   "id": "01084c38-d2be-44e8-9891-9c368140056d",
   "metadata": {},
   "outputs": [
    {
     "name": "stdout",
     "output_type": "stream",
     "text": [
      "Accuracy with RBF kernel: 0.6968\n",
      "Accuracy with Sigmoid kernel: 0.6968\n",
      "Accuracy with Linear kernel: 0.8484\n",
      "The model with the best accuracy on the test data uses the Linear kernel.\n"
     ]
    }
   ],
   "source": [
    "import pandas as pd\n",
    "from sklearn.model_selection import train_test_split\n",
    "from sklearn.svm import SVC\n",
    "from sklearn.metrics import accuracy_score\n",
    "\n",
    "# Step 1: Read the data\n",
    "file_path = 'claims_data.csv'\n",
    "data = pd.read_csv(file_path)\n",
    "\n",
    "# Drop 'claim_amount' column\n",
    "data = data.drop(columns=['claim_amount'])\n",
    "\n",
    "# Convert 'insurance_claim' to binary (assuming it is categorical)\n",
    "data['insurance_claim'] = data['insurance_claim'].apply(lambda x: 1 if x == 'yes' else 0)\n",
    "\n",
    "# Create dummy variables for categorical variables, drop the first category\n",
    "data = pd.get_dummies(data, drop_first=True)\n",
    "\n",
    "# Ensure all data is numeric\n",
    "data = data.apply(pd.to_numeric)\n",
    "\n",
    "# Split the data into features (X) and target (y)\n",
    "X = data.drop(columns=['insurance_claim'])\n",
    "y = data['insurance_claim']\n",
    "\n",
    "# Step 2: Split the data into training and test sets\n",
    "X_train, X_test, y_train, y_test = train_test_split(X, y, test_size=0.33, random_state=42)\n",
    "\n",
    "# Step 3: Fit SVM models with different kernels\n",
    "\n",
    "# Radial basis function (RBF) kernel\n",
    "svm_rbf = SVC(kernel='rbf')\n",
    "svm_rbf.fit(X_train, y_train)\n",
    "y_pred_rbf = svm_rbf.predict(X_test)\n",
    "accuracy_rbf = accuracy_score(y_test, y_pred_rbf)\n",
    "\n",
    "# Sigmoid kernel\n",
    "svm_sigmoid = SVC(kernel='sigmoid')\n",
    "svm_sigmoid.fit(X_train, y_train)\n",
    "y_pred_sigmoid = svm_sigmoid.predict(X_test)\n",
    "accuracy_sigmoid = accuracy_score(y_test, y_pred_sigmoid)\n",
    "\n",
    "# Linear kernel\n",
    "svm_linear = SVC(kernel='linear')\n",
    "svm_linear.fit(X_train, y_train)\n",
    "y_pred_linear = svm_linear.predict(X_test)\n",
    "accuracy_linear = accuracy_score(y_test, y_pred_linear)\n",
    "\n",
    "# Print accuracies\n",
    "print(f\"Accuracy with RBF kernel: {accuracy_rbf:.4f}\")\n",
    "print(f\"Accuracy with Sigmoid kernel: {accuracy_sigmoid:.4f}\")\n",
    "print(f\"Accuracy with Linear kernel: {accuracy_linear:.4f}\")\n",
    "\n",
    "# Determine which model yields the best accuracy\n",
    "best_accuracy = max(accuracy_rbf, accuracy_sigmoid, accuracy_linear)\n",
    "if best_accuracy == accuracy_rbf:\n",
    "    best_kernel = \"RBF\"\n",
    "elif best_accuracy == accuracy_sigmoid:\n",
    "    best_kernel = \"Sigmoid\"\n",
    "else:\n",
    "    best_kernel = \"Linear\"\n",
    "\n",
    "print(f\"The model with the best accuracy on the test data uses the {best_kernel} kernel.\")\n"
   ]
  },
  {
   "cell_type": "code",
   "execution_count": 1,
   "id": "1a59068c-7348-4bf0-a180-9045a0735420",
   "metadata": {},
   "outputs": [
    {
     "ename": "ImportError",
     "evalue": "Missing optional dependency 'openpyxl'.  Use pip or conda to install openpyxl.",
     "output_type": "error",
     "traceback": [
      "\u001b[1;31m---------------------------------------------------------------------------\u001b[0m",
      "\u001b[1;31mModuleNotFoundError\u001b[0m                       Traceback (most recent call last)",
      "File \u001b[1;32m~\\anaconda3\\envs\\pyhton\\Lib\\site-packages\\pandas\\compat\\_optional.py:132\u001b[0m, in \u001b[0;36mimport_optional_dependency\u001b[1;34m(name, extra, errors, min_version)\u001b[0m\n\u001b[0;32m    131\u001b[0m \u001b[38;5;28;01mtry\u001b[39;00m:\n\u001b[1;32m--> 132\u001b[0m     module \u001b[38;5;241m=\u001b[39m importlib\u001b[38;5;241m.\u001b[39mimport_module(name)\n\u001b[0;32m    133\u001b[0m \u001b[38;5;28;01mexcept\u001b[39;00m \u001b[38;5;167;01mImportError\u001b[39;00m:\n",
      "File \u001b[1;32m~\\anaconda3\\envs\\pyhton\\Lib\\importlib\\__init__.py:126\u001b[0m, in \u001b[0;36mimport_module\u001b[1;34m(name, package)\u001b[0m\n\u001b[0;32m    125\u001b[0m         level \u001b[38;5;241m+\u001b[39m\u001b[38;5;241m=\u001b[39m \u001b[38;5;241m1\u001b[39m\n\u001b[1;32m--> 126\u001b[0m \u001b[38;5;28;01mreturn\u001b[39;00m _bootstrap\u001b[38;5;241m.\u001b[39m_gcd_import(name[level:], package, level)\n",
      "File \u001b[1;32m<frozen importlib._bootstrap>:1204\u001b[0m, in \u001b[0;36m_gcd_import\u001b[1;34m(name, package, level)\u001b[0m\n",
      "File \u001b[1;32m<frozen importlib._bootstrap>:1176\u001b[0m, in \u001b[0;36m_find_and_load\u001b[1;34m(name, import_)\u001b[0m\n",
      "File \u001b[1;32m<frozen importlib._bootstrap>:1140\u001b[0m, in \u001b[0;36m_find_and_load_unlocked\u001b[1;34m(name, import_)\u001b[0m\n",
      "\u001b[1;31mModuleNotFoundError\u001b[0m: No module named 'openpyxl'",
      "\nDuring handling of the above exception, another exception occurred:\n",
      "\u001b[1;31mImportError\u001b[0m                               Traceback (most recent call last)",
      "Cell \u001b[1;32mIn[1], line 5\u001b[0m\n\u001b[0;32m      3\u001b[0m \u001b[38;5;66;03m# Load the data from the Excel file\u001b[39;00m\n\u001b[0;32m      4\u001b[0m file_path \u001b[38;5;241m=\u001b[39m \u001b[38;5;124m'\u001b[39m\u001b[38;5;124mmatches.xlsx\u001b[39m\u001b[38;5;124m'\u001b[39m\n\u001b[1;32m----> 5\u001b[0m data \u001b[38;5;241m=\u001b[39m pd\u001b[38;5;241m.\u001b[39mread_excel(file_path)\n\u001b[0;32m      7\u001b[0m \u001b[38;5;66;03m# Calculate the proportion of matches where 'dl_applied' is 1\u001b[39;00m\n\u001b[0;32m      8\u001b[0m dl_applied_matches \u001b[38;5;241m=\u001b[39m data[\u001b[38;5;124m'\u001b[39m\u001b[38;5;124mdl_applied\u001b[39m\u001b[38;5;124m'\u001b[39m]\u001b[38;5;241m.\u001b[39msum()\n",
      "File \u001b[1;32m~\\anaconda3\\envs\\pyhton\\Lib\\site-packages\\pandas\\io\\excel\\_base.py:504\u001b[0m, in \u001b[0;36mread_excel\u001b[1;34m(io, sheet_name, header, names, index_col, usecols, dtype, engine, converters, true_values, false_values, skiprows, nrows, na_values, keep_default_na, na_filter, verbose, parse_dates, date_parser, date_format, thousands, decimal, comment, skipfooter, storage_options, dtype_backend, engine_kwargs)\u001b[0m\n\u001b[0;32m    502\u001b[0m \u001b[38;5;28;01mif\u001b[39;00m \u001b[38;5;129;01mnot\u001b[39;00m \u001b[38;5;28misinstance\u001b[39m(io, ExcelFile):\n\u001b[0;32m    503\u001b[0m     should_close \u001b[38;5;241m=\u001b[39m \u001b[38;5;28;01mTrue\u001b[39;00m\n\u001b[1;32m--> 504\u001b[0m     io \u001b[38;5;241m=\u001b[39m ExcelFile(\n\u001b[0;32m    505\u001b[0m         io,\n\u001b[0;32m    506\u001b[0m         storage_options\u001b[38;5;241m=\u001b[39mstorage_options,\n\u001b[0;32m    507\u001b[0m         engine\u001b[38;5;241m=\u001b[39mengine,\n\u001b[0;32m    508\u001b[0m         engine_kwargs\u001b[38;5;241m=\u001b[39mengine_kwargs,\n\u001b[0;32m    509\u001b[0m     )\n\u001b[0;32m    510\u001b[0m \u001b[38;5;28;01melif\u001b[39;00m engine \u001b[38;5;129;01mand\u001b[39;00m engine \u001b[38;5;241m!=\u001b[39m io\u001b[38;5;241m.\u001b[39mengine:\n\u001b[0;32m    511\u001b[0m     \u001b[38;5;28;01mraise\u001b[39;00m \u001b[38;5;167;01mValueError\u001b[39;00m(\n\u001b[0;32m    512\u001b[0m         \u001b[38;5;124m\"\u001b[39m\u001b[38;5;124mEngine should not be specified when passing \u001b[39m\u001b[38;5;124m\"\u001b[39m\n\u001b[0;32m    513\u001b[0m         \u001b[38;5;124m\"\u001b[39m\u001b[38;5;124man ExcelFile - ExcelFile already has the engine set\u001b[39m\u001b[38;5;124m\"\u001b[39m\n\u001b[0;32m    514\u001b[0m     )\n",
      "File \u001b[1;32m~\\anaconda3\\envs\\pyhton\\Lib\\site-packages\\pandas\\io\\excel\\_base.py:1580\u001b[0m, in \u001b[0;36mExcelFile.__init__\u001b[1;34m(self, path_or_buffer, engine, storage_options, engine_kwargs)\u001b[0m\n\u001b[0;32m   1577\u001b[0m \u001b[38;5;28mself\u001b[39m\u001b[38;5;241m.\u001b[39mengine \u001b[38;5;241m=\u001b[39m engine\n\u001b[0;32m   1578\u001b[0m \u001b[38;5;28mself\u001b[39m\u001b[38;5;241m.\u001b[39mstorage_options \u001b[38;5;241m=\u001b[39m storage_options\n\u001b[1;32m-> 1580\u001b[0m \u001b[38;5;28mself\u001b[39m\u001b[38;5;241m.\u001b[39m_reader \u001b[38;5;241m=\u001b[39m \u001b[38;5;28mself\u001b[39m\u001b[38;5;241m.\u001b[39m_engines[engine](\n\u001b[0;32m   1581\u001b[0m     \u001b[38;5;28mself\u001b[39m\u001b[38;5;241m.\u001b[39m_io,\n\u001b[0;32m   1582\u001b[0m     storage_options\u001b[38;5;241m=\u001b[39mstorage_options,\n\u001b[0;32m   1583\u001b[0m     engine_kwargs\u001b[38;5;241m=\u001b[39mengine_kwargs,\n\u001b[0;32m   1584\u001b[0m )\n",
      "File \u001b[1;32m~\\anaconda3\\envs\\pyhton\\Lib\\site-packages\\pandas\\io\\excel\\_openpyxl.py:552\u001b[0m, in \u001b[0;36mOpenpyxlReader.__init__\u001b[1;34m(self, filepath_or_buffer, storage_options, engine_kwargs)\u001b[0m\n\u001b[0;32m    534\u001b[0m \u001b[38;5;129m@doc\u001b[39m(storage_options\u001b[38;5;241m=\u001b[39m_shared_docs[\u001b[38;5;124m\"\u001b[39m\u001b[38;5;124mstorage_options\u001b[39m\u001b[38;5;124m\"\u001b[39m])\n\u001b[0;32m    535\u001b[0m \u001b[38;5;28;01mdef\u001b[39;00m \u001b[38;5;21m__init__\u001b[39m(\n\u001b[0;32m    536\u001b[0m     \u001b[38;5;28mself\u001b[39m,\n\u001b[1;32m   (...)\u001b[0m\n\u001b[0;32m    539\u001b[0m     engine_kwargs: \u001b[38;5;28mdict\u001b[39m \u001b[38;5;241m|\u001b[39m \u001b[38;5;28;01mNone\u001b[39;00m \u001b[38;5;241m=\u001b[39m \u001b[38;5;28;01mNone\u001b[39;00m,\n\u001b[0;32m    540\u001b[0m ) \u001b[38;5;241m-\u001b[39m\u001b[38;5;241m>\u001b[39m \u001b[38;5;28;01mNone\u001b[39;00m:\n\u001b[0;32m    541\u001b[0m \u001b[38;5;250m    \u001b[39m\u001b[38;5;124;03m\"\"\"\u001b[39;00m\n\u001b[0;32m    542\u001b[0m \u001b[38;5;124;03m    Reader using openpyxl engine.\u001b[39;00m\n\u001b[0;32m    543\u001b[0m \n\u001b[1;32m   (...)\u001b[0m\n\u001b[0;32m    550\u001b[0m \u001b[38;5;124;03m        Arbitrary keyword arguments passed to excel engine.\u001b[39;00m\n\u001b[0;32m    551\u001b[0m \u001b[38;5;124;03m    \"\"\"\u001b[39;00m\n\u001b[1;32m--> 552\u001b[0m     import_optional_dependency(\u001b[38;5;124m\"\u001b[39m\u001b[38;5;124mopenpyxl\u001b[39m\u001b[38;5;124m\"\u001b[39m)\n\u001b[0;32m    553\u001b[0m     \u001b[38;5;28msuper\u001b[39m()\u001b[38;5;241m.\u001b[39m\u001b[38;5;21m__init__\u001b[39m(\n\u001b[0;32m    554\u001b[0m         filepath_or_buffer,\n\u001b[0;32m    555\u001b[0m         storage_options\u001b[38;5;241m=\u001b[39mstorage_options,\n\u001b[0;32m    556\u001b[0m         engine_kwargs\u001b[38;5;241m=\u001b[39mengine_kwargs,\n\u001b[0;32m    557\u001b[0m     )\n",
      "File \u001b[1;32m~\\anaconda3\\envs\\pyhton\\Lib\\site-packages\\pandas\\compat\\_optional.py:135\u001b[0m, in \u001b[0;36mimport_optional_dependency\u001b[1;34m(name, extra, errors, min_version)\u001b[0m\n\u001b[0;32m    133\u001b[0m \u001b[38;5;28;01mexcept\u001b[39;00m \u001b[38;5;167;01mImportError\u001b[39;00m:\n\u001b[0;32m    134\u001b[0m     \u001b[38;5;28;01mif\u001b[39;00m errors \u001b[38;5;241m==\u001b[39m \u001b[38;5;124m\"\u001b[39m\u001b[38;5;124mraise\u001b[39m\u001b[38;5;124m\"\u001b[39m:\n\u001b[1;32m--> 135\u001b[0m         \u001b[38;5;28;01mraise\u001b[39;00m \u001b[38;5;167;01mImportError\u001b[39;00m(msg)\n\u001b[0;32m    136\u001b[0m     \u001b[38;5;28;01mreturn\u001b[39;00m \u001b[38;5;28;01mNone\u001b[39;00m\n\u001b[0;32m    138\u001b[0m \u001b[38;5;66;03m# Handle submodules: if we have submodule, grab parent module from sys.modules\u001b[39;00m\n",
      "\u001b[1;31mImportError\u001b[0m: Missing optional dependency 'openpyxl'.  Use pip or conda to install openpyxl."
     ]
    }
   ],
   "source": [
    "import pandas as pd\n",
    "\n",
    "# Load the data from the Excel file\n",
    "file_path = 'matches.xlsx'\n",
    "data = pd.read_excel(file_path)\n",
    "\n",
    "# Calculate the proportion of matches where 'dl_applied' is 1\n",
    "dl_applied_matches = data['dl_applied'].sum()\n",
    "total_matches = data.shape[0]\n",
    "proportion_dl_applied = dl_applied_matches / total_matches\n",
    "\n",
    "print(f\"Proportion of matches where the Duckworth-Lewis method was applied: {proportion_dl_applied:.4f}\")\n"
   ]
  },
  {
   "cell_type": "code",
   "execution_count": 1,
   "id": "126856d7-3828-4696-89aa-26cd033d0233",
   "metadata": {},
   "outputs": [
    {
     "name": "stdout",
     "output_type": "stream",
     "text": [
      "   id  season       city       date                        team1  \\\n",
      "0   1    2017  Hyderabad 2017-04-05          Sunrisers Hyderabad   \n",
      "1   2    2017       Pune 2017-04-06               Mumbai Indians   \n",
      "2   3    2017     Rajkot 2017-04-07                Gujarat Lions   \n",
      "3   4    2017     Indore 2017-04-08       Rising Pune Supergiant   \n",
      "4   5    2017  Bangalore 2017-04-08  Royal Challengers Bangalore   \n",
      "\n",
      "                         team2                  toss_winner toss_decision  \\\n",
      "0  Royal Challengers Bangalore  Royal Challengers Bangalore         field   \n",
      "1       Rising Pune Supergiant       Rising Pune Supergiant         field   \n",
      "2        Kolkata Knight Riders        Kolkata Knight Riders         field   \n",
      "3              Kings XI Punjab              Kings XI Punjab         field   \n",
      "4             Delhi Daredevils  Royal Challengers Bangalore           bat   \n",
      "\n",
      "   result  dl_applied                       winner  win_by_runs  \\\n",
      "0  normal           0          Sunrisers Hyderabad           35   \n",
      "1  normal           0       Rising Pune Supergiant            0   \n",
      "2  normal           0        Kolkata Knight Riders            0   \n",
      "3  normal           0              Kings XI Punjab            0   \n",
      "4  normal           0  Royal Challengers Bangalore           15   \n",
      "\n",
      "   win_by_wickets player_of_match                                      venue  \\\n",
      "0               0    Yuvraj Singh  Rajiv Gandhi International Stadium, Uppal   \n",
      "1               7       SPD Smith    Maharashtra Cricket Association Stadium   \n",
      "2              10         CA Lynn     Saurashtra Cricket Association Stadium   \n",
      "3               6      GJ Maxwell                     Holkar Cricket Stadium   \n",
      "4               0       KM Jadhav                      M Chinnaswamy Stadium   \n",
      "\n",
      "          umpire1        umpire2  \n",
      "0     AY Dandekar       NJ Llong  \n",
      "1  A Nand Kishore         S Ravi  \n",
      "2     Nitin Menon      CK Nandan  \n",
      "3    AK Chaudhary  C Shamshuddin  \n",
      "4             NaN            NaN  \n",
      "Index(['id', 'season', 'city', 'date', 'team1', 'team2', 'toss_winner',\n",
      "       'toss_decision', 'result', 'dl_applied', 'winner', 'win_by_runs',\n",
      "       'win_by_wickets', 'player_of_match', 'venue', 'umpire1', 'umpire2'],\n",
      "      dtype='object')\n",
      "The proportion of matches where the Duckworth-Lewis method was applied is 0.03.\n"
     ]
    }
   ],
   "source": [
    "import pandas as pd\n",
    "\n",
    "# Load the data set\n",
    "file_path = 'matches.xlsx'\n",
    "df_matches = pd.read_excel(file_path)\n",
    "\n",
    "# Display the first few rows of the dataframe to identify the dl_applied column\n",
    "print(df_matches.head())\n",
    "\n",
    "# Check the column names to identify the dl_applied column\n",
    "print(df_matches.columns)\n",
    "\n",
    "# Calculate the proportion of matches where dl_applied is 1\n",
    "dl_applied_matches = df_matches[df_matches['dl_applied'] == 1]\n",
    "proportion_dl_applied = len(dl_applied_matches) / len(df_matches)\n",
    "\n",
    "print(f\"The proportion of matches where the Duckworth-Lewis method was applied is {proportion_dl_applied:.2f}.\")\n"
   ]
  },
  {
   "cell_type": "code",
   "execution_count": 3,
   "id": "367ecfe3-2edc-46f3-9dc5-edb654af4979",
   "metadata": {},
   "outputs": [
    {
     "name": "stdout",
     "output_type": "stream",
     "text": [
      "Collecting openpyxl\n",
      "  Downloading openpyxl-3.1.5-py2.py3-none-any.whl.metadata (2.5 kB)\n",
      "Collecting et-xmlfile (from openpyxl)\n",
      "  Downloading et_xmlfile-1.1.0-py3-none-any.whl.metadata (1.8 kB)\n",
      "Downloading openpyxl-3.1.5-py2.py3-none-any.whl (250 kB)\n",
      "   ---------------------------------------- 0.0/250.9 kB ? eta -:--:--\n",
      "   ---------------------------------------- 0.0/250.9 kB ? eta -:--:--\n",
      "   ---------------------------------------- 0.0/250.9 kB ? eta -:--:--\n",
      "   ---------------------------------------- 0.0/250.9 kB ? eta -:--:--\n",
      "   ---- ----------------------------------- 30.7/250.9 kB ? eta -:--:--\n",
      "   ---- ----------------------------------- 30.7/250.9 kB ? eta -:--:--\n",
      "   ------ -------------------------------- 41.0/250.9 kB 326.8 kB/s eta 0:00:01\n",
      "   --------- ----------------------------- 61.4/250.9 kB 363.1 kB/s eta 0:00:01\n",
      "   ----------------- -------------------- 112.6/250.9 kB 502.0 kB/s eta 0:00:01\n",
      "   ------------------ ------------------- 122.9/250.9 kB 479.3 kB/s eta 0:00:01\n",
      "   -------------------------- ----------- 174.1/250.9 kB 523.5 kB/s eta 0:00:01\n",
      "   ------------------------------- ------ 204.8/250.9 kB 518.8 kB/s eta 0:00:01\n",
      "   -------------------------------------  245.8/250.9 kB 578.7 kB/s eta 0:00:01\n",
      "   -------------------------------------- 250.9/250.9 kB 513.2 kB/s eta 0:00:00\n",
      "Downloading et_xmlfile-1.1.0-py3-none-any.whl (4.7 kB)\n",
      "Installing collected packages: et-xmlfile, openpyxl\n",
      "Successfully installed et-xmlfile-1.1.0 openpyxl-3.1.5\n",
      "Note: you may need to restart the kernel to use updated packages.\n"
     ]
    }
   ],
   "source": [
    "pip install openpyxl"
   ]
  },
  {
   "cell_type": "code",
   "execution_count": 2,
   "id": "e754f0a7-55cc-4e52-8523-81a49e2a3be3",
   "metadata": {},
   "outputs": [
    {
     "name": "stdout",
     "output_type": "stream",
     "text": [
      "Proportion of matches where the Duckworth-Lewis method was applied: 0.0252\n"
     ]
    }
   ],
   "source": [
    "import pandas as pd\n",
    "\n",
    "# Load the data from the Excel file\n",
    "file_path = 'matches.xlsx'\n",
    "data = pd.read_excel(file_path)\n",
    "\n",
    "# Calculate the proportion of matches where 'dl_applied' is 1\n",
    "dl_applied_matches = data['dl_applied'].sum()\n",
    "total_matches = data.shape[0]\n",
    "proportion_dl_applied = dl_applied_matches / total_matches\n",
    "\n",
    "print(f\"Proportion of matches where the Duckworth-Lewis method was applied: {proportion_dl_applied:.4f}\")\n"
   ]
  },
  {
   "cell_type": "code",
   "execution_count": 3,
   "id": "2f444690-10ba-442d-a534-ba98430bc9f0",
   "metadata": {},
   "outputs": [
    {
     "name": "stdout",
     "output_type": "stream",
     "text": [
      "Proportion of matches won by the team who batted first: 0.4513\n"
     ]
    }
   ],
   "source": [
    "import pandas as pd\n",
    "\n",
    "# Load the data from the Excel file\n",
    "file_path = 'matches.xlsx'\n",
    "data = pd.read_excel(file_path)\n",
    "\n",
    "# Identify the matches won by the team who batted first\n",
    "matches_won_by_first_batting = data[data['win_by_runs'] > 0].shape[0]\n",
    "total_matches = data.shape[0]\n",
    "proportion_first_batting_wins = matches_won_by_first_batting / total_matches\n",
    "\n",
    "print(f\"Proportion of matches won by the team who batted first: {proportion_first_batting_wins:.4f}\")\n"
   ]
  },
  {
   "cell_type": "code",
   "execution_count": 5,
   "id": "c87e1bd2-6672-4081-9192-952a2e9e7234",
   "metadata": {},
   "outputs": [
    {
     "data": {
      "text/plain": [
       "(297, 363)"
      ]
     },
     "execution_count": 5,
     "metadata": {},
     "output_type": "execute_result"
    }
   ],
   "source": [
    "import pandas as pd\n",
    "\n",
    "# Load the data from the Excel file\n",
    "file_path = 'matches.xlsx'\n",
    "data = pd.read_excel(file_path)\n",
    "\n",
    "# Convert 'date' column to datetime\n",
    "data['date'] = pd.to_datetime(data['date'])\n",
    "\n",
    "# Create feature for whether the match was played in April\n",
    "data['is_april'] = data['date'].dt.month == 4\n",
    "\n",
    "# Create feature for whether the toss winners chose to field\n",
    "data['toss_field'] = data['toss_decision'] == 'field'\n",
    "\n",
    "# Create feature for whether the Duckworth-Lewis method was applied\n",
    "data['dl_applied'] = data['dl_applied'] == 1\n",
    "\n",
    "# Count the number of matches played in April\n",
    "num_april_matches = data['is_april'].sum()\n",
    "\n",
    "# Count the number of toss winners who chose to field\n",
    "num_toss_field = data['toss_field'].sum()\n",
    "\n",
    "(num_april_matches, num_toss_field)\n"
   ]
  },
  {
   "cell_type": "code",
   "execution_count": 7,
   "id": "d0dacfb8-b10a-4950-94e1-3a0235677c8f",
   "metadata": {},
   "outputs": [
    {
     "name": "stdout",
     "output_type": "stream",
     "text": [
      "Confusion Matrix:\n",
      "[[107   2]\n",
      " [ 49   1]]\n",
      "\n",
      "Classification Report:\n",
      "              precision    recall  f1-score   support\n",
      "\n",
      "       False       0.69      0.98      0.81       109\n",
      "        True       0.33      0.02      0.04        50\n",
      "\n",
      "    accuracy                           0.68       159\n",
      "   macro avg       0.51      0.50      0.42       159\n",
      "weighted avg       0.58      0.68      0.57       159\n",
      "\n"
     ]
    }
   ],
   "source": [
    "import pandas as pd\n",
    "from sklearn.model_selection import train_test_split\n",
    "from sklearn.tree import DecisionTreeClassifier\n",
    "from sklearn.metrics import confusion_matrix, classification_report\n",
    "\n",
    "# Load the data from the Excel file\n",
    "file_path = 'matches.xlsx'\n",
    "data = pd.read_excel(file_path)\n",
    "\n",
    "# Convert 'date' column to datetime\n",
    "data['date'] = pd.to_datetime(data['date'])\n",
    "\n",
    "# Create feature for whether the match was played in April\n",
    "data['is_april'] = data['date'].dt.month == 4\n",
    "\n",
    "# Create feature for whether the toss winners chose to field\n",
    "data['toss_field'] = data['toss_decision'] == 'field'\n",
    "\n",
    "# Ensure 'dl_applied' is boolean\n",
    "data['dl_applied'] = data['dl_applied'] == 1\n",
    "\n",
    "# Define the target variable for close matches\n",
    "data['close_match'] = ((data['win_by_runs'] <= 20) & (data['win_by_runs'] > 0)) | ((data['win_by_wickets'] <= 4) & (data['win_by_wickets'] > 0))\n",
    "\n",
    "# Select the features and target\n",
    "features = data[['is_april', 'toss_field', 'dl_applied']]\n",
    "target = data['close_match']\n",
    "\n",
    "# Split the data into training and test sets\n",
    "X_train, X_test, y_train, y_test = train_test_split(features, target, test_size=0.25, random_state=999)\n",
    "\n",
    "# Train a decision tree classifier\n",
    "clf = DecisionTreeClassifier(random_state=999)\n",
    "clf.fit(X_train, y_train)\n",
    "\n",
    "# Predict on the test set\n",
    "y_pred = clf.predict(X_test)\n",
    "\n",
    "# Evaluate the classifier\n",
    "cm = confusion_matrix(y_test, y_pred)\n",
    "report = classification_report(y_test, y_pred)\n",
    "\n",
    "print(\"Confusion Matrix:\")\n",
    "print(cm)\n",
    "print(\"\\nClassification Report:\")\n",
    "print(report)\n"
   ]
  },
  {
   "cell_type": "code",
   "execution_count": 1,
   "id": "53b5d3c1-e815-4374-8339-951b854e89f9",
   "metadata": {},
   "outputs": [
    {
     "name": "stdout",
     "output_type": "stream",
     "text": [
      "                Name  Age Nationality  Overall  Acceleration  Aggression  \\\n",
      "0  Cristiano Ronaldo   32    Portugal     94.0          89.0        63.0   \n",
      "1           L. Messi   30   Argentina     93.0          92.0        48.0   \n",
      "2             Neymar   25      Brazil     92.0          94.0        56.0   \n",
      "3          L. Suárez   30     Uruguay     92.0          88.0        78.0   \n",
      "4           M. Neuer   31     Germany     92.0          58.0        29.0   \n",
      "\n",
      "   Agility  Balance  Ball control  Composure  ...  Shot power  Sliding tackle  \\\n",
      "0     89.0     63.0          93.0       95.0  ...        94.0            23.0   \n",
      "1     90.0     95.0          95.0       96.0  ...        85.0            26.0   \n",
      "2     96.0     82.0          95.0       92.0  ...        80.0            33.0   \n",
      "3     86.0     60.0          91.0       83.0  ...        87.0            38.0   \n",
      "4     52.0     35.0          48.0       70.0  ...        25.0            11.0   \n",
      "\n",
      "   Sprint speed  Stamina  Standing tackle  Strength  Vision  Volleys  \\\n",
      "0          91.0     92.0             31.0      80.0    85.0     88.0   \n",
      "1          87.0     73.0             28.0      59.0    90.0     85.0   \n",
      "2          90.0     78.0             24.0      53.0    80.0     83.0   \n",
      "3          77.0     89.0             45.0      80.0    84.0     88.0   \n",
      "4          61.0     44.0             10.0      83.0    70.0     11.0   \n",
      "\n",
      "   Preferred Positions  Preferred Positions Type  \n",
      "0               ST LW                    Forward  \n",
      "1                  RW                    Forward  \n",
      "2                  LW                    Forward  \n",
      "3                  ST                    Forward  \n",
      "4                  GK                 GoalKeeper  \n",
      "\n",
      "[5 rows x 40 columns]\n",
      "The most common Overall score for players in the database is: 66.0\n"
     ]
    }
   ],
   "source": [
    "import pandas as pd\n",
    "\n",
    "# Load the data from the CSV file\n",
    "file_path = 'football_players.csv'\n",
    "\n",
    "# Try different options to handle potential issues with the CSV file\n",
    "try:\n",
    "    data = pd.read_csv(file_path)\n",
    "except UnicodeDecodeError:\n",
    "    data = pd.read_csv(file_path, encoding='ISO-8859-1')\n",
    "except pd.errors.ParserError:\n",
    "    data = pd.read_csv(file_path, delimiter=';')\n",
    "\n",
    "# Display the first few rows of the dataframe to ensure it's loaded correctly\n",
    "print(data.head())\n",
    "\n",
    "# Calculate the most common Overall score\n",
    "most_common_overall = data['Overall'].mode()[0]\n",
    "print(f\"The most common Overall score for players in the database is: {most_common_overall}\")\n"
   ]
  },
  {
   "cell_type": "code",
   "execution_count": 2,
   "id": "42059dbd-bd4f-41fa-92b4-57ed723763ac",
   "metadata": {},
   "outputs": [
    {
     "name": "stderr",
     "output_type": "stream",
     "text": [
      "C:\\Users\\hp\\AppData\\Local\\Temp\\ipykernel_9212\\1254242158.py:31: SettingWithCopyWarning: \n",
      "A value is trying to be set on a copy of a slice from a DataFrame.\n",
      "Try using .loc[row_indexer,col_indexer] = value instead\n",
      "\n",
      "See the caveats in the documentation: https://pandas.pydata.org/pandas-docs/stable/user_guide/indexing.html#returning-a-view-versus-a-copy\n",
      "  central_defenders['Class'] = central_defenders['Overall'].apply(classify_player)\n"
     ]
    },
    {
     "name": "stdout",
     "output_type": "stream",
     "text": [
      "Top 5 most important features:\n",
      "Standing tackle    0.176611\n",
      "Marking            0.139044\n",
      "Interceptions      0.121010\n",
      "Sliding tackle     0.100043\n",
      "Reactions          0.071791\n",
      "dtype: float64\n"
     ]
    },
    {
     "data": {
      "image/png": "[encoded data removed]",
      "text/plain": [
       "<Figure size 1000x600 with 1 Axes>"
      ]
     },
     "metadata": {},
     "output_type": "display_data"
    }
   ],
   "source": [
    "import pandas as pd\n",
    "from sklearn.model_selection import train_test_split\n",
    "from sklearn.ensemble import RandomForestClassifier\n",
    "from sklearn.metrics import classification_report\n",
    "import matplotlib.pyplot as plt\n",
    "import seaborn as sns\n",
    "\n",
    "# Load the data from the CSV file\n",
    "file_path = 'football_players.csv'\n",
    "\n",
    "# Try different options to handle potential issues with the CSV file\n",
    "try:\n",
    "    data = pd.read_csv(file_path)\n",
    "except UnicodeDecodeError:\n",
    "    data = pd.read_csv(file_path, encoding='ISO-8859-1')\n",
    "except pd.errors.ParserError:\n",
    "    data = pd.read_csv(file_path, delimiter=';')\n",
    "\n",
    "# Filter players who can play in central defense\n",
    "central_defenders = data[data['Preferred Positions'].str.contains('CB', na=False)]\n",
    "\n",
    "# Create classification labels\n",
    "def classify_player(overall):\n",
    "    if overall >= 80:\n",
    "        return 'World Class'\n",
    "    elif 70 <= overall < 80:\n",
    "        return 'Good'\n",
    "    else:\n",
    "        return 'Mediocre'\n",
    "\n",
    "central_defenders['Class'] = central_defenders['Overall'].apply(classify_player)\n",
    "\n",
    "# Prepare features and target variable\n",
    "X = central_defenders.select_dtypes(include=[float, int]).drop(columns=['Overall'])\n",
    "y = central_defenders['Class']\n",
    "\n",
    "# Train a random forest classifier\n",
    "rf = RandomForestClassifier(n_estimators=500, random_state=1971)\n",
    "rf.fit(X, y)\n",
    "\n",
    "# Get feature importances\n",
    "feature_importances = pd.Series(rf.feature_importances_, index=X.columns).sort_values(ascending=False)\n",
    "\n",
    "# Display the top 5 most important features\n",
    "top_5_features = feature_importances.head(5)\n",
    "print(\"Top 5 most important features:\")\n",
    "print(top_5_features)\n",
    "\n",
    "# Plot the feature importances\n",
    "plt.figure(figsize=(10, 6))\n",
    "sns.barplot(x=top_5_features.values, y=top_5_features.index)\n",
    "plt.title('Top 5 Most Important Features')\n",
    "plt.xlabel('Feature Importance Score')\n",
    "plt.ylabel('Features')\n",
    "plt.show()\n"
   ]
  },
  {
   "cell_type": "code",
   "execution_count": 2,
   "id": "238d5fe6-3a13-4bf9-9f09-7ed5980a3a9a",
   "metadata": {},
   "outputs": [
    {
     "name": "stdout",
     "output_type": "stream",
     "text": [
      "                Name  Age Nationality  Overall  Acceleration  Aggression  \\\n",
      "0  Cristiano Ronaldo   32    Portugal     94.0          89.0        63.0   \n",
      "1           L. Messi   30   Argentina     93.0          92.0        48.0   \n",
      "2             Neymar   25      Brazil     92.0          94.0        56.0   \n",
      "3          L. Suárez   30     Uruguay     92.0          88.0        78.0   \n",
      "4           M. Neuer   31     Germany     92.0          58.0        29.0   \n",
      "\n",
      "   Agility  Balance  Ball control  Composure  ...  Shot power  Sliding tackle  \\\n",
      "0     89.0     63.0          93.0       95.0  ...        94.0            23.0   \n",
      "1     90.0     95.0          95.0       96.0  ...        85.0            26.0   \n",
      "2     96.0     82.0          95.0       92.0  ...        80.0            33.0   \n",
      "3     86.0     60.0          91.0       83.0  ...        87.0            38.0   \n",
      "4     52.0     35.0          48.0       70.0  ...        25.0            11.0   \n",
      "\n",
      "   Sprint speed  Stamina  Standing tackle  Strength  Vision  Volleys  \\\n",
      "0          91.0     92.0             31.0      80.0    85.0     88.0   \n",
      "1          87.0     73.0             28.0      59.0    90.0     85.0   \n",
      "2          90.0     78.0             24.0      53.0    80.0     83.0   \n",
      "3          77.0     89.0             45.0      80.0    84.0     88.0   \n",
      "4          61.0     44.0             10.0      83.0    70.0     11.0   \n",
      "\n",
      "   Preferred Positions  Preferred Positions Type  \n",
      "0               ST LW                    Forward  \n",
      "1                  RW                    Forward  \n",
      "2                  LW                    Forward  \n",
      "3                  ST                    Forward  \n",
      "4                  GK                 GoalKeeper  \n",
      "\n",
      "[5 rows x 40 columns]\n",
      "Index(['Name', 'Age', 'Nationality', 'Overall', 'Acceleration', 'Aggression',\n",
      "       'Agility', 'Balance', 'Ball control', 'Composure', 'Crossing', 'Curve',\n",
      "       'Dribbling', 'Finishing', 'Free kick accuracy', 'GK diving',\n",
      "       'GK handling', 'GK kicking', 'GK positioning', 'GK reflexes',\n",
      "       'Heading accuracy', 'Interceptions', 'Jumping', 'Long passing',\n",
      "       'Long shots', 'Marking', 'Penalties', 'Positioning', 'Reactions',\n",
      "       'Short passing', 'Shot power', 'Sliding tackle', 'Sprint speed',\n",
      "       'Stamina', 'Standing tackle', 'Strength', 'Vision', 'Volleys',\n",
      "       'Preferred Positions', 'Preferred Positions Type'],\n",
      "      dtype='object')\n"
     ]
    },
    {
     "ename": "KeyError",
     "evalue": "\"['world_class_good_groups'] not found in axis\"",
     "output_type": "error",
     "traceback": [
      "\u001b[1;31m---------------------------------------------------------------------------\u001b[0m",
      "\u001b[1;31mKeyError\u001b[0m                                  Traceback (most recent call last)",
      "Cell \u001b[1;32mIn[2], line 9\u001b[0m\n\u001b[0;32m      6\u001b[0m \u001b[38;5;28mprint\u001b[39m(df\u001b[38;5;241m.\u001b[39mcolumns)\n\u001b[0;32m      7\u001b[0m \u001b[38;5;28;01mfrom\u001b[39;00m \u001b[38;5;21;01msklearn\u001b[39;00m\u001b[38;5;21;01m.\u001b[39;00m\u001b[38;5;21;01mmodel_selection\u001b[39;00m \u001b[38;5;28;01mimport\u001b[39;00m train_test_split\n\u001b[1;32m----> 9\u001b[0m X \u001b[38;5;241m=\u001b[39m df\u001b[38;5;241m.\u001b[39mdrop(columns\u001b[38;5;241m=\u001b[39m[\u001b[38;5;124m'\u001b[39m\u001b[38;5;124mworld_class_good_groups\u001b[39m\u001b[38;5;124m'\u001b[39m])\n\u001b[0;32m     10\u001b[0m y \u001b[38;5;241m=\u001b[39m df[\u001b[38;5;124m'\u001b[39m\u001b[38;5;124mworld_class_good_groups\u001b[39m\u001b[38;5;124m'\u001b[39m]\n\u001b[0;32m     11\u001b[0m X_train, X_test, y_train, y_test \u001b[38;5;241m=\u001b[39m train_test_split(X, y, test_size\u001b[38;5;241m=\u001b[39m\u001b[38;5;241m0.33\u001b[39m, random_state\u001b[38;5;241m=\u001b[39m\u001b[38;5;241m911\u001b[39m)\n",
      "File \u001b[1;32m~\\anaconda3\\envs\\pyhton\\Lib\\site-packages\\pandas\\core\\frame.py:5344\u001b[0m, in \u001b[0;36mDataFrame.drop\u001b[1;34m(self, labels, axis, index, columns, level, inplace, errors)\u001b[0m\n\u001b[0;32m   5196\u001b[0m \u001b[38;5;28;01mdef\u001b[39;00m \u001b[38;5;21mdrop\u001b[39m(\n\u001b[0;32m   5197\u001b[0m     \u001b[38;5;28mself\u001b[39m,\n\u001b[0;32m   5198\u001b[0m     labels: IndexLabel \u001b[38;5;241m|\u001b[39m \u001b[38;5;28;01mNone\u001b[39;00m \u001b[38;5;241m=\u001b[39m \u001b[38;5;28;01mNone\u001b[39;00m,\n\u001b[1;32m   (...)\u001b[0m\n\u001b[0;32m   5205\u001b[0m     errors: IgnoreRaise \u001b[38;5;241m=\u001b[39m \u001b[38;5;124m\"\u001b[39m\u001b[38;5;124mraise\u001b[39m\u001b[38;5;124m\"\u001b[39m,\n\u001b[0;32m   5206\u001b[0m ) \u001b[38;5;241m-\u001b[39m\u001b[38;5;241m>\u001b[39m DataFrame \u001b[38;5;241m|\u001b[39m \u001b[38;5;28;01mNone\u001b[39;00m:\n\u001b[0;32m   5207\u001b[0m \u001b[38;5;250m    \u001b[39m\u001b[38;5;124;03m\"\"\"\u001b[39;00m\n\u001b[0;32m   5208\u001b[0m \u001b[38;5;124;03m    Drop specified labels from rows or columns.\u001b[39;00m\n\u001b[0;32m   5209\u001b[0m \n\u001b[1;32m   (...)\u001b[0m\n\u001b[0;32m   5342\u001b[0m \u001b[38;5;124;03m            weight  1.0     0.8\u001b[39;00m\n\u001b[0;32m   5343\u001b[0m \u001b[38;5;124;03m    \"\"\"\u001b[39;00m\n\u001b[1;32m-> 5344\u001b[0m     \u001b[38;5;28;01mreturn\u001b[39;00m \u001b[38;5;28msuper\u001b[39m()\u001b[38;5;241m.\u001b[39mdrop(\n\u001b[0;32m   5345\u001b[0m         labels\u001b[38;5;241m=\u001b[39mlabels,\n\u001b[0;32m   5346\u001b[0m         axis\u001b[38;5;241m=\u001b[39maxis,\n\u001b[0;32m   5347\u001b[0m         index\u001b[38;5;241m=\u001b[39mindex,\n\u001b[0;32m   5348\u001b[0m         columns\u001b[38;5;241m=\u001b[39mcolumns,\n\u001b[0;32m   5349\u001b[0m         level\u001b[38;5;241m=\u001b[39mlevel,\n\u001b[0;32m   5350\u001b[0m         inplace\u001b[38;5;241m=\u001b[39minplace,\n\u001b[0;32m   5351\u001b[0m         errors\u001b[38;5;241m=\u001b[39merrors,\n\u001b[0;32m   5352\u001b[0m     )\n",
      "File \u001b[1;32m~\\anaconda3\\envs\\pyhton\\Lib\\site-packages\\pandas\\core\\generic.py:4711\u001b[0m, in \u001b[0;36mNDFrame.drop\u001b[1;34m(self, labels, axis, index, columns, level, inplace, errors)\u001b[0m\n\u001b[0;32m   4709\u001b[0m \u001b[38;5;28;01mfor\u001b[39;00m axis, labels \u001b[38;5;129;01min\u001b[39;00m axes\u001b[38;5;241m.\u001b[39mitems():\n\u001b[0;32m   4710\u001b[0m     \u001b[38;5;28;01mif\u001b[39;00m labels \u001b[38;5;129;01mis\u001b[39;00m \u001b[38;5;129;01mnot\u001b[39;00m \u001b[38;5;28;01mNone\u001b[39;00m:\n\u001b[1;32m-> 4711\u001b[0m         obj \u001b[38;5;241m=\u001b[39m obj\u001b[38;5;241m.\u001b[39m_drop_axis(labels, axis, level\u001b[38;5;241m=\u001b[39mlevel, errors\u001b[38;5;241m=\u001b[39merrors)\n\u001b[0;32m   4713\u001b[0m \u001b[38;5;28;01mif\u001b[39;00m inplace:\n\u001b[0;32m   4714\u001b[0m     \u001b[38;5;28mself\u001b[39m\u001b[38;5;241m.\u001b[39m_update_inplace(obj)\n",
      "File \u001b[1;32m~\\anaconda3\\envs\\pyhton\\Lib\\site-packages\\pandas\\core\\generic.py:4753\u001b[0m, in \u001b[0;36mNDFrame._drop_axis\u001b[1;34m(self, labels, axis, level, errors, only_slice)\u001b[0m\n\u001b[0;32m   4751\u001b[0m         new_axis \u001b[38;5;241m=\u001b[39m axis\u001b[38;5;241m.\u001b[39mdrop(labels, level\u001b[38;5;241m=\u001b[39mlevel, errors\u001b[38;5;241m=\u001b[39merrors)\n\u001b[0;32m   4752\u001b[0m     \u001b[38;5;28;01melse\u001b[39;00m:\n\u001b[1;32m-> 4753\u001b[0m         new_axis \u001b[38;5;241m=\u001b[39m axis\u001b[38;5;241m.\u001b[39mdrop(labels, errors\u001b[38;5;241m=\u001b[39merrors)\n\u001b[0;32m   4754\u001b[0m     indexer \u001b[38;5;241m=\u001b[39m axis\u001b[38;5;241m.\u001b[39mget_indexer(new_axis)\n\u001b[0;32m   4756\u001b[0m \u001b[38;5;66;03m# Case for non-unique axis\u001b[39;00m\n\u001b[0;32m   4757\u001b[0m \u001b[38;5;28;01melse\u001b[39;00m:\n",
      "File \u001b[1;32m~\\anaconda3\\envs\\pyhton\\Lib\\site-packages\\pandas\\core\\indexes\\base.py:7000\u001b[0m, in \u001b[0;36mIndex.drop\u001b[1;34m(self, labels, errors)\u001b[0m\n\u001b[0;32m   6998\u001b[0m \u001b[38;5;28;01mif\u001b[39;00m mask\u001b[38;5;241m.\u001b[39many():\n\u001b[0;32m   6999\u001b[0m     \u001b[38;5;28;01mif\u001b[39;00m errors \u001b[38;5;241m!=\u001b[39m \u001b[38;5;124m\"\u001b[39m\u001b[38;5;124mignore\u001b[39m\u001b[38;5;124m\"\u001b[39m:\n\u001b[1;32m-> 7000\u001b[0m         \u001b[38;5;28;01mraise\u001b[39;00m \u001b[38;5;167;01mKeyError\u001b[39;00m(\u001b[38;5;124mf\u001b[39m\u001b[38;5;124m\"\u001b[39m\u001b[38;5;132;01m{\u001b[39;00mlabels[mask]\u001b[38;5;241m.\u001b[39mtolist()\u001b[38;5;132;01m}\u001b[39;00m\u001b[38;5;124m not found in axis\u001b[39m\u001b[38;5;124m\"\u001b[39m)\n\u001b[0;32m   7001\u001b[0m     indexer \u001b[38;5;241m=\u001b[39m indexer[\u001b[38;5;241m~\u001b[39mmask]\n\u001b[0;32m   7002\u001b[0m \u001b[38;5;28;01mreturn\u001b[39;00m \u001b[38;5;28mself\u001b[39m\u001b[38;5;241m.\u001b[39mdelete(indexer)\n",
      "\u001b[1;31mKeyError\u001b[0m: \"['world_class_good_groups'] not found in axis\""
     ]
    }
   ],
   "source": [
    "import pandas as pd\n",
    "\n",
    "file_path = 'football_players.csv'\n",
    "df = pd.read_csv(file_path, encoding='ISO-8859-1')  # Try different encodings if necessary\n",
    "print(df.head())\n",
    "print(df.columns)\n",
    "from sklearn.model_selection import train_test_split\n",
    "\n",
    "X = df.drop(columns=['world_class_good_groups'])\n",
    "y = df['world_class_good_groups']\n",
    "X_train, X_test, y_train, y_test = train_test_split(X, y, test_size=0.33, random_state=911)\n",
    "from sklearn.preprocessing import StandardScaler\n",
    "\n",
    "scaler = StandardScaler()\n",
    "X_train = scaler.fit_transform(X_train)\n",
    "X_test = scaler.transform(X_test)\n",
    "from sklearn.neighbors import KNeighborsClassifier\n",
    "from sklearn.metrics import f1_score\n",
    "\n",
    "best_k = 1\n",
    "best_f1 = 0\n",
    "for k in range(1, 6):\n",
    "    knn = KNeighborsClassifier(n_neighbors=k)\n",
    "    knn.fit(X_train, y_train)\n",
    "    y_pred = knn.predict(X_test)\n",
    "    f1 = f1_score(y_test, y_pred, average='weighted')  # or 'macro'/'micro' depending on your needs\n",
    "    print(f'k={k}, F1 Score={f1}')\n",
    "    if f1 > best_f1:\n",
    "        best_f1 = f1\n",
    "        best_k = k\n",
    "\n",
    "print(f'Best k: {best_k}, Best F1 Score: {best_f1}')\n"
   ]
  },
  {
   "cell_type": "code",
   "execution_count": 1,
   "id": "3b709b3f-37fa-4d0a-8725-8088a42b67c4",
   "metadata": {},
   "outputs": [
    {
     "name": "stderr",
     "output_type": "stream",
     "text": [
      "[nltk_data] Downloading package stopwords to\n",
      "[nltk_data]     C:\\Users\\hp\\AppData\\Roaming\\nltk_data...\n"
     ]
    },
    {
     "name": "stdout",
     "output_type": "stream",
     "text": [
      "Cleaned sentence: i’m time student explore software\n",
      "Bi-grams: [('i’m', 'time'), ('time', 'student'), ('student', 'explore'), ('explore', 'software')]\n",
      "Number of bi-grams: 4\n"
     ]
    },
    {
     "name": "stderr",
     "output_type": "stream",
     "text": [
      "[nltk_data]   Unzipping corpora\\stopwords.zip.\n"
     ]
    }
   ],
   "source": [
    "import string\n",
    "from sklearn.feature_extraction.text import ENGLISH_STOP_WORDS\n",
    "from nltk.util import ngrams\n",
    "import nltk\n",
    "\n",
    "# Download NLTK stopwords if not already downloaded\n",
    "nltk.download('stopwords')\n",
    "\n",
    "# Sample sentence\n",
    "sentence = \"I’m a part-time student @explore-software.\"\n",
    "\n",
    "# Step 1: Remove punctuation and replace with a single white space\n",
    "translator = str.maketrans(string.punctuation, ' ' * len(string.punctuation))\n",
    "cleaned_sentence = sentence.translate(translator)\n",
    "\n",
    "# Step 2: Convert all text to lower case\n",
    "cleaned_sentence = cleaned_sentence.lower()\n",
    "\n",
    "# Step 3: Remove stopwords\n",
    "stopwords = set(ENGLISH_STOP_WORDS)\n",
    "cleaned_sentence = ' '.join([word for word in cleaned_sentence.split() if word not in stopwords])\n",
    "\n",
    "# Step 4: Create bi-grams\n",
    "bi_grams = list(ngrams(cleaned_sentence.split(), 2))\n",
    "\n",
    "# Result\n",
    "num_bi_grams = len(bi_grams)\n",
    "print(f\"Cleaned sentence: {cleaned_sentence}\")\n",
    "print(f\"Bi-grams: {bi_grams}\")\n",
    "print(f\"Number of bi-grams: {num_bi_grams}\")\n"
   ]
  },
  {
   "cell_type": "code",
   "execution_count": 1,
   "id": "16aa6262-ec5d-41aa-b39e-7f01732b8744",
   "metadata": {},
   "outputs": [
    {
     "name": "stdout",
     "output_type": "stream",
     "text": [
      "Requirement already satisfied: nltk in c:\\users\\hp\\anaconda3\\envs\\pyhton\\lib\\site-packages (3.8.1)\n",
      "Requirement already satisfied: click in c:\\users\\hp\\anaconda3\\envs\\pyhton\\lib\\site-packages (from nltk) (8.1.7)\n",
      "Requirement already satisfied: joblib in c:\\users\\hp\\anaconda3\\envs\\pyhton\\lib\\site-packages (from nltk) (1.2.0)\n",
      "Requirement already satisfied: regex>=2021.8.3 in c:\\users\\hp\\anaconda3\\envs\\pyhton\\lib\\site-packages (from nltk) (2024.7.24)\n",
      "Requirement already satisfied: tqdm in c:\\users\\hp\\anaconda3\\envs\\pyhton\\lib\\site-packages (from nltk) (4.66.2)\n",
      "Requirement already satisfied: colorama in c:\\users\\hp\\anaconda3\\envs\\pyhton\\lib\\site-packages (from click->nltk) (0.4.6)\n",
      "Note: you may need to restart the kernel to use updated packages.\n"
     ]
    }
   ],
   "source": [
    "pip install nltk"
   ]
  },
  {
   "cell_type": "code",
   "execution_count": 2,
   "id": "82d20f8a-400c-4b92-aa14-16cb4005eb28",
   "metadata": {},
   "outputs": [
    {
     "name": "stdout",
     "output_type": "stream",
     "text": [
      "Cleaned sentence: i’m time student explore software\n",
      "Bi-grams: [('i’m', 'time'), ('time', 'student'), ('student', 'explore'), ('explore', 'software')]\n",
      "Number of bi-grams: 4\n"
     ]
    },
    {
     "name": "stderr",
     "output_type": "stream",
     "text": [
      "[nltk_data] Downloading package stopwords to\n",
      "[nltk_data]     C:\\Users\\hp\\AppData\\Roaming\\nltk_data...\n",
      "[nltk_data]   Package stopwords is already up-to-date!\n"
     ]
    }
   ],
   "source": [
    "import string\n",
    "from sklearn.feature_extraction.text import ENGLISH_STOP_WORDS\n",
    "from nltk.util import ngrams\n",
    "import nltk\n",
    "\n",
    "# Download NLTK stopwords if not already downloaded\n",
    "nltk.download('stopwords')\n",
    "\n",
    "# Sample sentence\n",
    "sentence = \"I’m a part-time student @explore-software.\"\n",
    "\n",
    "# Step 1: Remove punctuation and replace with a single white space\n",
    "translator = str.maketrans(string.punctuation, ' ' * len(string.punctuation))\n",
    "cleaned_sentence = sentence.translate(translator)\n",
    "\n",
    "# Step 2: Convert all text to lower case\n",
    "cleaned_sentence = cleaned_sentence.lower()\n",
    "\n",
    "# Step 3: Remove stopwords\n",
    "stopwords = set(ENGLISH_STOP_WORDS)\n",
    "cleaned_sentence = ' '.join([word for word in cleaned_sentence.split() if word not in stopwords])\n",
    "\n",
    "# Step 4: Create bi-grams\n",
    "bi_grams = list(ngrams(cleaned_sentence.split(), 2))\n",
    "\n",
    "# Result\n",
    "num_bi_grams = len(bi_grams)\n",
    "print(f\"Cleaned sentence: {cleaned_sentence}\")\n",
    "print(f\"Bi-grams: {bi_grams}\")\n",
    "print(f\"Number of bi-grams: {num_bi_grams}\")\n"
   ]
  },
  {
   "cell_type": "code",
   "execution_count": 6,
   "id": "b0bff6d2-168e-48e8-953e-4dc526924ab9",
   "metadata": {},
   "outputs": [
    {
     "name": "stdout",
     "output_type": "stream",
     "text": [
      "Number of intuitive (N) students: 67\n",
      "Number of sensing (S) students: 26\n",
      "Ratio of intuitive (N) students to sensing (S) students: 2.576923076923077\n"
     ]
    }
   ],
   "source": [
    "import pandas as pd\n",
    "\n",
    "# Load the data from the CSV file\n",
    "file_path = 'Essay_data.csv'\n",
    "data = pd.read_csv(file_path)\n",
    "\n",
    "# Drop rows with missing values and reset the index\n",
    "data = data.dropna().reset_index(drop=True)\n",
    "\n",
    "# Count the number of intuitive (N) and sensing (S) students\n",
    "num_intuitive = sum(data['N/S'] == 'N')\n",
    "num_sensing = sum(data['N/S'] == 'S')\n",
    "\n",
    "# Calculate the ratio\n",
    "ratio = num_intuitive / num_sensing if num_sensing != 0 else None\n",
    "\n",
    "print(f\"Number of intuitive (N) students: {num_intuitive}\")\n",
    "print(f\"Number of sensing (S) students: {num_sensing}\")\n",
    "print(f\"Ratio of intuitive (N) students to sensing (S) students: {ratio}\")\n"
   ]
  },
  {
   "cell_type": "code",
   "execution_count": 4,
   "id": "3c3799e5-22ab-4e66-81f3-0ac7be0ba7d5",
   "metadata": {},
   "outputs": [
    {
     "name": "stdout",
     "output_type": "stream",
     "text": [
      "Index(['I/E', 'N/S', 'T/F', 'J/P', 'Essay'], dtype='object')\n"
     ]
    }
   ],
   "source": [
    "import pandas as pd\n",
    "\n",
    "# Load the data from the CSV file\n",
    "file_path = 'Essay_data.csv'\n",
    "data = pd.read_csv(file_path)\n",
    "\n",
    "# Display the column names to identify the correct column for personality types\n",
    "print(data.columns)\n"
   ]
  },
  {
   "cell_type": "code",
   "execution_count": 7,
   "id": "71476c56-4430-4268-b684-b51401ad9c3d",
   "metadata": {},
   "outputs": [
    {
     "name": "stdout",
     "output_type": "stream",
     "text": [
      "The 10th character in the first cleaned essay is: '4'\n"
     ]
    }
   ],
   "source": [
    "import pandas as pd\n",
    "import string\n",
    "\n",
    "# Load the data from the CSV file\n",
    "file_path = 'Essay_data.csv'\n",
    "data = pd.read_csv(file_path)\n",
    "\n",
    "# Drop rows with missing values and reset the index\n",
    "data = data.dropna().reset_index(drop=True)\n",
    "\n",
    "# Function to remove punctuation and convert to lower case\n",
    "def clean_text(text):\n",
    "    text = text.lower()\n",
    "    text = text.translate(str.maketrans('', '', string.punctuation))\n",
    "    return text\n",
    "\n",
    "# Apply the cleaning function to the 'Essay' column\n",
    "data['Cleaned_Essay'] = data['Essay'].apply(clean_text)\n",
    "\n",
    "# Get the 10th character in the first essay after cleaning\n",
    "first_essay_cleaned = data['Cleaned_Essay'].iloc[0]\n",
    "tenth_character = first_essay_cleaned[9] if len(first_essay_cleaned) > 9 else None\n",
    "\n",
    "print(f\"The 10th character in the first cleaned essay is: '{tenth_character}'\")\n"
   ]
  },
  {
   "cell_type": "code",
   "execution_count": 9,
   "id": "ca8fe626-41aa-43b3-be2e-60caa8dfc955",
   "metadata": {},
   "outputs": [
    {
     "name": "stderr",
     "output_type": "stream",
     "text": [
      "[nltk_data] Downloading package punkt to\n",
      "[nltk_data]     C:\\Users\\hp\\AppData\\Roaming\\nltk_data...\n",
      "[nltk_data]   Unzipping tokenizers\\punkt.zip.\n"
     ]
    },
    {
     "name": "stdout",
     "output_type": "stream",
     "text": [
      "The number of tokens in the 17th essay is: 440\n"
     ]
    }
   ],
   "source": [
    "import pandas as pd\n",
    "import nltk\n",
    "from nltk.tokenize import word_tokenize\n",
    "import string\n",
    "\n",
    "# Load the data from the CSV file\n",
    "file_path = 'Essay_data.csv'\n",
    "data = pd.read_csv(file_path)\n",
    "\n",
    "# Drop rows with missing values and reset the index\n",
    "data = data.dropna().reset_index(drop=True)\n",
    "\n",
    "# Ensure the necessary NLTK data package is downloaded\n",
    "nltk.download('punkt')\n",
    "\n",
    "# Function to remove punctuation, convert to lower case, and tokenize\n",
    "def tokenize_text(text):\n",
    "    text = text.lower()\n",
    "    text = text.translate(str.maketrans('', '', string.punctuation))\n",
    "    tokens = word_tokenize(text)\n",
    "    return tokens\n",
    "\n",
    "# Apply the tokenization function to the 'Essay' column\n",
    "data['Tokens'] = data['Essay'].apply(tokenize_text)\n",
    "\n",
    "# Get the number of tokens in the 17th essay\n",
    "seventeenth_essay_tokens = data['Tokens'].iloc[16]\n",
    "num_tokens = len(seventeenth_essay_tokens)\n",
    "\n",
    "print(f\"The number of tokens in the 17th essay is: {num_tokens}\")\n"
   ]
  },
  {
   "cell_type": "code",
   "execution_count": 10,
   "id": "4a75ac48-1a22-4195-a46f-f6851f0ad8bf",
   "metadata": {},
   "outputs": [
    {
     "name": "stdout",
     "output_type": "stream",
     "text": [
      "experi\n"
     ]
    }
   ],
   "source": [
    "from nltk.stem.snowball import SnowballStemmer\n",
    "\n",
    "# Create a SnowballStemmer object for English\n",
    "stemmer = SnowballStemmer(\"english\")\n",
    "\n",
    "# Stem the word \"experiences\"\n",
    "stemmed_word = stemmer.stem(\"experiences\")\n",
    "print(stemmed_word)\n",
    "\n"
   ]
  },
  {
   "cell_type": "code",
   "execution_count": 11,
   "id": "3790814c-7520-47dc-9cd3-7d0b5d74f985",
   "metadata": {},
   "outputs": [
    {
     "name": "stderr",
     "output_type": "stream",
     "text": [
      "[nltk_data] Downloading package punkt to\n",
      "[nltk_data]     C:\\Users\\hp\\AppData\\Roaming\\nltk_data...\n",
      "[nltk_data]   Package punkt is already up-to-date!\n",
      "[nltk_data] Downloading package stopwords to\n",
      "[nltk_data]     C:\\Users\\hp\\AppData\\Roaming\\nltk_data...\n",
      "[nltk_data]   Package stopwords is already up-to-date!\n"
     ]
    },
    {
     "name": "stdout",
     "output_type": "stream",
     "text": [
      "The 24th token in the 81st essay is: collaborated\n"
     ]
    }
   ],
   "source": [
    "import pandas as pd\n",
    "from nltk.corpus import stopwords\n",
    "from nltk.tokenize import word_tokenize\n",
    "\n",
    "# Load the data\n",
    "df = pd.read_csv(\"Essay_data.csv\")\n",
    "\n",
    "# Ensure NLTK stopwords are downloaded\n",
    "import nltk\n",
    "nltk.download('punkt')\n",
    "nltk.download('stopwords')\n",
    "\n",
    "# Define stop words\n",
    "stop_words = set(stopwords.words('english'))\n",
    "\n",
    "# Function to remove stop words\n",
    "def remove_stopwords(text):\n",
    "    words = word_tokenize(text)\n",
    "    filtered_words = [word for word in words if word.lower() not in stop_words]\n",
    "    return filtered_words\n",
    "\n",
    "# Get the 81st essay\n",
    "essay_81 = df['Essay'][80]  # Index 80 for the 81st item\n",
    "\n",
    "# Remove stop words\n",
    "filtered_tokens = remove_stopwords(essay_81)\n",
    "\n",
    "# Get the 24th token\n",
    "token_24 = filtered_tokens[23]  # Index 23 for the 24th token\n",
    "\n",
    "print(\"The 24th token in the 81st essay is:\", token_24)"
   ]
  },
  {
   "cell_type": "code",
   "execution_count": 16,
   "id": "63b8057c-a443-4985-9c1e-281a21f75144",
   "metadata": {},
   "outputs": [
    {
     "name": "stdout",
     "output_type": "stream",
     "text": [
      "self\n"
     ]
    },
    {
     "name": "stderr",
     "output_type": "stream",
     "text": [
      "[nltk_data] Downloading package stopwords to\n",
      "[nltk_data]     C:\\Users\\hp\\AppData\\Roaming\\nltk_data...\n",
      "[nltk_data]   Package stopwords is already up-to-date!\n"
     ]
    }
   ],
   "source": [
    "import pandas as pd\n",
    "import nltk\n",
    "from nltk.corpus import stopwords\n",
    "import string\n",
    "\n",
    "# Load the data\n",
    "file_path = 'Essay_data.csv'  # Replace with the correct path to your file\n",
    "data = pd.read_csv(file_path)\n",
    "\n",
    "# Remove rows with missing values and reset index\n",
    "data = data.dropna().reset_index(drop=True)\n",
    "\n",
    "# Define stop words and punctuation\n",
    "nltk.download('stopwords')\n",
    "stop_words = set(stopwords.words('english'))\n",
    "punctuation_table = str.maketrans(string.punctuation, ' ' * len(string.punctuation))\n",
    "\n",
    "# Process the 81st essay: remove punctuation, convert to lower case, and remove stop words\n",
    "essay = data.loc[80, 'Essay']  # 81st essay (0-indexed)\n",
    "essay = essay.translate(punctuation_table).lower()  # Remove punctuation and convert to lower case\n",
    "tokens = nltk.word_tokenize(essay)  # Tokenize the essay\n",
    "filtered_tokens = [word for word in tokens if word not in stop_words]  # Remove stop words\n",
    "\n",
    "# Get the 24th token\n",
    "twenty_fourth_token = filtered_tokens[23]  # 0-indexed\n",
    "print(twenty_fourth_token)\n"
   ]
  },
  {
   "cell_type": "code",
   "execution_count": 14,
   "id": "eb07ade4-5bc8-4733-aaf3-6274c331b0ef",
   "metadata": {},
   "outputs": [
    {
     "name": "stderr",
     "output_type": "stream",
     "text": [
      "[nltk_data] Downloading package stopwords to\n",
      "[nltk_data]     C:\\Users\\hp\\AppData\\Roaming\\nltk_data...\n",
      "[nltk_data]   Package stopwords is already up-to-date!\n"
     ]
    },
    {
     "name": "stdout",
     "output_type": "stream",
     "text": [
      "3287\n"
     ]
    }
   ],
   "source": [
    "import pandas as pd\n",
    "import nltk\n",
    "from nltk.corpus import stopwords\n",
    "import string\n",
    "\n",
    "# Load the data\n",
    "file_path = 'Essay_data.csv'  # Replace with the correct path to your file\n",
    "data = pd.read_csv(file_path)\n",
    "\n",
    "# Remove rows with missing values and reset index\n",
    "data = data.dropna().reset_index(drop=True)\n",
    "\n",
    "# Define stop words and punctuation\n",
    "nltk.download('stopwords')\n",
    "stop_words = set(stopwords.words('english'))\n",
    "punctuation_table = str.maketrans(string.punctuation, ' ' * len(string.punctuation))\n",
    "\n",
    "# Process all essays: remove punctuation, convert to lower case, and remove stop words\n",
    "all_words = set()\n",
    "for essay in data['Essay']:\n",
    "    essay = essay.translate(punctuation_table).lower()  # Remove punctuation and convert to lower case\n",
    "    tokens = nltk.word_tokenize(essay)  # Tokenize the essay\n",
    "    filtered_tokens = [word for word in tokens if word not in stop_words]  # Remove stop words\n",
    "    all_words.update(filtered_tokens)\n",
    "\n",
    "# Get the number of unique words\n",
    "unique_words_count = len(all_words)\n",
    "print(unique_words_count)\n"
   ]
  },
  {
   "cell_type": "code",
   "execution_count": 17,
   "id": "4f88e9c9-130d-44cc-a700-33398dd42307",
   "metadata": {},
   "outputs": [
    {
     "name": "stdout",
     "output_type": "stream",
     "text": [
      "The word 'time' was mentioned 2 times in the 56th essay.\n"
     ]
    }
   ],
   "source": [
    "import pandas as pd\n",
    "import string\n",
    "from sklearn.feature_extraction.text import CountVectorizer\n",
    "\n",
    "# Load the data\n",
    "file_path = 'Essay_data.csv'  # Replace with the correct path if needed\n",
    "data = pd.read_csv(file_path)\n",
    "\n",
    "# Remove rows with missing values and reset index\n",
    "data = data.dropna().reset_index(drop=True)\n",
    "\n",
    "# Select the 56th essay\n",
    "essay_56 = data.loc[55, 'Essay']\n",
    "\n",
    "# Preprocess the essay: remove punctuation and convert to lower case\n",
    "essay_56_cleaned = essay_56.translate(str.maketrans(string.punctuation, ' ' * len(string.punctuation))).lower()\n",
    "\n",
    "# Create a bag of words\n",
    "vectorizer = CountVectorizer()\n",
    "X = vectorizer.fit_transform([essay_56_cleaned])\n",
    "bag_of_words = X.toarray()[0]\n",
    "\n",
    "# Get the index of the word 'time'\n",
    "word_index = vectorizer.vocabulary_.get('time')\n",
    "\n",
    "# Get the count of the word 'time'\n",
    "time_count = bag_of_words[word_index] if word_index is not None else 0\n",
    "\n",
    "print(f\"The word 'time' was mentioned {time_count} times in the 56th essay.\")\n"
   ]
  },
  {
   "cell_type": "code",
   "execution_count": 18,
   "id": "9faff228-4927-43e4-8ae4-9a774f10b54e",
   "metadata": {},
   "outputs": [
    {
     "name": "stdout",
     "output_type": "stream",
     "text": [
      "Words that appear at least twice account for 90.51% of the total number of words in the essays.\n"
     ]
    },
    {
     "name": "stderr",
     "output_type": "stream",
     "text": [
      "[nltk_data] Downloading package stopwords to\n",
      "[nltk_data]     C:\\Users\\hp\\AppData\\Roaming\\nltk_data...\n",
      "[nltk_data]   Package stopwords is already up-to-date!\n"
     ]
    }
   ],
   "source": [
    "import pandas as pd\n",
    "import string\n",
    "from collections import Counter\n",
    "import nltk\n",
    "from nltk.corpus import stopwords\n",
    "\n",
    "# Load the data\n",
    "file_path = 'Essay_data.csv'\n",
    "data = pd.read_csv(file_path)\n",
    "\n",
    "# Drop rows with missing values and reset index\n",
    "data = data.dropna().reset_index(drop=True)\n",
    "\n",
    "# Combine all essays into one large string\n",
    "all_essays = ' '.join(data['Essay'])\n",
    "\n",
    "# Preprocess the text: remove punctuation, convert to lower case, and tokenize\n",
    "translator = str.maketrans(string.punctuation, ' ' * len(string.punctuation))\n",
    "all_essays_cleaned = all_essays.translate(translator).lower()\n",
    "tokens = nltk.word_tokenize(all_essays_cleaned)\n",
    "\n",
    "# Remove stopwords\n",
    "nltk.download('stopwords')\n",
    "stop_words = set(stopwords.words('english'))\n",
    "filtered_tokens = [word for word in tokens if word not in stop_words]\n",
    "\n",
    "# Count the frequency of each word\n",
    "word_counts = Counter(filtered_tokens)\n",
    "\n",
    "# Calculate the total number of words\n",
    "total_words = len(filtered_tokens)\n",
    "\n",
    "# Calculate the number of words that appear at least twice\n",
    "words_at_least_twice = sum(count for word, count in word_counts.items() if count >= 2)\n",
    "\n",
    "# Calculate the percentage\n",
    "percentage = (words_at_least_twice / total_words) * 100\n",
    "\n",
    "print(f\"Words that appear at least twice account for {percentage:.2f}% of the total number of words in the essays.\")\n"
   ]
  },
  {
   "cell_type": "code",
   "execution_count": 19,
   "id": "a3283aed-b499-4cb0-8d39-0821a6dc8b7f",
   "metadata": {},
   "outputs": [
    {
     "name": "stdout",
     "output_type": "stream",
     "text": [
      "The most commonly mentioned word by ENFJ personalities is 'team' with 33 mentions.\n"
     ]
    },
    {
     "name": "stderr",
     "output_type": "stream",
     "text": [
      "[nltk_data] Downloading package stopwords to\n",
      "[nltk_data]     C:\\Users\\hp\\AppData\\Roaming\\nltk_data...\n",
      "[nltk_data]   Package stopwords is already up-to-date!\n"
     ]
    }
   ],
   "source": [
    "import pandas as pd\n",
    "import string\n",
    "from collections import Counter\n",
    "import nltk\n",
    "from nltk.corpus import stopwords\n",
    "\n",
    "# Load the data\n",
    "file_path = 'Essay_data.csv'\n",
    "data = pd.read_csv(file_path)\n",
    "\n",
    "# Drop rows with missing values and reset index\n",
    "data = data.dropna().reset_index(drop=True)\n",
    "\n",
    "# Filter for ENFJ personalities\n",
    "enfj_essays = data[data['I/E'] == 'E']\n",
    "enfj_essays = enfj_essays[enfj_essays['N/S'] == 'N']\n",
    "enfj_essays = enfj_essays[enfj_essays['T/F'] == 'F']\n",
    "enfj_essays = enfj_essays[enfj_essays['J/P'] == 'J']\n",
    "\n",
    "# Combine all ENFJ essays into one large string\n",
    "all_enfj_essays = ' '.join(enfj_essays['Essay'])\n",
    "\n",
    "# Preprocess the text: remove punctuation, convert to lower case, and tokenize\n",
    "translator = str.maketrans(string.punctuation, ' ' * len(string.punctuation))\n",
    "all_enfj_essays_cleaned = all_enfj_essays.translate(translator).lower()\n",
    "tokens = nltk.word_tokenize(all_enfj_essays_cleaned)\n",
    "\n",
    "# Remove stopwords\n",
    "nltk.download('stopwords')\n",
    "stop_words = set(stopwords.words('english'))\n",
    "filtered_tokens = [word for word in tokens if word not in stop_words]\n",
    "\n",
    "# Count the frequency of each word\n",
    "word_counts = Counter(filtered_tokens)\n",
    "\n",
    "# Identify the most commonly mentioned word\n",
    "most_common_word = word_counts.most_common(1)[0]\n",
    "\n",
    "print(f\"The most commonly mentioned word by ENFJ personalities is '{most_common_word[0]}' with {most_common_word[1]} mentions.\")\n"
   ]
  },
  {
   "cell_type": "code",
   "execution_count": 20,
   "id": "6a078cd3-e02a-4de7-b514-55019bb82e90",
   "metadata": {},
   "outputs": [
    {
     "name": "stdout",
     "output_type": "stream",
     "text": [
      "The 109th bi-gram in the 70th essay is: ('quite', 'well')\n"
     ]
    }
   ],
   "source": [
    "import pandas as pd\n",
    "import string\n",
    "from nltk.util import ngrams\n",
    "from nltk.corpus import stopwords\n",
    "import nltk\n",
    "\n",
    "# Load the data\n",
    "file_path = 'Essay_data.csv'\n",
    "data = pd.read_csv(file_path)\n",
    "\n",
    "# Drop rows with missing values and reset index\n",
    "data = data.dropna().reset_index(drop=True)\n",
    "\n",
    "# Function to preprocess text and generate bi-grams\n",
    "def generate_bigrams(text):\n",
    "    # Remove punctuation\n",
    "    translator = str.maketrans(string.punctuation, ' ' * len(string.punctuation))\n",
    "    text = text.translate(translator)\n",
    "    \n",
    "    # Convert to lower case\n",
    "    text = text.lower()\n",
    "    \n",
    "    # Tokenize\n",
    "    tokens = nltk.word_tokenize(text)\n",
    "    \n",
    "    # Remove stopwords\n",
    "    stop_words = set(stopwords.words('english'))\n",
    "    tokens = [word for word in tokens if word not in stop_words]\n",
    "    \n",
    "    # Generate bi-grams\n",
    "    bi_grams = list(ngrams(tokens, 2))\n",
    "    \n",
    "    return bi_grams\n",
    "\n",
    "# Apply the function to generate bi-grams for each essay\n",
    "data['bi_grams'] = data['Essay'].apply(generate_bigrams)\n",
    "\n",
    "# Find the 109th bi-gram in the 70th essay\n",
    "bi_gram_109th_in_70th_essay = data['bi_grams'][69][108] if len(data['bi_grams'][69]) > 108 else None\n",
    "\n",
    "print(f\"The 109th bi-gram in the 70th essay is: {bi_gram_109th_in_70th_essay}\")\n"
   ]
  },
  {
   "cell_type": "code",
   "execution_count": null,
   "id": "df5e08bc-e917-4482-898c-c936ae16a56e",
   "metadata": {},
   "outputs": [],
   "source": [
    "import pandas as pd\n",
    "from sklearn.model_selection import train_test_split\n",
    "from sklearn.preprocessing import LabelEncoder, StandardScaler\n",
    "from sklearn.neighbors import KNeighborsClassifier\n",
    "from sklearn.metrics import f1_score\n",
    "\n",
    "# Load the CSV file\n",
    "file_path = '/mnt/data/football_players.csv'\n",
    "\n",
    "# Attempt to load the file into a pandas DataFrame\n",
    "try:\n",
    "    df = pd.read_csv(file_path)\n",
    "except Exception as e:\n",
    "    df = pd.read_csv(file_path, encoding='ISO-8859-1')\n",
    "\n",
    "# Encode the categorical 'Preferred Positions Type' using LabelEncoder\n",
    "label_encoder = LabelEncoder()\n",
    "df['Preferred Positions Type'] = label_encoder.fit_transform(df['Preferred Positions Type'])\n",
    "\n",
    "# Selecting features and target variable\n",
    "features = df.drop(columns=['Name', 'Nationality', 'Preferred Positions'])\n",
    "target = df['Preferred Positions Type']\n",
    "\n",
    "# Splitting the data into train and test sets (33% test, 67% train)\n",
    "X_train, X_test, y_train, y_test = train_test_split(features, target, test_size=0.33, random_state=911)\n",
    "\n",
    "# Standardizing the features\n",
    "scaler = StandardScaler()\n",
    "X_train_scaled = scaler.fit_transform(X_train)\n",
    "X_test_scaled = scaler.transform(X_test)\n",
    "\n",
    "# Train KNN models with k ranging from 1 to 5 and evaluate the F1 scores\n",
    "f1_scores = {}\n",
    "for k in range(1, 6):\n",
    "    knn = KNeighborsClassifier(n_neighbors=k)\n",
    "    knn.fit(X_train_scaled, y_train)\n",
    "    y_pred = knn.predict(X_test_scaled)\n",
    "    f1 = f1_score(y_test, y_pred, average='weighted')\n",
    "    f1_scores[k] = f1\n",
    "\n",
    "# Print the F1 scores\n",
    "print(f1_scores)\n"
   ]
  }
 ],
 "metadata": {
  "kernelspec": {
   "display_name": "Python 3 (ipykernel)",
   "language": "python",
   "name": "python3"
  },
  "language_info": {
   "codemirror_mode": {
    "name": "ipython",
    "version": 3
   },
   "file_extension": ".py",
   "mimetype": "text/x-python",
   "name": "python",
   "nbconvert_exporter": "python",
   "pygments_lexer": "ipython3",
   "version": "3.11.8"
  }
 },
 "nbformat": 4,
 "nbformat_minor": 5
}
